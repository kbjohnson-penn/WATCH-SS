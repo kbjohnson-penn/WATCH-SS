{
 "cells": [
  {
   "cell_type": "markdown",
   "metadata": {
    "application/vnd.databricks.v1+cell": {
     "cellMetadata": {
      "byteLimit": 2048000,
      "rowLimit": 10000
     },
     "inputWidgets": {},
     "nuid": "f6de36c3-ec25-488c-b618-508756fed11c",
     "showTitle": false,
     "tableResultSettingsMap": {},
     "title": ""
    }
   },
   "source": [
    "# DementiaBank ADReSS Data\n",
    "- [Dementia Bank](https://talkbank.org/dementia/)\n",
    "- [ADReSS Challenge](https://talkbank.org/dementia/ADReSS-2020/index.html)\n",
    "- [CHAT Transcription Manual](https://talkbank.org/0info/manuals/CHAT.pdf)"
   ]
  },
  {
   "cell_type": "code",
   "execution_count": 0,
   "metadata": {
    "application/vnd.databricks.v1+cell": {
     "cellMetadata": {
      "byteLimit": 2048000,
      "rowLimit": 10000
     },
     "inputWidgets": {},
     "nuid": "9c65ca66-512f-4e53-b726-37e846107343",
     "showTitle": false,
     "tableResultSettingsMap": {},
     "title": ""
    }
   },
   "outputs": [],
   "source": [
    "%load_ext autoreload\n",
    "%autoreload 1\n",
    "%aimport data.adress"
   ]
  },
  {
   "cell_type": "code",
   "execution_count": 0,
   "metadata": {
    "application/vnd.databricks.v1+cell": {
     "cellMetadata": {
      "byteLimit": 2048000,
      "rowLimit": 10000
     },
     "inputWidgets": {},
     "nuid": "db34bb09-56cd-44b3-8dca-9edea49bc2e6",
     "showTitle": false,
     "tableResultSettingsMap": {},
     "title": ""
    }
   },
   "outputs": [],
   "source": [
    "import sys\n",
    "sys.path.append(\"..\")\n",
    "import pandas as pd\n",
    "import matplotlib.pyplot as plt"
   ]
  },
  {
   "cell_type": "markdown",
   "metadata": {
    "application/vnd.databricks.v1+cell": {
     "cellMetadata": {
      "byteLimit": 2048000,
      "rowLimit": 10000
     },
     "inputWidgets": {},
     "nuid": "907addd4-10c9-4045-b027-fab5539bbe72",
     "showTitle": false,
     "tableResultSettingsMap": {},
     "title": ""
    }
   },
   "source": [
    "## ADReSS"
   ]
  },
  {
   "cell_type": "code",
   "execution_count": 0,
   "metadata": {
    "application/vnd.databricks.v1+cell": {
     "cellMetadata": {
      "byteLimit": 2048000,
      "rowLimit": 10000
     },
     "inputWidgets": {},
     "nuid": "9daa571c-d69a-497c-8ada-f61779c00c9f",
     "showTitle": false,
     "tableResultSettingsMap": {},
     "title": ""
    }
   },
   "outputs": [],
   "source": [
    "import data.adress as ADReSS"
   ]
  },
  {
   "cell_type": "code",
   "execution_count": 0,
   "metadata": {
    "application/vnd.databricks.v1+cell": {
     "cellMetadata": {
      "byteLimit": 2048000,
      "rowLimit": 10000
     },
     "inputWidgets": {},
     "nuid": "5c09621e-fe0a-4cf0-8b9e-4a420af59385",
     "showTitle": false,
     "tableResultSettingsMap": {},
     "title": ""
    }
   },
   "outputs": [],
   "source": [
    "adress_trans = ADReSS.load_transcripts()\n",
    "adress_trans.head()"
   ]
  },
  {
   "cell_type": "code",
   "execution_count": 0,
   "metadata": {
    "application/vnd.databricks.v1+cell": {
     "cellMetadata": {
      "byteLimit": 2048000,
      "rowLimit": 10000
     },
     "inputWidgets": {},
     "nuid": "32e10a40-4d98-436b-9062-1b53c97c0f61",
     "showTitle": false,
     "tableResultSettingsMap": {},
     "title": ""
    }
   },
   "outputs": [],
   "source": [
    "adress_lbls = ADReSS.load_outcomes()\n",
    "adress_lbls.head()"
   ]
  },
  {
   "cell_type": "markdown",
   "metadata": {
    "application/vnd.databricks.v1+cell": {
     "cellMetadata": {},
     "inputWidgets": {},
     "nuid": "991ea07d-c4e2-42a2-9433-93e484fd8f1f",
     "showTitle": false,
     "tableResultSettingsMap": {},
     "title": ""
    }
   },
   "source": [
    "#### Data Analysis"
   ]
  },
  {
   "cell_type": "markdown",
   "metadata": {
    "application/vnd.databricks.v1+cell": {
     "cellMetadata": {},
     "inputWidgets": {},
     "nuid": "74d1bf57-1050-46be-914e-4c1c4897a097",
     "showTitle": false,
     "tableResultSettingsMap": {},
     "title": ""
    }
   },
   "source": [
    "Train, dev, and test split statistics."
   ]
  },
  {
   "cell_type": "code",
   "execution_count": 0,
   "metadata": {
    "application/vnd.databricks.v1+cell": {
     "cellMetadata": {
      "byteLimit": 2048000,
      "rowLimit": 10000
     },
     "inputWidgets": {},
     "nuid": "9993e5a3-e0c4-48e5-966c-44d1150982e5",
     "showTitle": false,
     "tableResultSettingsMap": {},
     "title": ""
    }
   },
   "outputs": [],
   "source": [
    "# Table 1\n",
    "for split in [\"train\", \"dev\", \"test\"]:\n",
    "    ad_mask = (adress_lbls.index.get_level_values(\"split\") == split) & (adress_lbls[\"AD_dx\"] == 1)\n",
    "    cn_mask = (adress_lbls.index.get_level_values(\"split\") == split) & (adress_lbls[\"AD_dx\"] == 0)\n",
    "\n",
    "    print(\"%s & %d & %d\\\\%% & %.1f $\\\\pm$ %.1f & %d\\\\%% & %.1f $\\\\pm$ %.1f \\\\\\\\\" % \n",
    "          (split,\n",
    "           adress_lbls.loc[split].shape[0],\n",
    "           100 * (adress_lbls.loc[ad_mask, \"gender\"] == 1).sum() / ad_mask.sum(),\n",
    "           adress_lbls.loc[ad_mask, \"age\"].mean(),\n",
    "           adress_lbls.loc[ad_mask, \"age\"].std(),\n",
    "           100 * (adress_lbls.loc[cn_mask, \"gender\"] == 1).sum() / cn_mask.sum(),\n",
    "           adress_lbls.loc[cn_mask, \"age\"].mean(),\n",
    "           adress_lbls.loc[cn_mask, \"age\"].std())\n",
    "    )"
   ]
  },
  {
   "cell_type": "markdown",
   "metadata": {
    "application/vnd.databricks.v1+cell": {
     "cellMetadata": {
      "byteLimit": 2048000,
      "rowLimit": 10000
     },
     "inputWidgets": {},
     "nuid": "ee0f20cb-1e3d-437f-b91f-6cedf281f271",
     "showTitle": false,
     "tableResultSettingsMap": {},
     "title": ""
    }
   },
   "source": [
    "Prevalence of CI indicators. "
   ]
  },
  {
   "cell_type": "code",
   "execution_count": 0,
   "metadata": {
    "application/vnd.databricks.v1+cell": {
     "cellMetadata": {
      "byteLimit": 2048000,
      "rowLimit": 10000
     },
     "inputWidgets": {},
     "nuid": "629c2b4a-1901-4409-822f-1340f94e7e4a",
     "showTitle": false,
     "tableResultSettingsMap": {},
     "title": ""
    }
   },
   "outputs": [],
   "source": [
    "ct = adress_trans[[\"Filler\", \"Repetition\", \"Paraphasia\", \"Vague\", \"Speech delays\"]].groupby(level=\"split\").sum()\n",
    "prev = adress_trans[[\"Filler\", \"Repetition\", \"Paraphasia\", \"Vague\", \"Speech delays\"]].groupby(level=\"split\").apply(lambda x: 100 * x.sum() / x.shape[0])\n",
    "table = ct.astype(str) + \" (\" + prev.round(1).astype(str) + \"%)\"\n",
    "table[\"Num. Utterances\"] = adress_trans.loc[adress_trans[\"Speaker\"] == \"Patient\"].groupby(level=\"split\").size()\n",
    "print(table.loc[(\"train\", \"dev\", \"test\"), [\"Num. Utterances\", \"Filler\", \"Repetition\", \"Paraphasia\", \"Vague\", \"Speech delays\"]].to_latex())"
   ]
  },
  {
   "cell_type": "markdown",
   "metadata": {
    "application/vnd.databricks.v1+cell": {
     "cellMetadata": {
      "byteLimit": 2048000,
      "rowLimit": 10000
     },
     "inputWidgets": {},
     "nuid": "9aadce32-d69a-4ccc-9da5-30937bb77d9f",
     "showTitle": false,
     "tableResultSettingsMap": {},
     "title": ""
    }
   },
   "source": [
    "Distribution of MMSE scores."
   ]
  },
  {
   "cell_type": "code",
   "execution_count": 0,
   "metadata": {
    "application/vnd.databricks.v1+cell": {
     "cellMetadata": {
      "byteLimit": 2048000,
      "rowLimit": 10000
     },
     "inputWidgets": {},
     "nuid": "ccad6dd6-2298-470a-bf1d-a72cbc699ec1",
     "showTitle": false,
     "tableResultSettingsMap": {},
     "title": ""
    }
   },
   "outputs": [],
   "source": [
    "bins = np.linspace(0, 30, 15)\n",
    "\n",
    "plt.hist([adress_lbls.loc[\"train\", \"mmse\"], adress_lbls.loc[\"test\", \"mmse\"]], bins=bins, label=[\"Train\", \"Test\"], edgecolor=\"k\", zorder=3)\n",
    "plt.xlabel(\"MMSE\")\n",
    "plt.ylabel(\"Frequency\")\n",
    "plt.legend(loc=\"upper left\")\n",
    "plt.xlim([-1, 31])\n",
    "plt.grid(zorder=0)\n",
    "plt.show()"
   ]
  },
  {
   "cell_type": "markdown",
   "metadata": {
    "application/vnd.databricks.v1+cell": {
     "cellMetadata": {
      "byteLimit": 2048000,
      "rowLimit": 10000
     },
     "inputWidgets": {},
     "nuid": "cf811c0c-c227-4fac-8b08-7c1a3d3b82c1",
     "showTitle": false,
     "tableResultSettingsMap": {},
     "title": ""
    }
   },
   "source": [
    "#### Generating character spans for relevant annotations using a LLM."
   ]
  },
  {
   "cell_type": "code",
   "execution_count": 0,
   "metadata": {
    "application/vnd.databricks.v1+cell": {
     "cellMetadata": {
      "byteLimit": 2048000,
      "rowLimit": 10000
     },
     "inputWidgets": {},
     "nuid": "5439165b-d583-40fb-a637-59a583f30846",
     "showTitle": false,
     "tableResultSettingsMap": {},
     "title": ""
    }
   },
   "outputs": [],
   "source": [
    "import mlflow\n",
    "import mlflow.genai\n",
    "from mlflow.genai.scorers import RelevanceToQuery, Safety, Guidelines, scorer\n",
    "from mlflow.entities import Feedback\n",
    "from openai import OpenAI"
   ]
  },
  {
   "cell_type": "code",
   "execution_count": 0,
   "metadata": {
    "application/vnd.databricks.v1+cell": {
     "cellMetadata": {
      "byteLimit": 2048000,
      "rowLimit": 10000
     },
     "inputWidgets": {},
     "nuid": "4ff9463b-a801-4ffe-ac2c-bed25da56bda",
     "showTitle": false,
     "tableResultSettingsMap": {},
     "title": ""
    }
   },
   "outputs": [],
   "source": [
    "mlflow_creds = mlflow.utils.databricks_utils.get_databricks_host_creds()\n",
    "\n",
    "client = OpenAI(\n",
    "    api_key=mlflow_creds.token,\n",
    "    base_url=f\"{mlflow_creds.host}/serving-endpoints\"\n",
    ")"
   ]
  },
  {
   "cell_type": "code",
   "execution_count": 0,
   "metadata": {
    "application/vnd.databricks.v1+cell": {
     "cellMetadata": {
      "byteLimit": 2048000,
      "rowLimit": 10000
     },
     "inputWidgets": {},
     "nuid": "f531b591-6bb6-4750-8a07-ae4e12e32c6e",
     "showTitle": false,
     "tableResultSettingsMap": {},
     "title": ""
    }
   },
   "outputs": [],
   "source": [
    "@mlflow.trace\n",
    "def get_span_labels(input_json: str, dev_prompt: str):\n",
    "    response = client.chat.completions.create(\n",
    "        model=\"openai_gpt_4o\",\n",
    "        messages=[\n",
    "            {\"role\": \"developer\", \"content\": dev_prompt},\n",
    "            {\"role\": \"user\", \"content\": input_json}\n",
    "        ],\n",
    "        response_format={\"type\": \"json_object\"},\n",
    "        temperature=0.0,\n",
    "        top_p=0.95\n",
    "    )\n",
    "\n",
    "    return response.choices[0].message.content\n",
    "    # return json.loads(response.choices[0].message.content)"
   ]
  },
  {
   "cell_type": "code",
   "execution_count": 0,
   "metadata": {
    "application/vnd.databricks.v1+cell": {
     "cellMetadata": {
      "byteLimit": 2048000,
      "rowLimit": 10000
     },
     "inputWidgets": {},
     "nuid": "4b5d62e4-ed6e-47ff-ac16-645d1ae78090",
     "showTitle": false,
     "tableResultSettingsMap": {},
     "title": ""
    }
   },
   "outputs": [],
   "source": [
    "filler_prompt = '''# IDENTITY\n",
    "You are an expert in CHAT transcription format. \n",
    "\n",
    "# INSTRUCTIONS\n",
    "You will be provided with a JSON object where keys are indices and values are objects, each object representing an utterance. Each utterance object contains the \"Annotated Utterance\", \"Clean Utterance\", and an empty \"Filler Spans\" list.\n",
    "\n",
    "Your task is to complete the provided JSON by populating the empty \"Filler Spans\" list for each utterance object. \n",
    "\n",
    "The CHAT format for annotating a filler word is to prefix the word with an ampersand (&) symbol.\n",
    "\n",
    "To do this, for each utterance object:\n",
    "1. Identify all words annotated as filler in the \"Annotated Utterance\".\n",
    "2. For each filler word, determine the [start, end] character spans relative to the \"Clean Utterance\".\n",
    "\n",
    "# OUTPUT FORMAT\n",
    "Return the completed JSON object, with the \"Filler Spans\" lists filled in with a list of (start, end) character spans for fillers.\n",
    "'''\n",
    "\n",
    "repetition_prompt = '''# IDENTITY\n",
    "You are an expert in CHAT transcription format. \n",
    "\n",
    "# INSTRUCTIONS\n",
    "You will be provided with a JSON object where keys are indices and values are objects, each object representing an utterance. Each utterance object contains the \"Annotated Utterance\", \"Clean Utterance\", and an empty \"Repetition Spans\" list.\n",
    "\n",
    "Your task is to complete the provided JSON by populating the empty \"Repetition Spans\" list for each utterance object. \n",
    "\n",
    "The CHAT format uses two different methods for marking repetitions, depending on the number of words repeated:\n",
    "- For multi-word repetitions, the repeated phrase is enclosed in angle brackets (<...>), followed by the [/] marker.\n",
    "- For single-word repetitions, the [/] symbol by itself indicates that the single word immediately before it is being repeated.\n",
    "\n",
    "To do this, for each utterance object:\n",
    "1. Identify all words annotated as repetition in the \"Annotated Utterance\". \n",
    "2. For each repetition event, determine the pair of character spans [[start1, end1], [start2, end2]] relative to the \"Clean Utterance\".\n",
    "    - [start1, end1] is the span of the first occurrence (from inside the <...>).\n",
    "    - [start2, end2] is the span of the second occurrence (from after the [/]).\n",
    "\n",
    "# OUTPUT FORMAT\n",
    "Return the completed JSON object, with the \"Repetition Spans\" lists filled in with a list of pairs of [start, end] character spans for repetitions. Each pair must correspond to a single annotated repetition event and be structured as [[start_occurrence_1, end_occurrence_1], [start_occurrence_2, end_occurrence_2]].\n",
    "'''"
   ]
  },
  {
   "cell_type": "code",
   "execution_count": 0,
   "metadata": {
    "application/vnd.databricks.v1+cell": {
     "cellMetadata": {
      "byteLimit": 2048000,
      "rowLimit": 10000
     },
     "inputWidgets": {},
     "nuid": "5a8a7a5a-1ad4-4823-9146-b34b00ef4699",
     "showTitle": false,
     "tableResultSettingsMap": {},
     "title": ""
    }
   },
   "outputs": [],
   "source": [
    "def filler_spans(input_json):\n",
    "    return get_span_labels(input_json, filler_prompt)\n",
    "\n",
    "def repetition_spans(input_json):\n",
    "    return get_span_labels(input_json, repetition_prompt)"
   ]
  },
  {
   "cell_type": "code",
   "execution_count": 0,
   "metadata": {
    "application/vnd.databricks.v1+cell": {
     "cellMetadata": {
      "byteLimit": 2048000,
      "rowLimit": 10000
     },
     "inputWidgets": {},
     "nuid": "b1391dc3-a8a0-4470-9a5d-b7a7cf5c3daa",
     "showTitle": false,
     "tableResultSettingsMap": {},
     "title": ""
    }
   },
   "outputs": [],
   "source": [
    "eval_dataset = []\n",
    "for idx, grp in adress_trans.groupby(level=(\"split\", \"ID\")):\n",
    "    \n",
    "    input_table = grp[[\"Transcript\", \"Transcript_clean\"]].copy()\n",
    "    input_table.columns = [\"Annotated Utterance\", \"Clean Utterance\"]\n",
    "    input_table.loc[:, \"Filler Spans\"] = [[] for _ in range(input_table.shape[0])]\n",
    "\n",
    "    eval_dataset.append({\"inputs\": {\"input_json\": input_table.to_json(orient=\"index\")}})"
   ]
  },
  {
   "cell_type": "code",
   "execution_count": 0,
   "metadata": {
    "application/vnd.databricks.v1+cell": {
     "cellMetadata": {
      "byteLimit": 2048000,
      "rowLimit": 10000
     },
     "inputWidgets": {},
     "nuid": "60395f2f-ac7d-4bd9-8f30-f9926e2e74d6",
     "showTitle": false,
     "tableResultSettingsMap": {},
     "title": ""
    }
   },
   "outputs": [],
   "source": [
    "# TODO add scorer to check that they didnt change the utterances\n",
    "\n",
    "def correct_num_spans(inputs, outputs, regex_pattern):\n",
    "    data = json.loads(outputs)\n",
    "\n",
    "    value = True\n",
    "    rationale = \"\"\n",
    "    for idx, output in data.items():\n",
    "        n_amp = len(re.findall(regex_pattern, output[\"Annotated Utterance\"]))\n",
    "        n_spans = len(output[\"Filler Spans\"])\n",
    "        same = (n_amp == n_spans)\n",
    "\n",
    "        value &= same\n",
    "        if not same:\n",
    "            rationale += f\"For {idx} we found {n_spans} spans, expected {n_amp}. \"\n",
    "\n",
    "    return Feedback(value=value, rationale=rationale)\n",
    "\n",
    "@scorer\n",
    "def correct_num_filler_spans(inputs, outputs):\n",
    "    return correct_num_spans(inputs, outputs, regex_pattern=r'&(?!=)\\w+')\n",
    "\n",
    "@scorer\n",
    "def correct_num_repetition_spans(inputs, outputs):\n",
    "    return correct_num_spans(inputs, outputs, regex_pattern=r'\\[/\\]')\n",
    "\n",
    "@scorer\n",
    "def correct_num_revision_spans(inputs, outputs):\n",
    "    return correct_num_spans(inputs, outputs, regex_pattern=r'\\[/\\/\\]')\n",
    "\n",
    "scorers = [\n",
    "    RelevanceToQuery(),\n",
    "    Safety(),\n",
    "    # NOTE the following only works when get_span_labels returns a JSON string (not a JSON dict) \n",
    "    # correct_num_filler_spans, \n",
    "    correct_num_repetition_spans,   \n",
    "    # correct_num_revision_spans, \n",
    "]"
   ]
  },
  {
   "cell_type": "code",
   "execution_count": 0,
   "metadata": {
    "application/vnd.databricks.v1+cell": {
     "cellMetadata": {
      "byteLimit": 2048000,
      "rowLimit": 10000
     },
     "inputWidgets": {},
     "nuid": "ec3650c6-cbc7-4c08-a540-a99569cb4a90",
     "showTitle": false,
     "tableResultSettingsMap": {},
     "title": ""
    }
   },
   "outputs": [],
   "source": [
    "with mlflow.start_run(run_name=\"repetition_v0\"): \n",
    "    eval_results = mlflow.genai.evaluate(\n",
    "        data=eval_dataset,\n",
    "        predict_fn=filler_spans,\n",
    "        scorers=scorers\n",
    "    )"
   ]
  }
 ],
 "metadata": {
  "application/vnd.databricks.v1+notebook": {
   "computePreferences": null,
   "dashboards": [],
   "environmentMetadata": {
    "base_environment": "",
    "environment_version": "2"
   },
   "inputWidgetPreferences": null,
   "language": "python",
   "notebookMetadata": {
    "pythonIndentUnit": 4
   },
   "notebookName": "01_DementiaBank_Data",
   "widgets": {}
  },
  "language_info": {
   "name": "python"
  }
 },
 "nbformat": 4,
 "nbformat_minor": 0
}
