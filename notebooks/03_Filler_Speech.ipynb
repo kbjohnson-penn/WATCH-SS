{
 "cells": [
  {
   "cell_type": "markdown",
   "metadata": {
    "application/vnd.databricks.v1+cell": {
     "cellMetadata": {},
     "inputWidgets": {},
     "nuid": "3b7dbf00-8cdb-4907-809b-85647c4f52e8",
     "showTitle": false,
     "tableResultSettingsMap": {},
     "title": ""
    }
   },
   "source": [
    "# Detecting Filler Speech"
   ]
  },
  {
   "cell_type": "code",
   "execution_count": 0,
   "metadata": {
    "application/vnd.databricks.v1+cell": {
     "cellMetadata": {
      "byteLimit": 2048000,
      "rowLimit": 10000
     },
     "inputWidgets": {},
     "nuid": "2917529a-0ba5-42a4-930d-5fd7e78fb584",
     "showTitle": false,
     "tableResultSettingsMap": {},
     "title": ""
    }
   },
   "outputs": [],
   "source": [
    "%load_ext autoreload\n",
    "%autoreload 1\n",
    "%aimport data.adress\n",
    "%aimport detectors.filler_speech.llm_agent\n",
    "%aimport detectors.filler_speech.keyword_search"
   ]
  },
  {
   "cell_type": "code",
   "execution_count": 0,
   "metadata": {
    "application/vnd.databricks.v1+cell": {
     "cellMetadata": {
      "byteLimit": 2048000,
      "rowLimit": 10000
     },
     "inputWidgets": {},
     "nuid": "5e67d695-263e-4656-9b37-449fc567d635",
     "showTitle": false,
     "tableResultSettingsMap": {},
     "title": ""
    }
   },
   "outputs": [],
   "source": [
    "import sys\n",
    "sys.path.append(\"..\")\n",
    "import numpy as np\n",
    "import pandas as pd\n",
    "import re\n",
    "from joblib import Parallel, delayed\n",
    "from tqdm import tqdm\n",
    "from sklearn.metrics import precision_score, recall_score, f1_score, accuracy_score"
   ]
  },
  {
   "cell_type": "markdown",
   "metadata": {
    "application/vnd.databricks.v1+cell": {
     "cellMetadata": {
      "byteLimit": 2048000,
      "rowLimit": 10000
     },
     "inputWidgets": {},
     "nuid": "69670ea8-82e9-42cb-a7b9-93388c3a9b1e",
     "showTitle": false,
     "tableResultSettingsMap": {},
     "title": ""
    }
   },
   "source": [
    "### Validation Data"
   ]
  },
  {
   "cell_type": "code",
   "execution_count": 0,
   "metadata": {
    "application/vnd.databricks.v1+cell": {
     "cellMetadata": {
      "byteLimit": 2048000,
      "rowLimit": 10000
     },
     "inputWidgets": {},
     "nuid": "53af97ae-a28c-4b02-9bb9-38bc9dd6b896",
     "showTitle": false,
     "tableResultSettingsMap": {},
     "title": ""
    }
   },
   "outputs": [],
   "source": [
    "from data.adress import load_CHAT_transcripts\n",
    "\n",
    "data = load_CHAT_transcripts()\n",
    "data = data[[\"Timestamp\", \"Speaker\", \"Transcript\", \"Transcript_clean\", \"Filler speech\"]]\n",
    "data.head()"
   ]
  },
  {
   "cell_type": "markdown",
   "metadata": {
    "application/vnd.databricks.v1+cell": {
     "cellMetadata": {},
     "inputWidgets": {},
     "nuid": "d0b1d233-b0fe-40c9-b20b-e544d2911025",
     "showTitle": false,
     "tableResultSettingsMap": {},
     "title": ""
    }
   },
   "source": [
    "## Baseline: Keyword Search"
   ]
  },
  {
   "cell_type": "code",
   "execution_count": 0,
   "metadata": {
    "application/vnd.databricks.v1+cell": {
     "cellMetadata": {
      "byteLimit": 2048000,
      "rowLimit": 10000
     },
     "inputWidgets": {},
     "nuid": "1d03e23c-6b3f-4dfe-8f2b-a28717c1e08b",
     "showTitle": false,
     "tableResultSettingsMap": {},
     "title": ""
    }
   },
   "outputs": [],
   "source": [
    "import string\n",
    "from detectors.filler_speech.keyword_search import FillerKeywordDetector"
   ]
  },
  {
   "cell_type": "markdown",
   "metadata": {
    "application/vnd.databricks.v1+cell": {
     "cellMetadata": {},
     "inputWidgets": {},
     "nuid": "f7875448-e5c7-4133-b432-b781beb2a453",
     "showTitle": false,
     "tableResultSettingsMap": {},
     "title": ""
    }
   },
   "source": [
    "First, we look at the annotated fillers in the training dataset to help inform our list of keywords."
   ]
  },
  {
   "cell_type": "code",
   "execution_count": 0,
   "metadata": {
    "application/vnd.databricks.v1+cell": {
     "cellMetadata": {
      "byteLimit": 2048000,
      "rowLimit": 10000
     },
     "inputWidgets": {},
     "nuid": "cefc20e1-179a-4eac-b3c2-ce016bf36428",
     "showTitle": false,
     "tableResultSettingsMap": {},
     "title": ""
    }
   },
   "outputs": [],
   "source": [
    "np.unique( np.concatenate(data.loc[\"train\", \"Transcript\"].apply(lambda x: re.findall(r\"&(\\w+)\\s*\", x)).values) )"
   ]
  },
  {
   "cell_type": "markdown",
   "metadata": {
    "application/vnd.databricks.v1+cell": {
     "cellMetadata": {},
     "inputWidgets": {},
     "nuid": "70e9f4f2-a448-4d53-883d-b9abb38765ec",
     "showTitle": false,
     "tableResultSettingsMap": {},
     "title": ""
    }
   },
   "source": [
    "Then we define our keyword lists."
   ]
  },
  {
   "cell_type": "code",
   "execution_count": 0,
   "metadata": {
    "application/vnd.databricks.v1+cell": {
     "cellMetadata": {
      "byteLimit": 2048000,
      "rowLimit": 10000
     },
     "inputWidgets": {},
     "nuid": "b37e2393-62d1-4f36-92df-8d18be4c393d",
     "showTitle": false,
     "tableResultSettingsMap": {},
     "title": ""
    }
   },
   "outputs": [],
   "source": [
    "filler_sounds = [\n",
    "    \"ah\",\n",
    "    \"eh\",\n",
    "    \"er\",\n",
    "    \"hm\",\n",
    "    \"huh\",\n",
    "    \"mm\",\n",
    "    \"uh\",\n",
    "    \"um\",\n",
    "]\n",
    "\n",
    "filler_words = [\n",
    "    \"like\",\n",
    "    \"well\",\n",
    "    \"so\",\n",
    "    \"basically\",\n",
    "    \"actually\",\n",
    "    \"literally\",\n",
    "]\n",
    "\n",
    "filler_phrases = [\n",
    "    \"you know\",\n",
    "    \"i mean\",\n",
    "    \"i guess\",\n",
    "    \"you see\",\n",
    "]\n",
    "\n",
    "filler_letters = list(string.ascii_lowercase)"
   ]
  },
  {
   "cell_type": "markdown",
   "metadata": {
    "application/vnd.databricks.v1+cell": {
     "cellMetadata": {},
     "inputWidgets": {},
     "nuid": "6de89fd4-16cf-4376-a7ae-d113ce47ddbc",
     "showTitle": false,
     "tableResultSettingsMap": {},
     "title": ""
    }
   },
   "source": [
    "Now we run the detector."
   ]
  },
  {
   "cell_type": "code",
   "execution_count": 0,
   "metadata": {
    "application/vnd.databricks.v1+cell": {
     "cellMetadata": {
      "byteLimit": 2048000,
      "rowLimit": 10000
     },
     "inputWidgets": {},
     "nuid": "20eec3f8-7fc4-4bd1-bb25-02f6ec0a0e44",
     "showTitle": false,
     "tableResultSettingsMap": {},
     "title": ""
    }
   },
   "outputs": [],
   "source": [
    "def run(cfg_name, cfg, pt_data):\n",
    "    d = FillerKeywordDetector(*cfg)\n",
    "    # Apply detector to all patient utterances in the train data\n",
    "    outputs = pt_data[\"Transcript_clean\"].apply(d.detect)\n",
    "    # Simplify to binary detection array\n",
    "    det = outputs.apply(lambda x: len(x) > 0).astype(int)\n",
    "    # Evaluate detector performance\n",
    "    prec = precision_score(pt_data[\"Filler speech\"], det)\n",
    "    rec  = recall_score(pt_data[\"Filler speech\"], det)\n",
    "    f1   = f1_score(pt_data[\"Filler speech\"], det)\n",
    "    acc  = accuracy_score(pt_data[\"Filler speech\"], det)\n",
    "    return (cfg_name, prec, rec, f1, acc)"
   ]
  },
  {
   "cell_type": "code",
   "execution_count": 0,
   "metadata": {
    "application/vnd.databricks.v1+cell": {
     "cellMetadata": {
      "byteLimit": 2048000,
      "rowLimit": 10000
     },
     "inputWidgets": {},
     "nuid": "f0e7c802-521e-492a-bd66-86bc80b91130",
     "showTitle": false,
     "tableResultSettingsMap": {},
     "title": ""
    }
   },
   "outputs": [],
   "source": [
    "configs = {\n",
    "    \"sounds\": (filler_sounds, False),\n",
    "    \"words\": (filler_words, False),\n",
    "    \"phrases\": (filler_phrases, False),\n",
    "    \"letters\": (filler_letters, False),\n",
    "    \"nonwords\": ([], True),\n",
    "    \"sounds+words\": (filler_sounds + filler_words, False),\n",
    "    \"sounds+phrases\": (filler_sounds + filler_phrases, False),\n",
    "    \"sounds+nonwords\": (filler_sounds, True),\n",
    "    \"sounds+words+phrases\": (filler_sounds + filler_words + filler_phrases, False),\n",
    "    \"sounds+words+letters\": (filler_sounds + filler_words + filler_letters, False),\n",
    "    \"sounds+words+phrases+letters\": (filler_sounds + filler_words + filler_phrases + filler_letters, False),\n",
    "    \"sounds+words+phrases+nonwords\": (filler_sounds + filler_words + filler_phrases, True),\n",
    "    \"sounds+words+phrases+letters+nonwords\": (filler_sounds + filler_words + filler_phrases + filler_letters, True),\n",
    "}\n",
    "\n",
    "pt_trn_idx = (data.index.get_level_values(\"split\") == \"train\") & (data[\"Speaker\"] == \"Patient\")\n",
    "\n",
    "results = Parallel(n_jobs=10)(delayed(run)(name, configs[name], data.loc[pt_trn_idx]) for name in tqdm(configs))\n",
    "\n",
    "table = pd.DataFrame(results, columns=[\"config\", \"precision\", \"recall\", \"f1\", \"accuracy\"])\n",
    "table.to_csv(\"filler_trn_results.csv\")"
   ]
  },
  {
   "cell_type": "code",
   "execution_count": 0,
   "metadata": {
    "application/vnd.databricks.v1+cell": {
     "cellMetadata": {
      "byteLimit": 2048000,
      "rowLimit": 10000
     },
     "inputWidgets": {},
     "nuid": "cae75dbd-7b8c-4e63-984f-8755fdd68246",
     "showTitle": false,
     "tableResultSettingsMap": {},
     "title": ""
    }
   },
   "outputs": [],
   "source": [
    "table"
   ]
  },
  {
   "cell_type": "markdown",
   "metadata": {
    "application/vnd.databricks.v1+cell": {
     "cellMetadata": {},
     "inputWidgets": {},
     "nuid": "37f40ed6-0e85-4ef9-9297-d2e8699b6c53",
     "showTitle": false,
     "tableResultSettingsMap": {},
     "title": ""
    }
   },
   "source": [
    "## Prompt Engineering for the LLM-Based Detector"
   ]
  },
  {
   "cell_type": "code",
   "execution_count": 0,
   "metadata": {
    "application/vnd.databricks.v1+cell": {
     "cellMetadata": {
      "byteLimit": 2048000,
      "rowLimit": 10000
     },
     "inputWidgets": {},
     "nuid": "997a82b7-2d2c-4327-a315-ff37c340abd0",
     "showTitle": false,
     "tableResultSettingsMap": {},
     "title": ""
    }
   },
   "outputs": [],
   "source": [
    "from detectors.filler_speech.llm_agent import FillerLLMDetector\n",
    "from utils import llms"
   ]
  },
  {
   "cell_type": "markdown",
   "metadata": {
    "application/vnd.databricks.v1+cell": {
     "cellMetadata": {
      "byteLimit": 2048000,
      "rowLimit": 10000
     },
     "inputWidgets": {},
     "nuid": "23c4066a-04e4-4bd1-8c38-eb46d788d1f5",
     "showTitle": false,
     "tableResultSettingsMap": {},
     "title": ""
    }
   },
   "source": [
    "Prompts"
   ]
  },
  {
   "cell_type": "code",
   "execution_count": 0,
   "metadata": {
    "application/vnd.databricks.v1+cell": {
     "cellMetadata": {
      "byteLimit": 2048000,
      "rowLimit": 10000
     },
     "inputWidgets": {},
     "nuid": "9931f132-0150-4659-896f-07747e6bb4e8",
     "showTitle": false,
     "tableResultSettingsMap": {},
     "title": ""
    }
   },
   "outputs": [],
   "source": [
    "prompt_v1 = \"Identify all filler sounds (e.g., \\\"uh\\\"), words (e.g., \\\"like\\\"), or phrases (e.g., \\\"you know\\\") that indicate cognitive impairment in the following utterance:\\n\\n{}\\n\\nList each instance of filler as a bullet point in the order that they are spoken. Do not include any explanations. If a filler is repeated, list each occurrence in its own bullet point. If there are no fillers, return \\\"None\\\".\"\n",
    "\n",
    "prompt_v2 = \"Identify all filler sounds (e.g., \\\"uh\\\"), words (e.g., \\\"like\\\"), or phrases (e.g., \\\"you know\\\") that indicate cognitive impairment in the last line of the following transcript:\\n\\n{}\\n\\nList each instance of filler in the last line as a bullet point in the order that they are spoken. Do not include any explanations. If a filler is repeated, list each occurrence in its own bullet point. If there are no fillers, return \\\"None\\\".\""
   ]
  },
  {
   "cell_type": "markdown",
   "metadata": {
    "application/vnd.databricks.v1+cell": {
     "cellMetadata": {},
     "inputWidgets": {},
     "nuid": "c343fd85-f1eb-4d62-af77-ce66e070f0ad",
     "showTitle": false,
     "tableResultSettingsMap": {},
     "title": ""
    }
   },
   "source": [
    "Detector"
   ]
  },
  {
   "cell_type": "code",
   "execution_count": 0,
   "metadata": {
    "application/vnd.databricks.v1+cell": {
     "cellMetadata": {
      "byteLimit": 2048000,
      "rowLimit": 10000
     },
     "inputWidgets": {},
     "nuid": "4bd3f9e0-88d7-418b-8a71-ab83aef820a3",
     "showTitle": false,
     "tableResultSettingsMap": {},
     "title": ""
    }
   },
   "outputs": [],
   "source": [
    "endpoint    = \"openai_gpt_4o\"\n",
    "api_token   = dbutils.notebook.entry_point.getDbutils().notebook().getContext().apiToken().get()\n",
    "\n",
    "d = FillerLLMDetector(endpoint, llms[endpoint][\"model\"], api_token, llms[endpoint][\"rpm\"], llms[endpoint][\"tpm\"])"
   ]
  },
  {
   "cell_type": "code",
   "execution_count": 0,
   "metadata": {
    "application/vnd.databricks.v1+cell": {
     "cellMetadata": {
      "byteLimit": 2048000,
      "rowLimit": 10000
     },
     "inputWidgets": {},
     "nuid": "d40a2959-fba4-4206-9aa4-818aa08538b9",
     "showTitle": false,
     "tableResultSettingsMap": {},
     "title": ""
    }
   },
   "outputs": [],
   "source": [
    "d = FillerLLMDetector()\n",
    "\n",
    "outputs = []\n",
    "for i, utt in data.iterrows():\n",
    "    if utt[\"Speaker\"] == \"Patient\":\n",
    "        outputs.append( d.detect(utt[\"Transcript_clean\"]) )"
   ]
  }
 ],
 "metadata": {
  "application/vnd.databricks.v1+notebook": {
   "computePreferences": null,
   "dashboards": [],
   "environmentMetadata": {
    "base_environment": "",
    "environment_version": "2"
   },
   "inputWidgetPreferences": null,
   "language": "python",
   "notebookMetadata": {
    "pythonIndentUnit": 4
   },
   "notebookName": "03_Filler_Speech",
   "widgets": {}
  },
  "language_info": {
   "name": "python"
  }
 },
 "nbformat": 4,
 "nbformat_minor": 0
}
