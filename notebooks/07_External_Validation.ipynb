{
 "cells": [
  {
   "cell_type": "markdown",
   "metadata": {
    "application/vnd.databricks.v1+cell": {
     "cellMetadata": {},
     "inputWidgets": {},
     "nuid": "07ddeebb-39d4-457f-9e90-7d76609e4f04",
     "showTitle": false,
     "tableResultSettingsMap": {},
     "title": ""
    }
   },
   "source": [
    "# Penn Data"
   ]
  },
  {
   "cell_type": "code",
   "execution_count": 0,
   "metadata": {
    "application/vnd.databricks.v1+cell": {
     "cellMetadata": {
      "byteLimit": 2048000,
      "rowLimit": 10000
     },
     "inputWidgets": {},
     "nuid": "139033ad-a3b5-4a80-9896-84f9221516db",
     "showTitle": false,
     "tableResultSettingsMap": {},
     "title": ""
    }
   },
   "outputs": [],
   "source": [
    "%load_ext autoreload\n",
    "%autoreload 1\n",
    "%aimport data.observer"
   ]
  },
  {
   "cell_type": "code",
   "execution_count": 0,
   "metadata": {
    "application/vnd.databricks.v1+cell": {
     "cellMetadata": {
      "byteLimit": 2048000,
      "rowLimit": 10000
     },
     "inputWidgets": {},
     "nuid": "df1c1fd7-7c4d-454f-9163-894718b80585",
     "showTitle": false,
     "tableResultSettingsMap": {},
     "title": ""
    }
   },
   "outputs": [],
   "source": [
    "import sys\n",
    "sys.path.append(\"..\")\n",
    "import data.observer as OBSERVER\n",
    "import matplotlib.pyplot as plt\n",
    "import numpy as np\n",
    "import pandas as pd"
   ]
  },
  {
   "cell_type": "markdown",
   "metadata": {
    "application/vnd.databricks.v1+cell": {
     "cellMetadata": {},
     "inputWidgets": {},
     "nuid": "06b668c8-7d83-4c29-8466-af7c8c75eb08",
     "showTitle": false,
     "tableResultSettingsMap": {},
     "title": ""
    }
   },
   "source": [
    "## Load the Data"
   ]
  },
  {
   "cell_type": "markdown",
   "metadata": {
    "application/vnd.databricks.v1+cell": {
     "cellMetadata": {},
     "inputWidgets": {},
     "nuid": "273a3cb3-4d7d-4290-990c-116dce6e2eef",
     "showTitle": false,
     "tableResultSettingsMap": {},
     "title": ""
    }
   },
   "source": [
    "#### Cognitive Impairment Outcomes"
   ]
  },
  {
   "cell_type": "code",
   "execution_count": 0,
   "metadata": {
    "application/vnd.databricks.v1+cell": {
     "cellMetadata": {
      "byteLimit": 2048000,
      "rowLimit": 10000
     },
     "inputWidgets": {},
     "nuid": "0abb01c0-c46f-47b9-ba75-a56421725104",
     "showTitle": false,
     "tableResultSettingsMap": {},
     "title": ""
    }
   },
   "outputs": [],
   "source": [
    "labels = pd.read_excel(\"/Volumes/biomedicalinformatics_analytics/dev_lab_johnson/watch/penn_CI_labels.xlsx\")\n",
    "labels[\"patient_id\"] = labels[\"patient_id\"].str.strip()\n",
    "labels.head()"
   ]
  },
  {
   "cell_type": "code",
   "execution_count": 0,
   "metadata": {
    "application/vnd.databricks.v1+cell": {
     "cellMetadata": {
      "byteLimit": 2048000,
      "rowLimit": 10000
     },
     "inputWidgets": {},
     "nuid": "2a575418-5c14-4aa7-bd82-e10fcc943f1c",
     "showTitle": false,
     "tableResultSettingsMap": {},
     "title": ""
    }
   },
   "outputs": [],
   "source": [
    "labels.shape"
   ]
  },
  {
   "cell_type": "code",
   "execution_count": 0,
   "metadata": {
    "application/vnd.databricks.v1+cell": {
     "cellMetadata": {
      "byteLimit": 2048000,
      "rowLimit": 10000
     },
     "inputWidgets": {},
     "nuid": "e4ecd012-63f8-4153-ac7d-0b3b5bd24a87",
     "showTitle": false,
     "tableResultSettingsMap": {},
     "title": ""
    }
   },
   "outputs": [],
   "source": [
    "print(\"%d & %d\\\\%% & %.1f $\\\\pm$ %.1f & %d & %d\\\\%% & %.1f $\\\\pm$ %.1f \\\\\\\\\" %\n",
    "      ((labels[\"CI\"] == 1).sum(),\n",
    "        100 * ((labels[\"CI\"] == 1) & (labels[\"Gender\"] == \"Female\")).sum() / (labels[\"CI\"] == 1).sum(),\n",
    "        labels.loc[labels[\"CI\"] == 1, \"Age (in Years)\"].mean(),\n",
    "        labels.loc[labels[\"CI\"] == 1, \"Age (in Years)\"].std(),\n",
    "       (labels[\"CI\"] == 0).sum(),\n",
    "        100 * ((labels[\"CI\"] == 0) & (labels[\"Gender\"] == \"Female\")).sum() / (labels[\"CI\"] == 0).sum(),\n",
    "        labels.loc[labels[\"CI\"] == 0, \"Age (in Years)\"].mean(),\n",
    "        labels.loc[labels[\"CI\"] == 0, \"Age (in Years)\"].std()\n",
    "      ))"
   ]
  },
  {
   "cell_type": "markdown",
   "metadata": {
    "application/vnd.databricks.v1+cell": {
     "cellMetadata": {},
     "inputWidgets": {},
     "nuid": "75328ea5-93f8-49ef-bda5-a551028c2889",
     "showTitle": false,
     "tableResultSettingsMap": {},
     "title": ""
    }
   },
   "source": [
    "Downsampling the cognitively normal cohort to be balanced with the cognitively impaired cohort."
   ]
  },
  {
   "cell_type": "code",
   "execution_count": 0,
   "metadata": {
    "application/vnd.databricks.v1+cell": {
     "cellMetadata": {
      "byteLimit": 2048000,
      "rowLimit": 10000
     },
     "inputWidgets": {},
     "nuid": "54371ab8-8cc9-4f1f-9716-1782bdb52919",
     "showTitle": false,
     "tableResultSettingsMap": {},
     "title": ""
    }
   },
   "outputs": [],
   "source": [
    "np.random.seed(1234567)\n",
    "\n",
    "ci_mean_age = labels.loc[labels[\"CI\"] == 1, \"Age (in Years)\"].mean()\n",
    "ci_pct_female = 100 * ((labels[\"CI\"] == 1) & (labels[\"Gender\"] == \"Female\")).sum() / (labels[\"CI\"] == 1).sum()\n",
    "\n",
    "cn_patients = labels.loc[labels[\"CI\"] == 0, \"patient_id\"]\n",
    "\n",
    "results = []\n",
    "for i in range(10000):\n",
    "    sample = np.random.choice(cn_patients, size=(labels[\"CI\"] == 1).sum(), replace=False)\n",
    "    results.append({\n",
    "        \"pt_ids\": sample, \n",
    "        \"avg_age\": labels.loc[labels[\"patient_id\"].isin(sample), \"Age (in Years)\"].mean(),\n",
    "        \"pct_female\": 100 * (labels[\"patient_id\"].isin(sample) & (labels[\"Gender\"] == \"Female\")).sum() / sample.shape[0]\n",
    "    })\n",
    "    \n",
    "candidate_subsamples = pd.DataFrame(results)\n",
    "candidate_subsamples[\"mean_age_diff\"] = abs(ci_mean_age - candidate_subsamples[\"avg_age\"])\n",
    "candidate_subsamples[\"pct_female_diff\"] = abs(ci_pct_female - candidate_subsamples[\"pct_female\"])\n",
    "candidate_subsamples[\"composite_diff\"] = candidate_subsamples[\"mean_age_diff\"] + candidate_subsamples[\"pct_female_diff\"]\n",
    "pt_subsample = candidate_subsamples.loc[candidate_subsamples[\"composite_diff\"].idxmin(), \"pt_ids\"]\n",
    "pt_subsample"
   ]
  },
  {
   "cell_type": "markdown",
   "metadata": {
    "application/vnd.databricks.v1+cell": {
     "cellMetadata": {},
     "inputWidgets": {},
     "nuid": "d32e98fe-0b45-443c-a54c-a7de14838974",
     "showTitle": false,
     "tableResultSettingsMap": {},
     "title": ""
    }
   },
   "source": [
    "'PT025', 'PT099', 'PT075', 'PT016', 'PT044', 'PT085', 'PT035', 'PT103', 'PT036', 'PT058', 'PT002', 'PT095'"
   ]
  },
  {
   "cell_type": "code",
   "execution_count": 0,
   "metadata": {
    "application/vnd.databricks.v1+cell": {
     "cellMetadata": {
      "byteLimit": 2048000,
      "rowLimit": 10000
     },
     "inputWidgets": {},
     "nuid": "68c726f5-6538-4cbe-9416-48858fa5a35c",
     "showTitle": false,
     "tableResultSettingsMap": {},
     "title": ""
    }
   },
   "outputs": [],
   "source": [
    "labels_ds = labels.loc[(labels[\"CI\"] == 1) | labels[\"patient_id\"].isin(pt_subsample)]\n",
    "\n",
    "print(\"%d & %d\\\\%% & %.1f $\\\\pm$ %.1f & %d & %d\\\\%% & %.1f $\\\\pm$ %.1f \\\\\\\\\" %\n",
    "      ((labels_ds[\"CI\"] == 1).sum(),\n",
    "        100 * ((labels_ds[\"CI\"] == 1) & (labels_ds[\"Gender\"] == \"Female\")).sum() / (labels_ds[\"CI\"] == 1).sum(),\n",
    "        labels_ds.loc[labels_ds[\"CI\"] == 1, \"Age (in Years)\"].mean(),\n",
    "        labels_ds.loc[labels_ds[\"CI\"] == 1, \"Age (in Years)\"].std(),\n",
    "       (labels_ds[\"CI\"] == 0).sum(),\n",
    "        100 * ((labels_ds[\"CI\"] == 0) & (labels_ds[\"Gender\"] == \"Female\")).sum() / (labels_ds[\"CI\"] == 0).sum(),\n",
    "        labels_ds.loc[labels_ds[\"CI\"] == 0, \"Age (in Years)\"].mean(),\n",
    "        labels_ds.loc[labels_ds[\"CI\"] == 0, \"Age (in Years)\"].std()\n",
    "      ))"
   ]
  },
  {
   "cell_type": "markdown",
   "metadata": {
    "application/vnd.databricks.v1+cell": {
     "cellMetadata": {},
     "inputWidgets": {},
     "nuid": "3d2436c1-5f23-4ae0-9007-549ef060bd83",
     "showTitle": false,
     "tableResultSettingsMap": {},
     "title": ""
    }
   },
   "source": [
    "#### Cognitive Test Scores"
   ]
  },
  {
   "cell_type": "code",
   "execution_count": 0,
   "metadata": {
    "application/vnd.databricks.v1+cell": {
     "cellMetadata": {
      "byteLimit": 2048000,
      "rowLimit": 10000
     },
     "inputWidgets": {},
     "nuid": "d655ba3e-bddd-4b1a-86c3-3665a2cda4d7",
     "showTitle": false,
     "tableResultSettingsMap": {},
     "title": ""
    }
   },
   "outputs": [],
   "source": [
    "lbls = OBSERVER.load_labels()\n",
    "lbls.head()"
   ]
  },
  {
   "cell_type": "code",
   "execution_count": 0,
   "metadata": {
    "application/vnd.databricks.v1+cell": {
     "cellMetadata": {
      "byteLimit": 2048000,
      "rowLimit": 10000
     },
     "inputWidgets": {},
     "nuid": "63298b4e-5847-4c35-a5ae-2d70ad2c3c20",
     "showTitle": false,
     "tableResultSettingsMap": {},
     "title": ""
    }
   },
   "outputs": [],
   "source": [
    "bins = np.linspace(0, 30, 15)\n",
    "\n",
    "plt.hist(lbls[\"MMSE\"], bins=bins, edgecolor=\"k\", zorder=3)\n",
    "plt.xlabel(\"MMSE\")\n",
    "plt.ylabel(\"Frequency\")\n",
    "plt.xlim([-1, 31])\n",
    "plt.grid(zorder=0)\n",
    "plt.show()"
   ]
  },
  {
   "cell_type": "code",
   "execution_count": 0,
   "metadata": {
    "application/vnd.databricks.v1+cell": {
     "cellMetadata": {
      "byteLimit": 2048000,
      "rowLimit": 10000
     },
     "inputWidgets": {},
     "nuid": "f5030e3b-8728-4d64-bcda-11dd257a0d08",
     "showTitle": false,
     "tableResultSettingsMap": {},
     "title": ""
    }
   },
   "outputs": [],
   "source": [
    "bins = np.linspace(0, 30, 15)\n",
    "\n",
    "plt.hist(lbls[\"FRS\"], bins=bins, edgecolor=\"k\", zorder=3)\n",
    "plt.xlabel(\"FRS\")\n",
    "plt.ylabel(\"Frequency\")\n",
    "plt.xlim([-1, 31])\n",
    "plt.grid(zorder=0)\n",
    "plt.show()"
   ]
  },
  {
   "cell_type": "markdown",
   "metadata": {
    "application/vnd.databricks.v1+cell": {
     "cellMetadata": {},
     "inputWidgets": {},
     "nuid": "ccf18a78-2c8b-4ff4-9c9b-13da472c5f03",
     "showTitle": false,
     "tableResultSettingsMap": {},
     "title": ""
    }
   },
   "source": [
    "## Labeling Probable MCI using GPT"
   ]
  },
  {
   "cell_type": "code",
   "execution_count": 0,
   "metadata": {
    "application/vnd.databricks.v1+cell": {
     "cellMetadata": {
      "byteLimit": 2048000,
      "rowLimit": 10000
     },
     "inputWidgets": {},
     "nuid": "4e137a06-47ce-4b04-8f59-f6134d0360d3",
     "showTitle": false,
     "tableResultSettingsMap": {},
     "title": ""
    }
   },
   "outputs": [],
   "source": [
    "!pip install --upgrade openai\n",
    "dbutils.library.restartPython()"
   ]
  },
  {
   "cell_type": "code",
   "execution_count": 0,
   "metadata": {
    "application/vnd.databricks.v1+cell": {
     "cellMetadata": {
      "byteLimit": 2048000,
      "rowLimit": 10000
     },
     "inputWidgets": {},
     "nuid": "4a0c95fe-607d-4ced-93a6-34c2e7721729",
     "showTitle": false,
     "tableResultSettingsMap": {},
     "title": ""
    }
   },
   "outputs": [],
   "source": [
    "import os\n",
    "import pandas as pd\n",
    "import re\n",
    "import tiktoken\n",
    "import time\n",
    "from openai import OpenAI"
   ]
  },
  {
   "cell_type": "markdown",
   "metadata": {
    "application/vnd.databricks.v1+cell": {
     "cellMetadata": {},
     "inputWidgets": {},
     "nuid": "d0ed324c-34a8-4fa2-a303-a2c25ec41fce",
     "showTitle": false,
     "tableResultSettingsMap": {},
     "title": ""
    }
   },
   "source": [
    "Load the data"
   ]
  },
  {
   "cell_type": "code",
   "execution_count": 0,
   "metadata": {
    "application/vnd.databricks.v1+cell": {
     "cellMetadata": {
      "byteLimit": 2048000,
      "rowLimit": 10000
     },
     "inputWidgets": {},
     "nuid": "87e979dc-04e3-4961-b3b2-359430d5967c",
     "showTitle": false,
     "tableResultSettingsMap": {},
     "title": ""
    }
   },
   "outputs": [],
   "source": [
    "directory = \"/Volumes/biomedicalinformatics_analytics/dev_lab_johnson/swimcap/Penn OBSERVER/problem_lists/\"\n",
    "\n",
    "idx, pls = [], []\n",
    "for file in os.listdir(directory):\n",
    "    with open(os.path.join(directory, file), \"r\") as fp:\n",
    "        idx.append(file.rsplit(\".\")[0])\n",
    "        pls.append(fp.read())\n",
    "\n",
    "problem_lists = pd.DataFrame(data=pls, index=idx, columns=[\"problem_list\"])\n",
    "problem_lists"
   ]
  },
  {
   "cell_type": "code",
   "execution_count": 0,
   "metadata": {
    "application/vnd.databricks.v1+cell": {
     "cellMetadata": {
      "byteLimit": 2048000,
      "rowLimit": 10000
     },
     "inputWidgets": {},
     "nuid": "af2debc1-a568-4c8a-a66a-d541a3b90039",
     "showTitle": false,
     "tableResultSettingsMap": {},
     "title": ""
    }
   },
   "outputs": [],
   "source": [
    "def num_tokens_from_messages(messages, model):\n",
    "    \"\"\"Return the number of tokens used by a list of messages.\"\"\"\n",
    "    try:\n",
    "        encoding = tiktoken.encoding_for_model(model)\n",
    "    except KeyError:\n",
    "        print(\"Warning: model not found. Using o200k_base encoding.\")\n",
    "        encoding = tiktoken.get_encoding(\"o200k_base\")\n",
    "    if model in {\n",
    "        \"gpt-3.5-turbo-0125\",\n",
    "        \"gpt-4-0314\",\n",
    "        \"gpt-4-32k-0314\",\n",
    "        \"gpt-4-0613\",\n",
    "        \"gpt-4-32k-0613\",\n",
    "        \"gpt-4o-mini-2024-07-18\",\n",
    "        \"gpt-4o-2024-08-06\"\n",
    "        }:\n",
    "        tokens_per_message = 3\n",
    "        tokens_per_name = 1\n",
    "    elif \"gpt-3.5-turbo\" in model:\n",
    "        print(\"Warning: gpt-3.5-turbo may update over time. Returning num tokens assuming gpt-3.5-turbo-0125.\")\n",
    "        return num_tokens_from_messages(messages, model=\"gpt-3.5-turbo-0125\")\n",
    "    elif \"gpt-4o-mini\" in model:\n",
    "        print(\"Warning: gpt-4o-mini may update over time. Returning num tokens assuming gpt-4o-mini-2024-07-18.\")\n",
    "        return num_tokens_from_messages(messages, model=\"gpt-4o-mini-2024-07-18\")\n",
    "    elif \"gpt-4o\" in model:\n",
    "        print(\"Warning: gpt-4o and gpt-4o-mini may update over time. Returning num tokens assuming gpt-4o-2024-08-06.\")\n",
    "        return num_tokens_from_messages(messages, model=\"gpt-4o-2024-08-06\")\n",
    "    elif \"gpt-4\" in model:\n",
    "        print(\"Warning: gpt-4 may update over time. Returning num tokens assuming gpt-4-0613.\")\n",
    "        return num_tokens_from_messages(messages, model=\"gpt-4-0613\")\n",
    "    else:\n",
    "        raise NotImplementedError(\n",
    "            f\"\"\"num_tokens_from_messages() is not implemented for model {model}.\"\"\"\n",
    "        )\n",
    "    num_tokens = 0\n",
    "    for message in messages:\n",
    "        num_tokens += tokens_per_message\n",
    "        for key, value in message.items():\n",
    "            num_tokens += len(encoding.encode(value))\n",
    "            if key == \"name\":\n",
    "                num_tokens += tokens_per_name\n",
    "    num_tokens += 3  # every reply is primed with <|start|>assistant<|message|>\n",
    "    return num_tokens"
   ]
  },
  {
   "cell_type": "code",
   "execution_count": 0,
   "metadata": {
    "application/vnd.databricks.v1+cell": {
     "cellMetadata": {
      "byteLimit": 2048000,
      "rowLimit": 10000
     },
     "inputWidgets": {},
     "nuid": "cbc4260e-e8f7-43e6-80ea-23dc824bb0a3",
     "showTitle": false,
     "tableResultSettingsMap": {},
     "title": ""
    }
   },
   "outputs": [],
   "source": [
    "DATABRICKS_TOKEN = dbutils.notebook.entry_point.getDbutils().notebook().getContext().apiToken().get()\n",
    "\n",
    "client = OpenAI(\n",
    "    api_key=DATABRICKS_TOKEN,\n",
    "    base_url=\"https://adb-2035410508966251.11.azuredatabricks.net/serving-endpoints\"\n",
    ")\n",
    "\n",
    "model   = \"openai_gpt_4o\"\n",
    "tpm     = 1e6\n",
    "rpm     = 6150\n",
    "\n",
    "prompt  = (\n",
    "    \"Here is a patient's problem list summarizing their active health issues \"\n",
    "    \"(e.g., diagnoses, chronic conditions, injuries):\\n\\n\"\n",
    "    \"{}\\n\\n\"\n",
    "    \"Based on this information, label the patient as either:\\n\\n\"\n",
    "    \"- Probable MCI (Mild Cognitive Impairment), or\\n\"\n",
    "    \"- Healthy Control\\n\\n\"\n",
    "    \"If the problem list includes multiple conditions that are commonly associated \"\n",
    "    \"with cognitive decline, MCI, or Alzheimer's dementia (e.g., memory loss, gait abnormality), consider assigning \"\n",
    "    'the \\\"Probable MCI\\\" label. Otherwise, assign \\\"Healthy Control\\\".\\n\\n'\n",
    "    \"Format your response as follows:\\n\\n\"\n",
    "    \"- Label: <Probable MCI or Healthy Control>\\n\"\n",
    "    \"- Reason: <comma-separated list of relevant issues from the problem list, or \\\"N/A\\\" if Healthy Control>\"\n",
    ")\n",
    "\n",
    "\n",
    "tokens_used = 0\n",
    "t = time.time()\n",
    "for i, row in problem_lists.iterrows():\n",
    "    messages = [{\"role\": \"user\", \"content\": prompt.format(row.problem_list)}]\n",
    "    n_query_tokens = num_tokens_from_messages(messages, model.split(\"_\", maxsplit=1)[1].replace(\"_\", \"-\"))\n",
    "    print(\"N query tokens:\", n_query_tokens)\n",
    "\n",
    "    response = client.chat.completions.create(\n",
    "        model=model,\n",
    "        messages=messages\n",
    "    )\n",
    "    output = response.choices[0].message.content\n",
    "    n_response_tokens = response.usage.completion_tokens\n",
    "    print(\"N response tokens:\", n_response_tokens)\n",
    "\n",
    "    tokens_used += n_response_tokens\n",
    "\n",
    "    matches = re.findall(r'^\\s*[^:]+:\\s*(.*)', output, re.MULTILINE)\n",
    "    problem_lists.loc[i, \"generated_label\"] = matches[0].rstrip()\n",
    "    problem_lists.loc[i, \"reason\"] = matches[1].rstrip()\n"
   ]
  },
  {
   "cell_type": "code",
   "execution_count": 0,
   "metadata": {
    "application/vnd.databricks.v1+cell": {
     "cellMetadata": {
      "byteLimit": 2048000,
      "rowLimit": 10000
     },
     "inputWidgets": {},
     "nuid": "4b1cef09-1bb0-43d0-bb2c-88c55ce49e35",
     "showTitle": false,
     "tableResultSettingsMap": {},
     "title": ""
    }
   },
   "outputs": [],
   "source": [
    "problem_lists.to_excel(\"visit_problem_lists_labeled.xlsx\")"
   ]
  }
 ],
 "metadata": {
  "application/vnd.databricks.v1+notebook": {
   "computePreferences": null,
   "dashboards": [],
   "environmentMetadata": {
    "base_environment": "",
    "environment_version": "2"
   },
   "inputWidgetPreferences": null,
   "language": "python",
   "notebookMetadata": {
    "pythonIndentUnit": 4
   },
   "notebookName": "07_External_Validation",
   "widgets": {}
  },
  "language_info": {
   "name": "python"
  }
 },
 "nbformat": 4,
 "nbformat_minor": 0
}
