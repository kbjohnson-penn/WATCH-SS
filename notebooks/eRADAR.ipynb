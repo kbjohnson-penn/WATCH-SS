{
 "cells": [
  {
   "cell_type": "markdown",
   "metadata": {
    "application/vnd.databricks.v1+cell": {
     "cellMetadata": {
      "byteLimit": 2048000,
      "rowLimit": 10000
     },
     "inputWidgets": {},
     "nuid": "07540f26-e9e6-4b5a-a8f5-49d21e73f1d7",
     "showTitle": false,
     "tableResultSettingsMap": {},
     "title": ""
    }
   },
   "source": [
    "# eRADAR "
   ]
  },
  {
   "cell_type": "code",
   "execution_count": 0,
   "metadata": {
    "application/vnd.databricks.v1+cell": {
     "cellMetadata": {
      "byteLimit": 2048000,
      "rowLimit": 10000
     },
     "inputWidgets": {},
     "nuid": "a65a7cd0-d692-4ccb-8b16-5c1682dffe2b",
     "showTitle": false,
     "tableResultSettingsMap": {},
     "title": ""
    }
   },
   "outputs": [],
   "source": [
    "import numpy as np\n",
    "import pandas as pd"
   ]
  },
  {
   "cell_type": "markdown",
   "metadata": {
    "application/vnd.databricks.v1+cell": {
     "cellMetadata": {
      "byteLimit": 2048000,
      "rowLimit": 10000
     },
     "inputWidgets": {},
     "nuid": "47a10437-c14e-4f69-a8c9-e66692632dfa",
     "showTitle": false,
     "tableResultSettingsMap": {},
     "title": ""
    }
   },
   "source": [
    "### Load the patient data\n",
    "- /Volumes/biomedicalinformatics_analytics/dev_lab_johnson/watch/pair_watch_final_2025.csv"
   ]
  },
  {
   "cell_type": "code",
   "execution_count": 0,
   "metadata": {
    "application/vnd.databricks.v1+cell": {
     "cellMetadata": {
      "byteLimit": 2048000,
      "rowLimit": 10000
     },
     "inputWidgets": {},
     "nuid": "1f5d52cc-e2a8-4363-b76c-c04f3f9164b5",
     "showTitle": false,
     "tableResultSettingsMap": {},
     "title": ""
    }
   },
   "outputs": [],
   "source": [
    "def load_feat_data(year):\n",
    "    pt_data = pd.read_csv(f\"/Volumes/biomedicalinformatics_analytics/dev_lab_johnson/watch/pair_watch_final_{year}.csv\", header=0, index_col=0)\n",
    "    pt_data = pt_data[[\"age\", \"female\", \"dx_chf\", \"dx_cebv\", \"dx_diab\", \"dx_diab_c\", \"dx_cpd\", \"dx_hypothyoidism\", \"dx_rf\", \"dx_lymphoma\", \"dx_solidtumor\", \"dx_ra\", \"dx_weightloss\", \"dx_fluid\", \"dx_anemia\", \"dx_bipolar\", \"dx_depression\", \"dx_trauma\", \"dx_tobacco\", \"dx_atrial\", \"dx_gait\", \"low_bmi\", \"high_bmi\", \"hbp\", \"op_primary_care_visit\", \"ed_visit\", \"home_visit\", \"pt_visit\", \"cognitive_visit\", \"med_antidepressant\", \"med_sleepaid\"]].astype(float)   # isolating and reordering features \n",
    "    return pt_data"
   ]
  },
  {
   "cell_type": "code",
   "execution_count": 0,
   "metadata": {
    "application/vnd.databricks.v1+cell": {
     "cellMetadata": {
      "byteLimit": 2048000,
      "rowLimit": 10000
     },
     "inputWidgets": {},
     "nuid": "6bd2363e-2b05-40fa-9f69-02a141559667",
     "showTitle": false,
     "tableResultSettingsMap": {},
     "title": ""
    }
   },
   "outputs": [],
   "source": [
    "data_2025 = load_feat_data(2025)\n",
    "data_2024 = load_feat_data(2024)\n",
    "data_2023 = load_feat_data(2023)"
   ]
  },
  {
   "cell_type": "markdown",
   "metadata": {
    "application/vnd.databricks.v1+cell": {
     "cellMetadata": {
      "byteLimit": 2048000,
      "rowLimit": 10000
     },
     "inputWidgets": {},
     "nuid": "5b621ad0-9c6a-4487-9ada-29f1d8fb976f",
     "showTitle": false,
     "tableResultSettingsMap": {},
     "title": ""
    }
   },
   "source": [
    "Prevalence of eRADAR features."
   ]
  },
  {
   "cell_type": "code",
   "execution_count": 0,
   "metadata": {
    "application/vnd.databricks.v1+cell": {
     "cellMetadata": {
      "byteLimit": 2048000,
      "rowLimit": 10000
     },
     "inputWidgets": {},
     "nuid": "e9711947-f3c0-4d51-be1f-a51af8e84236",
     "showTitle": false,
     "tableResultSettingsMap": {},
     "title": ""
    }
   },
   "outputs": [],
   "source": [
    "def feature_prevalence(data, summarize=False):\n",
    "    ct = data.iloc[:, 1:].sum(axis=0)\n",
    "    ct.name = \"ct\"\n",
    "\n",
    "    pct = round(100 * data.iloc[:, 1:].sum(axis=0) / data.shape[0], 1)\n",
    "    pct.name = \"pct\"\n",
    "\n",
    "    prevalence = pd.merge(ct, pct, left_index=True, right_index=True)\n",
    "    prevalence.loc[\"age\"] = [data[\"age\"].mean(), data[\"age\"].std()]\n",
    "    \n",
    "    if summarize:\n",
    "        prevalence = prevalence.apply(lambda x: f\"{x[\"ct\"]:.1f} ({x[\"pct\"]:.1f})\", axis=1)\n",
    "    \n",
    "    return prevalence"
   ]
  },
  {
   "cell_type": "code",
   "execution_count": 0,
   "metadata": {
    "application/vnd.databricks.v1+cell": {
     "cellMetadata": {
      "byteLimit": 2048000,
      "rowLimit": 10000
     },
     "inputWidgets": {},
     "nuid": "ab460236-84ec-4f84-9daa-0d9d6c8b8fce",
     "showTitle": false,
     "tableResultSettingsMap": {},
     "title": ""
    }
   },
   "outputs": [],
   "source": [
    "prev_2025 = feature_prevalence(data_2025, summarize=True)\n",
    "prev_2025.name = 2025\n",
    "\n",
    "prev_2024 = feature_prevalence(data_2024, summarize=True)\n",
    "prev_2024.name = 2024\n",
    "\n",
    "prev_2023 = feature_prevalence(data_2023, summarize=True)\n",
    "prev_2023.name = 2023\n",
    "\n",
    "prev = pd.merge(prev_2025, prev_2024, left_index=True, right_index=True)\n",
    "prev = pd.merge(prev, prev_2023, left_index=True, right_index=True)\n",
    "prev"
   ]
  },
  {
   "cell_type": "markdown",
   "metadata": {
    "application/vnd.databricks.v1+cell": {
     "cellMetadata": {
      "byteLimit": 2048000,
      "rowLimit": 10000
     },
     "inputWidgets": {},
     "nuid": "4b53fbff-a767-4e38-8396-20fa2cc6767d",
     "showTitle": false,
     "tableResultSettingsMap": {},
     "title": ""
    }
   },
   "source": [
    "### Apply the eRADAR model"
   ]
  },
  {
   "cell_type": "code",
   "execution_count": 0,
   "metadata": {
    "application/vnd.databricks.v1+cell": {
     "cellMetadata": {
      "byteLimit": 2048000,
      "rowLimit": 10000
     },
     "inputWidgets": {},
     "nuid": "b3f74f35-a66f-4b92-8ed4-747bae2e1a56",
     "showTitle": false,
     "tableResultSettingsMap": {},
     "title": ""
    }
   },
   "outputs": [],
   "source": [
    "class eRADAR:\n",
    "    def __init__(self):\n",
    "        self.intercept = -11.83\n",
    "        self.weights = [0.11, -0.10, 0.28, 0.18, 0.06, 0.34, -0.11, 0.05, -0.15, 0.01, -0.17, -0.05, -0.34, -0.07, -0.25, 0.46, 0.03, 0.20, -0.15, 0.03, 0.24, 0.29, -0.11, -0.09, -0.55, 0.34, 0.00, -0.13, 0.47, 0.58, 0.03]\n",
    "\n",
    "    def score(self, x):\n",
    "        return 1 / (1 + np.exp(-self.intercept - np.dot(x, self.weights)))"
   ]
  },
  {
   "cell_type": "code",
   "execution_count": 0,
   "metadata": {
    "application/vnd.databricks.v1+cell": {
     "cellMetadata": {
      "byteLimit": 2048000,
      "rowLimit": 10000
     },
     "inputWidgets": {},
     "nuid": "0d6110fb-c55e-48b2-9316-e68cc433afc3",
     "showTitle": false,
     "tableResultSettingsMap": {},
     "title": ""
    }
   },
   "outputs": [],
   "source": [
    "model = eRADAR()\n",
    "\n",
    "scores_2025 = data_2025.apply(model.score, axis=1)\n",
    "scores_2024 = data_2024.apply(model.score, axis=1)\n",
    "scores_2023 = data_2023.apply(model.score, axis=1)"
   ]
  },
  {
   "cell_type": "markdown",
   "metadata": {
    "application/vnd.databricks.v1+cell": {
     "cellMetadata": {
      "byteLimit": 2048000,
      "rowLimit": 10000
     },
     "inputWidgets": {},
     "nuid": "4f78322d-4396-4723-acf2-2402cfdecd3c",
     "showTitle": false,
     "tableResultSettingsMap": {},
     "title": ""
    }
   },
   "source": [
    "### Analysis"
   ]
  },
  {
   "cell_type": "code",
   "execution_count": 0,
   "metadata": {
    "application/vnd.databricks.v1+cell": {
     "cellMetadata": {
      "byteLimit": 2048000,
      "rowLimit": 10000
     },
     "inputWidgets": {},
     "nuid": "b2f33d4b-64e9-46e2-bc85-4762f8d27b60",
     "showTitle": false,
     "tableResultSettingsMap": {},
     "title": ""
    }
   },
   "outputs": [],
   "source": [
    "import matplotlib.pyplot as plt"
   ]
  },
  {
   "cell_type": "markdown",
   "metadata": {
    "application/vnd.databricks.v1+cell": {
     "cellMetadata": {
      "byteLimit": 2048000,
      "rowLimit": 10000
     },
     "inputWidgets": {},
     "nuid": "0fd4caf4-aa24-49e5-ab91-6ff13513f02e",
     "showTitle": false,
     "tableResultSettingsMap": {},
     "title": ""
    }
   },
   "source": [
    "#### Recruitment pool size for varying eRADAR score cutoff percentiles."
   ]
  },
  {
   "cell_type": "code",
   "execution_count": 0,
   "metadata": {
    "application/vnd.databricks.v1+cell": {
     "cellMetadata": {
      "byteLimit": 2048000,
      "rowLimit": 10000
     },
     "inputWidgets": {},
     "nuid": "4a7b48fe-d92b-4bef-a7ef-6af1b10f2807",
     "showTitle": false,
     "tableResultSettingsMap": {},
     "title": ""
    }
   },
   "outputs": [],
   "source": [
    "def recruitment_summary(data, scores):\n",
    "    qs = [99] + list(range(95, 45, -5))\n",
    "    thresholds = np.percentile(scores, qs)\n",
    "    q_thresh = dict(zip(qs, thresholds))\n",
    "\n",
    "    pool_size   = [(scores >= t).sum() for t in thresholds]\n",
    "    ages        = [(round(data.loc[(scores >= t), \"age\"].mean()), round(data.loc[(scores >= t), \"age\"].std(), 2)) for t in thresholds]\n",
    "    females     = [round(100 * data.loc[(scores >= t), \"female\"].sum() / (scores >= t).sum(), 1) for t in thresholds]\n",
    "\n",
    "    recruitment = pd.DataFrame({\"Cutoff\": np.round(100 * thresholds, 1), \"Rec. Pool Size\": pool_size, \"Age (mean, std)\": ages, \"Pct. Female\": females}, index=qs)\n",
    "    recruitment.index.name = \"Cutoff Percentile\"\n",
    "    return recruitment, q_thresh"
   ]
  },
  {
   "cell_type": "code",
   "execution_count": 0,
   "metadata": {
    "application/vnd.databricks.v1+cell": {
     "cellMetadata": {
      "byteLimit": 2048000,
      "rowLimit": 10000
     },
     "inputWidgets": {},
     "nuid": "238ab25a-b4dd-4f1d-9fa3-42e35bfffed1",
     "showTitle": false,
     "tableResultSettingsMap": {},
     "title": ""
    }
   },
   "outputs": [],
   "source": [
    "rec_2025, q_thresh_2025 = recruitment_summary(data_2025, scores_2025)\n",
    "rec_2024, q_thresh_2024 = recruitment_summary(data_2024, scores_2024)\n",
    "rec_2023, q_thresh_2023 = recruitment_summary(data_2023, scores_2023)\n",
    "\n",
    "rec = pd.merge(rec_2025, rec_2024, left_index=True, right_index=True, suffixes=(\"_2025\", \"_2024\"))\n",
    "rec = pd.merge(rec, rec_2023, left_index=True, right_index=True, suffixes=(\"\", \"_2023\"))\n",
    "rec"
   ]
  },
  {
   "cell_type": "markdown",
   "metadata": {
    "application/vnd.databricks.v1+cell": {
     "cellMetadata": {
      "byteLimit": 2048000,
      "rowLimit": 10000
     },
     "inputWidgets": {},
     "nuid": "b3aa82cd-db21-42fa-b686-bdc08e39d5c6",
     "showTitle": false,
     "tableResultSettingsMap": {},
     "title": ""
    }
   },
   "source": [
    "#### Distribution of eRADAR scores."
   ]
  },
  {
   "cell_type": "code",
   "execution_count": 0,
   "metadata": {
    "application/vnd.databricks.v1+cell": {
     "cellMetadata": {
      "byteLimit": 2048000,
      "rowLimit": 10000
     },
     "inputWidgets": {},
     "nuid": "708b1195-561a-4e73-ae12-e167a6ec8cca",
     "showTitle": false,
     "tableResultSettingsMap": {},
     "title": ""
    }
   },
   "outputs": [],
   "source": [
    "def plot_score_dist(scores, thresh_dict, year, bins=500, log_y_scale=True):\n",
    "    fig, ax = plt.subplots(figsize=(12,5))\n",
    "    ax.hist(scores, bins=bins, label=(year if type(scores) is tuple else None))\n",
    "\n",
    "    if thresh_dict is not None:\n",
    "        for q in [99, 95, 90, 80, 55]:\n",
    "            ax.axvline(thresh_dict[q], color=\"red\", linestyle=\"--\", alpha=0.6)\n",
    "            ax.text(thresh_dict[q], 1.02, f\"{q}th\", transform=plt.gca().get_xaxis_transform(), color=\"red\", rotation=90, ha=\"center\")\n",
    "\n",
    "    ax.set_xlim([0, 1])\n",
    "    ax.set_xticks(np.arange(0.0, 1.1, 0.1))\n",
    "    ax.set_yscale(\"log\" if log_y_scale else \"linear\")\n",
    "    ax.set_xlabel(\"eRADAR Score\")\n",
    "    ax.set_ylabel(\"Frequency (Num. Patients)\")\n",
    "    ax.set_title(f\"Distribution of eRADAR Scores for Penn {year} Patients\", y=1.05)\n",
    "    ax.grid()\n",
    "\n",
    "    if type(scores) is tuple:\n",
    "        ax.legend(loc=\"upper right\")\n",
    "\n",
    "    return fig, ax"
   ]
  },
  {
   "cell_type": "code",
   "execution_count": 0,
   "metadata": {
    "application/vnd.databricks.v1+cell": {
     "cellMetadata": {
      "byteLimit": 2048000,
      "rowLimit": 10000
     },
     "inputWidgets": {},
     "nuid": "53154a1a-7dea-4636-935e-433289e5ca55",
     "showTitle": false,
     "tableResultSettingsMap": {},
     "title": ""
    }
   },
   "outputs": [],
   "source": [
    "fig, ax = plot_score_dist((scores_2025, scores_2024, scores_2023), None, (2025, 2024, 2023))\n",
    "plt.show()\n",
    "plt.close()"
   ]
  },
  {
   "cell_type": "code",
   "execution_count": 0,
   "metadata": {
    "application/vnd.databricks.v1+cell": {
     "cellMetadata": {
      "byteLimit": 2048000,
      "rowLimit": 10000
     },
     "inputWidgets": {},
     "nuid": "21b1bc40-6dfe-46c7-a3eb-0cdfb5cdc93e",
     "showTitle": false,
     "tableResultSettingsMap": {},
     "title": ""
    }
   },
   "outputs": [],
   "source": [
    "print(\"\\tMedian [IQR]\")\n",
    "for (year, scores) in [(2025, scores_2025), (2024, scores_2024), (2023, scores_2023)]:\n",
    "    print(\"%d\\t%.1f%% [%.1f - %.1f%%]\" % (year, 100 * np.median(scores), 100 * np.quantile(scores, 0.25), 100 * np.quantile(scores, 0.75)))"
   ]
  },
  {
   "cell_type": "code",
   "execution_count": 0,
   "metadata": {
    "application/vnd.databricks.v1+cell": {
     "cellMetadata": {
      "byteLimit": 2048000,
      "rowLimit": 10000
     },
     "inputWidgets": {},
     "nuid": "cbd8c820-7c55-4b25-a49b-7e866ef38a72",
     "showTitle": false,
     "tableResultSettingsMap": {},
     "title": ""
    }
   },
   "outputs": [],
   "source": [
    "fig, ax = plot_score_dist(scores_2025, q_thresh_2025, 2025)\n",
    "plt.show()\n",
    "plt.close()"
   ]
  },
  {
   "cell_type": "code",
   "execution_count": 0,
   "metadata": {
    "application/vnd.databricks.v1+cell": {
     "cellMetadata": {
      "byteLimit": 2048000,
      "rowLimit": 10000
     },
     "inputWidgets": {},
     "nuid": "80fd58e1-0535-4d55-a552-01fb212ef1f2",
     "showTitle": false,
     "tableResultSettingsMap": {},
     "title": ""
    }
   },
   "outputs": [],
   "source": [
    "fig, ax = plot_score_dist(scores_2024, q_thresh_2024, 2024)\n",
    "plt.show()\n",
    "plt.close()"
   ]
  },
  {
   "cell_type": "code",
   "execution_count": 0,
   "metadata": {
    "application/vnd.databricks.v1+cell": {
     "cellMetadata": {
      "byteLimit": 2048000,
      "rowLimit": 10000
     },
     "inputWidgets": {},
     "nuid": "948911be-9beb-444d-bb86-5171b721a647",
     "showTitle": false,
     "tableResultSettingsMap": {},
     "title": ""
    }
   },
   "outputs": [],
   "source": [
    "fig, ax = plot_score_dist(scores_2023, q_thresh_2023, 2023)\n",
    "plt.show()\n",
    "plt.close()"
   ]
  },
  {
   "cell_type": "markdown",
   "metadata": {
    "application/vnd.databricks.v1+cell": {
     "cellMetadata": {
      "byteLimit": 2048000,
      "rowLimit": 10000
     },
     "inputWidgets": {},
     "nuid": "0e21e4e0-03b6-4108-b0aa-85e4d2aebbbc",
     "showTitle": false,
     "tableResultSettingsMap": {},
     "title": ""
    }
   },
   "source": [
    "Distribution for REDUCE patient subset."
   ]
  },
  {
   "cell_type": "code",
   "execution_count": 0,
   "metadata": {
    "application/vnd.databricks.v1+cell": {
     "cellMetadata": {
      "byteLimit": 2048000,
      "rowLimit": 10000
     },
     "inputWidgets": {},
     "nuid": "bcd51b55-731f-447a-b322-cf3d3e52998f",
     "showTitle": false,
     "tableResultSettingsMap": {},
     "title": ""
    }
   },
   "outputs": [],
   "source": [
    "watch_mrns = pd.read_csv(\"/Volumes/biomedicalinformatics_analytics/dev_lab_johnson/watch/pair_watch_mrn_2025.csv\", index_col=0)\n",
    "reduce_mrns = pd.read_excel(\"/Volumes/biomedicalinformatics_analytics/dev_lab_johnson/watch/REDUCE_MRNs.xlsx\")\n",
    "reduce_mrns[\"MRN\"] = reduce_mrns[\"MRN\"].apply(lambda x: f\"{x:09d}\")\n",
    "\n",
    "subset = watch_mrns.loc[watch_mrns[\"HUP_MRN\"].isin(reduce_mrns[\"MRN\"])].index.values"
   ]
  },
  {
   "cell_type": "code",
   "execution_count": 0,
   "metadata": {
    "application/vnd.databricks.v1+cell": {
     "cellMetadata": {
      "byteLimit": 2048000,
      "rowLimit": 10000
     },
     "inputWidgets": {},
     "nuid": "8dac3ddb-cf5c-408a-ae84-469106b0b412",
     "showTitle": false,
     "tableResultSettingsMap": {},
     "title": ""
    }
   },
   "outputs": [],
   "source": [
    "fig, ax = plot_score_dist(scores_2025.loc[subset], q_thresh_2025, 2025, bins=10, log_y_scale=False)\n",
    "ax.set_title(f\"Distribution of eRADAR Scores for REDUCE Patients\", y=1.05)\n",
    "plt.show()\n",
    "plt.close()"
   ]
  },
  {
   "cell_type": "code",
   "execution_count": 0,
   "metadata": {
    "application/vnd.databricks.v1+cell": {
     "cellMetadata": {
      "byteLimit": 2048000,
      "rowLimit": 10000
     },
     "inputWidgets": {},
     "nuid": "7daca3cc-0be9-4fc9-abc4-0adbcabf4f71",
     "showTitle": false,
     "tableResultSettingsMap": {},
     "title": ""
    }
   },
   "outputs": [],
   "source": [
    "# get list of missing participants\n",
    "reduce_mrns.loc[~reduce_mrns[\"Provider ID\"].isin([\"PR007\", \"PR008\"]) & ~reduce_mrns[\"MRN\"].isin(subset), \"MRN\"].to_csv(\"MRN_missing.csv\")"
   ]
  },
  {
   "cell_type": "markdown",
   "metadata": {
    "application/vnd.databricks.v1+cell": {
     "cellMetadata": {
      "byteLimit": 2048000,
      "rowLimit": 10000
     },
     "inputWidgets": {},
     "nuid": "b385b1f2-c57f-40d2-a7c6-88c642da47c7",
     "showTitle": false,
     "tableResultSettingsMap": {},
     "title": ""
    }
   },
   "source": [
    "#### Most influential features for high eRADAR scores."
   ]
  },
  {
   "cell_type": "markdown",
   "metadata": {
    "application/vnd.databricks.v1+cell": {
     "cellMetadata": {
      "byteLimit": 2048000,
      "rowLimit": 10000
     },
     "inputWidgets": {},
     "nuid": "74a872dc-590b-45fc-9e4b-9b894cda69b3",
     "showTitle": false,
     "tableResultSettingsMap": {},
     "title": ""
    }
   },
   "source": [
    "##### Prevalence of features"
   ]
  },
  {
   "cell_type": "code",
   "execution_count": 0,
   "metadata": {
    "application/vnd.databricks.v1+cell": {
     "cellMetadata": {
      "byteLimit": 2048000,
      "rowLimit": 10000
     },
     "inputWidgets": {},
     "nuid": "429a148d-fc4c-4cdc-8d7e-c8fc50a55f3c",
     "showTitle": false,
     "tableResultSettingsMap": {},
     "title": ""
    }
   },
   "outputs": [],
   "source": [
    "from scipy.stats import chi2_contingency, ttest_ind"
   ]
  },
  {
   "cell_type": "code",
   "execution_count": 0,
   "metadata": {
    "application/vnd.databricks.v1+cell": {
     "cellMetadata": {
      "byteLimit": 2048000,
      "rowLimit": 10000
     },
     "inputWidgets": {},
     "nuid": "af45d1fb-b4c5-4db0-88d8-955090d60c88",
     "showTitle": false,
     "tableResultSettingsMap": {},
     "title": ""
    }
   },
   "outputs": [],
   "source": [
    "q = 85\n",
    "\n",
    "threshold = q_thresh_2025[q]\n",
    "\n",
    "lo_prev = feature_prevalence(data_2025.loc[scores_2025 <  threshold])\n",
    "hi_prev = feature_prevalence(data_2025.loc[scores_2025 >= threshold])\n",
    "\n",
    "comparison = pd.merge(lo_prev, hi_prev, left_index=True, right_index=True, suffixes=(\"_lo\", \"_hi\"))\n",
    "comparison[\"Statistic\"] = np.nan\n",
    "comparison[\"p-value\"] = np.nan\n",
    "comparison[\"Odds Ratio\"] = np.nan\n",
    "\n",
    "for feature in comparison.index:\n",
    "    if feature == \"age\":\n",
    "        result = ttest_ind(data_2025.loc[scores_2025 >= threshold, \"age\"], data_2025.loc[scores_2025 < threshold, \"age\"])\n",
    "        comparison.loc[feature, \"Statistic\"] = result.statistic\n",
    "        comparison.loc[feature, \"p-value\"] = result.pvalue\n",
    "    else:\n",
    "        observed = np.array([\n",
    "            [hi_prev.loc[feature, \"ct\"], (scores_2025 >= threshold).sum() - hi_prev.loc[feature, \"ct\"]],\n",
    "            [lo_prev.loc[feature, \"ct\"], (scores_2025 <  threshold).sum() - lo_prev.loc[feature, \"ct\"]]\n",
    "        ])\n",
    "\n",
    "        result = chi2_contingency(observed)\n",
    "        comparison.loc[feature, \"Statistic\"] = result.statistic\n",
    "        comparison.loc[feature, \"p-value\"] = result.pvalue\n",
    "        comparison.loc[feature, \"Odds Ratio\"] = (observed[0,0] * observed[1,1]) / (observed[0,1] * observed[1,0])"
   ]
  },
  {
   "cell_type": "code",
   "execution_count": 0,
   "metadata": {
    "application/vnd.databricks.v1+cell": {
     "cellMetadata": {
      "byteLimit": 2048000,
      "rowLimit": 10000
     },
     "inputWidgets": {},
     "nuid": "5c30d18c-cde7-4b41-880c-c7c40c34c4b9",
     "showTitle": false,
     "tableResultSettingsMap": {},
     "title": ""
    }
   },
   "outputs": [],
   "source": [
    "comparison[\"Low Risk\"] = comparison.apply(lambda x: f\"{x[\"ct_lo\"]:.1f} ({x[\"pct_lo\"]:.1f})\", axis=1)\n",
    "comparison[\"High Risk\"] = comparison.apply(lambda x: f\"{x[\"ct_hi\"]:.1f} ({x[\"pct_hi\"]:.1f})\", axis=1)\n",
    "comparison[\"Delta\"] = comparison.apply(lambda x: abs(x[\"pct_lo\"] - x[\"pct_hi\"]), axis=1)\n",
    "comparison.loc[\"age\", \"Delta\"] = abs(comparison.loc[\"age\", \"ct_lo\"] - comparison.loc[\"age\", \"ct_hi\"])\n",
    "comparison[[\"Low Risk\", \"High Risk\", \"Delta\", \"Statistic\", \"p-value\", \"Odds Ratio\"]].sort_values(by=[\"p-value\"])"
   ]
  },
  {
   "cell_type": "markdown",
   "metadata": {
    "application/vnd.databricks.v1+cell": {
     "cellMetadata": {
      "byteLimit": 2048000,
      "rowLimit": 10000
     },
     "inputWidgets": {},
     "nuid": "4742d188-79c5-4cea-bf29-a1a5bf24c68c",
     "showTitle": false,
     "tableResultSettingsMap": {},
     "title": ""
    }
   },
   "source": [
    "##### SHAP values"
   ]
  },
  {
   "cell_type": "code",
   "execution_count": 0,
   "metadata": {
    "application/vnd.databricks.v1+cell": {
     "cellMetadata": {
      "byteLimit": 2048000,
      "rowLimit": 10000
     },
     "inputWidgets": {},
     "nuid": "0fcac965-a32d-47ed-a706-1cfbd8ff1d69",
     "showTitle": false,
     "tableResultSettingsMap": {},
     "title": ""
    }
   },
   "outputs": [],
   "source": [
    "import shap"
   ]
  },
  {
   "cell_type": "code",
   "execution_count": 0,
   "metadata": {
    "application/vnd.databricks.v1+cell": {
     "cellMetadata": {
      "byteLimit": 2048000,
      "rowLimit": 10000
     },
     "inputWidgets": {},
     "nuid": "dfa34f40-cc39-4d31-a8a6-417942789aa6",
     "showTitle": false,
     "tableResultSettingsMap": {},
     "title": ""
    }
   },
   "outputs": [],
   "source": [
    "q = 85\n",
    "\n",
    "threshold = q_thresh_2025[q]\n",
    "\n",
    "explainer = shap.Explainer(model.score, data_2025)\n",
    "shap_values = explainer(data_2025)"
   ]
  },
  {
   "cell_type": "code",
   "execution_count": 0,
   "metadata": {
    "application/vnd.databricks.v1+cell": {
     "cellMetadata": {
      "byteLimit": 2048000,
      "rowLimit": 10000
     },
     "inputWidgets": {},
     "nuid": "e7993ff5-4fd4-4c7a-bf80-0d2a0df5493d",
     "showTitle": false,
     "tableResultSettingsMap": {},
     "title": ""
    }
   },
   "outputs": [],
   "source": [
    "shap.plots.beeswarm(shap_values[(scores_2025 >= threshold).values], max_display=data_2025.shape[1])"
   ]
  },
  {
   "cell_type": "code",
   "execution_count": 0,
   "metadata": {
    "application/vnd.databricks.v1+cell": {
     "cellMetadata": {
      "byteLimit": 2048000,
      "rowLimit": 10000
     },
     "inputWidgets": {},
     "nuid": "bb01cd00-b951-49e9-9dde-f5f285286c7e",
     "showTitle": false,
     "tableResultSettingsMap": {},
     "title": ""
    }
   },
   "outputs": [],
   "source": [
    "shap.plots.beeswarm(shap_values, max_display=data_2025.shape[1])"
   ]
  }
 ],
 "metadata": {
  "application/vnd.databricks.v1+notebook": {
   "computePreferences": null,
   "dashboards": [
    {
     "elements": [
      {
       "dashboardResultIndex": null,
       "elementNUID": "4f78322d-4396-4723-acf2-2402cfdecd3c",
       "elementType": "command",
       "guid": "28a69879-8711-4b3a-bbdd-045274c0e9ee",
       "options": null,
       "position": {
        "height": 1,
        "width": 12,
        "x": 0,
        "y": 0,
        "z": null
       },
       "resultIndex": null
      },
      {
       "dashboardResultIndex": null,
       "elementNUID": "238ab25a-b4dd-4f1d-9fa3-42e35bfffed1",
       "elementType": "command",
       "guid": "51604f35-9fdf-4a23-81e1-207e77f366f7",
       "options": null,
       "position": {
        "height": 6,
        "width": 12,
        "x": 0,
        "y": 6,
        "z": null
       },
       "resultIndex": null
      },
      {
       "dashboardResultIndex": null,
       "elementNUID": "47a10437-c14e-4f69-a8c9-e66692632dfa",
       "elementType": "command",
       "guid": "8c626a77-5fe3-41a1-92ee-ef4fe6045b66",
       "options": null,
       "position": {
        "height": 2,
        "width": 12,
        "x": 0,
        "y": 12,
        "z": null
       },
       "resultIndex": null
      },
      {
       "dashboardResultIndex": null,
       "elementNUID": "07540f26-e9e6-4b5a-a8f5-49d21e73f1d7",
       "elementType": "command",
       "guid": "a86af3ff-783d-4347-a618-40a1f90efb9f",
       "options": null,
       "position": {
        "height": 2,
        "width": 12,
        "x": 0,
        "y": 24,
        "z": null
       },
       "resultIndex": null
      },
      {
       "dashboardResultIndex": null,
       "elementNUID": "6bd2363e-2b05-40fa-9f69-02a141559667",
       "elementType": "command",
       "guid": "c0fce009-0e5c-4151-bb1c-f0898b1b943f",
       "options": null,
       "position": {
        "height": 6,
        "width": 12,
        "x": 0,
        "y": 30,
        "z": null
       },
       "resultIndex": null
      },
      {
       "dashboardResultIndex": null,
       "elementNUID": "4b53fbff-a767-4e38-8396-20fa2cc6767d",
       "elementType": "command",
       "guid": "ff6bd061-9974-4785-a946-228809946f4d",
       "options": null,
       "position": {
        "height": 1,
        "width": 12,
        "x": 0,
        "y": 36,
        "z": null
       },
       "resultIndex": null
      }
     ],
     "globalVars": {},
     "guid": "",
     "layoutOption": {
      "grid": true,
      "stack": true
     },
     "nuid": "55646510-7f74-47ed-95aa-57133bcb5ab8",
     "origId": 7776694062157309,
     "title": "Untitled",
     "version": "DashboardViewV1",
     "width": 1024
    }
   ],
   "environmentMetadata": {
    "base_environment": "",
    "environment_version": "2"
   },
   "inputWidgetPreferences": null,
   "language": "python",
   "notebookMetadata": {
    "pythonIndentUnit": 4
   },
   "notebookName": "eRADAR",
   "widgets": {}
  },
  "language_info": {
   "name": "python"
  }
 },
 "nbformat": 4,
 "nbformat_minor": 0
}
