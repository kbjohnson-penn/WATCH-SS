{
 "cells": [
  {
   "cell_type": "markdown",
   "metadata": {
    "application/vnd.databricks.v1+cell": {
     "cellMetadata": {
      "byteLimit": 2048000,
      "rowLimit": 10000
     },
     "inputWidgets": {},
     "nuid": "07540f26-e9e6-4b5a-a8f5-49d21e73f1d7",
     "showTitle": false,
     "tableResultSettingsMap": {},
     "title": ""
    }
   },
   "source": [
    "# eRADAR "
   ]
  },
  {
   "cell_type": "code",
   "execution_count": 0,
   "metadata": {
    "application/vnd.databricks.v1+cell": {
     "cellMetadata": {
      "byteLimit": 2048000,
      "rowLimit": 10000
     },
     "inputWidgets": {},
     "nuid": "a65a7cd0-d692-4ccb-8b16-5c1682dffe2b",
     "showTitle": false,
     "tableResultSettingsMap": {},
     "title": ""
    }
   },
   "outputs": [],
   "source": [
    "import numpy as np\n",
    "import pandas as pd"
   ]
  },
  {
   "cell_type": "markdown",
   "metadata": {
    "application/vnd.databricks.v1+cell": {
     "cellMetadata": {
      "byteLimit": 2048000,
      "rowLimit": 10000
     },
     "inputWidgets": {},
     "nuid": "47a10437-c14e-4f69-a8c9-e66692632dfa",
     "showTitle": false,
     "tableResultSettingsMap": {},
     "title": ""
    }
   },
   "source": [
    "Load the patient data.\n",
    "- /Volumes/biomedicalinformatics_analytics/dev_lab_johnson/watch/pair_watch_final_2025.csv"
   ]
  },
  {
   "cell_type": "code",
   "execution_count": 0,
   "metadata": {
    "application/vnd.databricks.v1+cell": {
     "cellMetadata": {
      "byteLimit": 2048000,
      "rowLimit": 10000
     },
     "inputWidgets": {},
     "nuid": "6bd2363e-2b05-40fa-9f69-02a141559667",
     "showTitle": false,
     "tableResultSettingsMap": {},
     "title": ""
    }
   },
   "outputs": [],
   "source": [
    "pt_data = pd.read_csv(\"/Volumes/biomedicalinformatics_analytics/dev_lab_johnson/watch/pair_watch_final_2025.csv\", header=0, index_col=0)\n",
    "pt_data.head()"
   ]
  },
  {
   "cell_type": "markdown",
   "metadata": {
    "application/vnd.databricks.v1+cell": {
     "cellMetadata": {
      "byteLimit": 2048000,
      "rowLimit": 10000
     },
     "inputWidgets": {},
     "nuid": "4b53fbff-a767-4e38-8396-20fa2cc6767d",
     "showTitle": false,
     "tableResultSettingsMap": {},
     "title": ""
    }
   },
   "source": [
    "Apply the eRADAR model to the patient data."
   ]
  },
  {
   "cell_type": "code",
   "execution_count": 0,
   "metadata": {
    "application/vnd.databricks.v1+cell": {
     "cellMetadata": {
      "byteLimit": 2048000,
      "rowLimit": 10000
     },
     "inputWidgets": {},
     "nuid": "b3f74f35-a66f-4b92-8ed4-747bae2e1a56",
     "showTitle": false,
     "tableResultSettingsMap": {},
     "title": ""
    }
   },
   "outputs": [],
   "source": [
    "class eRADAR:\n",
    "    def __init__(self):\n",
    "        self.intercept = -11.83\n",
    "        self.weights = [0.11, -0.10, 0.28, 0.18, 0.06, 0.34, -0.11, 0.05, -0.15, 0.01, -0.17, -0.05, -0.34, -0.07, -0.25, 0.46, 0.03, 0.20, -0.15, 0.03, 0.24, 0.29, -0.11, -0.09, -0.55, 0.34, 0.00, -0.13, 0.47, 0.58, 0.03]\n",
    "\n",
    "    def score(self, x):\n",
    "        return 1 / (1 + np.exp(-self.intercept - np.dot(self.weights, x)))"
   ]
  },
  {
   "cell_type": "code",
   "execution_count": 0,
   "metadata": {
    "application/vnd.databricks.v1+cell": {
     "cellMetadata": {
      "byteLimit": 2048000,
      "rowLimit": 10000
     },
     "inputWidgets": {},
     "nuid": "0d6110fb-c55e-48b2-9316-e68cc433afc3",
     "showTitle": false,
     "tableResultSettingsMap": {},
     "title": ""
    }
   },
   "outputs": [],
   "source": [
    "model = eRADAR()\n",
    "\n",
    "pt_scores = pt_data[[\"age\", \"female\", \"dx_chf\", \"dx_cebv\", \"dx_diab\", \"dx_diab_c\", \"dx_cpd\", \"dx_hypothyoidism\", \"dx_rf\", \"dx_lymphoma\", \"dx_solidtumor\", \"dx_ra\", \"dx_weightloss\", \"dx_fluid\", \"dx_anemia\", \"dx_bipolar\", \"dx_depression\", \"dx_trauma\", \"dx_tobacco\", \"dx_atrial\", \"dx_gait\", \"low_bmi\", \"high_bmi\", \"hbp\", \"op_primary_care_visit\", \"ed_visit\", \"home_visit\", \"pt_visit\", \"cognitive_visit\", \"med_antidepressant\", \"med_sleepaid\"]].apply(model.score, axis=1)"
   ]
  },
  {
   "cell_type": "markdown",
   "metadata": {
    "application/vnd.databricks.v1+cell": {
     "cellMetadata": {
      "byteLimit": 2048000,
      "rowLimit": 10000
     },
     "inputWidgets": {},
     "nuid": "4f78322d-4396-4723-acf2-2402cfdecd3c",
     "showTitle": false,
     "tableResultSettingsMap": {},
     "title": ""
    }
   },
   "source": [
    "Analysis."
   ]
  },
  {
   "cell_type": "code",
   "execution_count": 0,
   "metadata": {
    "application/vnd.databricks.v1+cell": {
     "cellMetadata": {
      "byteLimit": 2048000,
      "rowLimit": 10000
     },
     "inputWidgets": {},
     "nuid": "b2f33d4b-64e9-46e2-bc85-4762f8d27b60",
     "showTitle": false,
     "tableResultSettingsMap": {},
     "title": ""
    }
   },
   "outputs": [],
   "source": [
    "import matplotlib.pyplot as plt"
   ]
  },
  {
   "cell_type": "code",
   "execution_count": 0,
   "metadata": {
    "application/vnd.databricks.v1+cell": {
     "cellMetadata": {
      "byteLimit": 2048000,
      "rowLimit": 10000
     },
     "inputWidgets": {},
     "nuid": "238ab25a-b4dd-4f1d-9fa3-42e35bfffed1",
     "showTitle": false,
     "tableResultSettingsMap": {},
     "title": ""
    }
   },
   "outputs": [],
   "source": [
    "qs = [99] + list(range(95, 45, -5))\n",
    "thresholds = np.percentile(pt_scores, qs)\n",
    "n_patients = [(pt_scores >= t).sum() for t in thresholds]\n",
    "ages = [(round(pt_data.loc[(pt_scores >= t), \"age\"].mean()), round(pt_data.loc[(pt_scores >= t), \"age\"].std(), 2)) for t in thresholds]\n",
    "females = [round(pt_data.loc[(pt_scores >= t), \"female\"].sum() / pt_data.loc[(pt_scores >= t)].shape[0], 2) for t in thresholds]\n",
    "\n",
    "pd.DataFrame({\"Cutoff Percentile\": qs, \"Cutoff\": thresholds, \"Num. Patients\": n_patients, \"Age (mean, std)\": ages, \"Pct. Female\": females})"
   ]
  },
  {
   "cell_type": "code",
   "execution_count": 0,
   "metadata": {
    "application/vnd.databricks.v1+cell": {
     "cellMetadata": {
      "byteLimit": 2048000,
      "rowLimit": 10000
     },
     "inputWidgets": {},
     "nuid": "1a79c10d-37d7-48d5-bfee-6fe54566253b",
     "showTitle": false,
     "tableResultSettingsMap": {},
     "title": ""
    }
   },
   "outputs": [],
   "source": [
    "plt.figure(figsize=(15, 5))\n",
    "plt.hist(pt_scores, bins=500)\n",
    "\n",
    "for i in [0, 1, 2, 4, 9]:\n",
    "    plt.axvline(thresholds[i], color=\"red\", linestyle=\"--\", alpha=0.6)\n",
    "    plt.text(thresholds[i], 1.02, f\"{qs[i]}th\", transform=plt.gca().get_xaxis_transform(), color=\"red\", rotation=90, ha=\"center\")\n",
    "\n",
    "plt.xlim([0, 1])\n",
    "plt.xticks(np.arange(0.0, 1.1, 0.1))\n",
    "plt.yscale(\"log\")\n",
    "plt.xlabel(\"eRADAR Score\")\n",
    "plt.ylabel(\"Frequency (Num. Patients)\")\n",
    "plt.title(\"Distribution of eRADAR Scores for Penn Patients\", y=1.05)\n",
    "plt.grid()\n",
    "plt.show()"
   ]
  },
  {
   "cell_type": "code",
   "execution_count": 0,
   "metadata": {
    "application/vnd.databricks.v1+cell": {
     "cellMetadata": {},
     "inputWidgets": {},
     "nuid": "4491fa45-ddff-4121-a6fa-e902b0d48c7b",
     "showTitle": false,
     "tableResultSettingsMap": {},
     "title": ""
    }
   },
   "outputs": [],
   "source": []
  }
 ],
 "metadata": {
  "application/vnd.databricks.v1+notebook": {
   "computePreferences": null,
   "dashboards": [
    {
     "elements": [
      {
       "dashboardResultIndex": null,
       "elementNUID": "4f78322d-4396-4723-acf2-2402cfdecd3c",
       "elementType": "command",
       "guid": "28a69879-8711-4b3a-bbdd-045274c0e9ee",
       "options": null,
       "position": {
        "height": 1,
        "width": 12,
        "x": 0,
        "y": 0,
        "z": null
       },
       "resultIndex": null
      },
      {
       "dashboardResultIndex": null,
       "elementNUID": "238ab25a-b4dd-4f1d-9fa3-42e35bfffed1",
       "elementType": "command",
       "guid": "51604f35-9fdf-4a23-81e1-207e77f366f7",
       "options": null,
       "position": {
        "height": 6,
        "width": 12,
        "x": 0,
        "y": 6,
        "z": null
       },
       "resultIndex": null
      },
      {
       "dashboardResultIndex": null,
       "elementNUID": "47a10437-c14e-4f69-a8c9-e66692632dfa",
       "elementType": "command",
       "guid": "8c626a77-5fe3-41a1-92ee-ef4fe6045b66",
       "options": null,
       "position": {
        "height": 2,
        "width": 12,
        "x": 0,
        "y": 12,
        "z": null
       },
       "resultIndex": null
      },
      {
       "dashboardResultIndex": null,
       "elementNUID": "1a79c10d-37d7-48d5-bfee-6fe54566253b",
       "elementType": "command",
       "guid": "96fdea5a-54e2-4c15-86e9-45c9a1e1b9fe",
       "options": null,
       "position": {
        "height": 6,
        "width": 12,
        "x": 0,
        "y": 18,
        "z": null
       },
       "resultIndex": null
      },
      {
       "dashboardResultIndex": null,
       "elementNUID": "07540f26-e9e6-4b5a-a8f5-49d21e73f1d7",
       "elementType": "command",
       "guid": "a86af3ff-783d-4347-a618-40a1f90efb9f",
       "options": null,
       "position": {
        "height": 2,
        "width": 12,
        "x": 0,
        "y": 24,
        "z": null
       },
       "resultIndex": null
      },
      {
       "dashboardResultIndex": null,
       "elementNUID": "6bd2363e-2b05-40fa-9f69-02a141559667",
       "elementType": "command",
       "guid": "c0fce009-0e5c-4151-bb1c-f0898b1b943f",
       "options": null,
       "position": {
        "height": 6,
        "width": 12,
        "x": 0,
        "y": 30,
        "z": null
       },
       "resultIndex": null
      },
      {
       "dashboardResultIndex": null,
       "elementNUID": "4b53fbff-a767-4e38-8396-20fa2cc6767d",
       "elementType": "command",
       "guid": "ff6bd061-9974-4785-a946-228809946f4d",
       "options": null,
       "position": {
        "height": 1,
        "width": 12,
        "x": 0,
        "y": 36,
        "z": null
       },
       "resultIndex": null
      }
     ],
     "globalVars": {},
     "guid": "",
     "layoutOption": {
      "grid": true,
      "stack": true
     },
     "nuid": "55646510-7f74-47ed-95aa-57133bcb5ab8",
     "origId": 7776694062157309,
     "title": "Untitled",
     "version": "DashboardViewV1",
     "width": 1024
    }
   ],
   "environmentMetadata": {
    "base_environment": "",
    "environment_version": "2"
   },
   "inputWidgetPreferences": null,
   "language": "python",
   "notebookMetadata": {
    "pythonIndentUnit": 4
   },
   "notebookName": "eRADAR",
   "widgets": {}
  },
  "language_info": {
   "name": "python"
  }
 },
 "nbformat": 4,
 "nbformat_minor": 0
}
