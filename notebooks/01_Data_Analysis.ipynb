{
 "cells": [
  {
   "cell_type": "code",
   "execution_count": 0,
   "metadata": {
    "application/vnd.databricks.v1+cell": {
     "cellMetadata": {
      "byteLimit": 2048000,
      "rowLimit": 10000
     },
     "inputWidgets": {},
     "nuid": "ab3c98c0-bd46-4fee-aa52-5bab3f4553f9",
     "showTitle": false,
     "tableResultSettingsMap": {},
     "title": ""
    }
   },
   "outputs": [],
   "source": [
    "import matplotlib.pyplot as plt\n",
    "import numpy as np\n",
    "import pandas as pd\n",
    "import re"
   ]
  },
  {
   "cell_type": "markdown",
   "metadata": {
    "application/vnd.databricks.v1+cell": {
     "cellMetadata": {},
     "inputWidgets": {},
     "nuid": "0d92d1b3-d8a6-4632-bf4f-1808ef0a4bcc",
     "showTitle": false,
     "tableResultSettingsMap": {},
     "title": ""
    }
   },
   "source": [
    "### Penn OBSERVER"
   ]
  },
  {
   "cell_type": "code",
   "execution_count": 0,
   "metadata": {
    "application/vnd.databricks.v1+cell": {
     "cellMetadata": {
      "byteLimit": 2048000,
      "rowLimit": 10000
     },
     "inputWidgets": {},
     "nuid": "b3a298bb-d347-40f3-abb7-a403e25cb1a4",
     "showTitle": false,
     "tableResultSettingsMap": {},
     "title": ""
    }
   },
   "outputs": [],
   "source": [
    "visits = pd.read_csv(\"/Volumes/biomedicalinformatics_analytics/dev_lab_johnson/swimcap/Penn OBSERVER/note_visit_mapping.csv\", header=None)\n",
    "visits = visits.rename(columns={0: \"visit_id\", 1: \"name\"})\n",
    "visits = visits.set_index(\"visit_id\")\n",
    "visits[\"provider_id\"] = visits[\"name\"].apply(lambda x: int(re.search(r\"PR(\\d+)\", x).group(1)))\n",
    "visits[\"patient_id\"] = visits[\"name\"].apply(lambda x: int(re.search(r\"PT(\\d+)\", x).group(1)))\n",
    "visits[\"date\"] = pd.to_datetime(visits[\"name\"].apply(lambda x: re.search(r\"(\\d{1,2}\\.\\d{1,2}\\.\\d{4})\", x).group(1)))\n",
    "visits"
   ]
  },
  {
   "cell_type": "code",
   "execution_count": 0,
   "metadata": {
    "application/vnd.databricks.v1+cell": {
     "cellMetadata": {
      "byteLimit": 2048000,
      "rowLimit": 10000
     },
     "inputWidgets": {},
     "nuid": "37ee4bae-5bb2-49c0-b768-254bd106ab74",
     "showTitle": false,
     "tableResultSettingsMap": {},
     "title": ""
    }
   },
   "outputs": [],
   "source": [
    "labels = pd.read_excel(\"visit_problem_lists_labeled.xlsx\")\n",
    "labels = labels.rename(columns={\"Unnamed: 0\": \"visit_id\"})\n",
    "labels[\"visit_id\"] = labels[\"visit_id\"].str.removesuffix(\"_PL\")\n",
    "labels = labels.set_index(\"visit_id\")\n",
    "labels[\"generated_label\"] = labels[\"generated_label\"].str.rstrip()\n",
    "labels"
   ]
  },
  {
   "cell_type": "code",
   "execution_count": 0,
   "metadata": {
    "application/vnd.databricks.v1+cell": {
     "cellMetadata": {
      "byteLimit": 2048000,
      "rowLimit": 10000
     },
     "inputWidgets": {},
     "nuid": "4b6a167f-8aee-4bf2-a4b1-0beaee6d6780",
     "showTitle": false,
     "tableResultSettingsMap": {},
     "title": ""
    }
   },
   "outputs": [],
   "source": [
    "labels[\"generated_label\"].value_counts()"
   ]
  },
  {
   "cell_type": "markdown",
   "metadata": {
    "application/vnd.databricks.v1+cell": {
     "cellMetadata": {},
     "inputWidgets": {},
     "nuid": "c7a7c25f-fc90-4d39-a829-7250781e2b15",
     "showTitle": false,
     "tableResultSettingsMap": {},
     "title": ""
    }
   },
   "source": [
    "Neurology Patients ONLY"
   ]
  },
  {
   "cell_type": "code",
   "execution_count": 0,
   "metadata": {
    "application/vnd.databricks.v1+cell": {
     "cellMetadata": {
      "byteLimit": 2048000,
      "rowLimit": 10000
     },
     "inputWidgets": {},
     "nuid": "995327c2-4772-48bc-93ca-c9bfc4aa4911",
     "showTitle": false,
     "tableResultSettingsMap": {},
     "title": ""
    }
   },
   "outputs": [],
   "source": [
    "penn_neuro_pts = pd.read_excel(\"../data/cognitive_test_scores.xlsx\")\n",
    "penn_neuro_pts = penn_neuro_pts.rename(columns={\"MMSE\": \"mmse\"})\n",
    "penn_neuro_pts[\"Label\"] = pd.NA\n",
    "penn_neuro_pts.shape"
   ]
  },
  {
   "cell_type": "code",
   "execution_count": 0,
   "metadata": {
    "application/vnd.databricks.v1+cell": {
     "cellMetadata": {
      "byteLimit": 2048000,
      "rowLimit": 10000
     },
     "inputWidgets": {},
     "nuid": "6e4981c7-1ae4-4665-8b01-a1d6f8f5d081",
     "showTitle": false,
     "tableResultSettingsMap": {},
     "title": ""
    }
   },
   "outputs": [],
   "source": [
    "bins = np.linspace(0, 30, 15)\n",
    "\n",
    "plt.hist(penn_neuro_pts[\"mmse\"], bins=bins, edgecolor=\"k\")\n",
    "plt.title(\"MMSE Scores for Penn OBSERVER Neurology Patients\")\n",
    "plt.xlabel(\"MMSE Score\")\n",
    "plt.ylabel(\"Frequency\")\n",
    "plt.xlim([-1, 31])\n",
    "plt.grid()\n",
    "plt.show()"
   ]
  },
  {
   "cell_type": "code",
   "execution_count": 0,
   "metadata": {
    "application/vnd.databricks.v1+cell": {
     "cellMetadata": {
      "byteLimit": 2048000,
      "rowLimit": 10000
     },
     "inputWidgets": {},
     "nuid": "2cb49f66-f918-4b26-b16b-bbdb03f8ae0e",
     "showTitle": false,
     "tableResultSettingsMap": {},
     "title": ""
    }
   },
   "outputs": [],
   "source": [
    "bins = np.linspace(0, 30, 15)\n",
    "\n",
    "plt.hist(penn_neuro_pts[\"FRS\"], bins=bins, edgecolor=\"k\")\n",
    "plt.title(\"FRS Scores for Penn OBSERVER Neurology Patients\")\n",
    "plt.xlabel(\"FRS Score\")\n",
    "plt.ylabel(\"Frequency\")\n",
    "plt.xlim([-1, 31])\n",
    "plt.grid()\n",
    "plt.show()"
   ]
  },
  {
   "cell_type": "markdown",
   "metadata": {
    "application/vnd.databricks.v1+cell": {
     "cellMetadata": {},
     "inputWidgets": {},
     "nuid": "1fde0ac5-bf51-4e15-9755-c2004b3f58d8",
     "showTitle": false,
     "tableResultSettingsMap": {},
     "title": ""
    }
   },
   "source": [
    "### ADReSS"
   ]
  },
  {
   "cell_type": "code",
   "execution_count": 0,
   "metadata": {
    "application/vnd.databricks.v1+cell": {
     "cellMetadata": {
      "byteLimit": 2048000,
      "rowLimit": 10000
     },
     "inputWidgets": {},
     "nuid": "72c6e677-899f-409b-ad9b-69ea1d295370",
     "showTitle": false,
     "tableResultSettingsMap": {},
     "title": ""
    }
   },
   "outputs": [],
   "source": [
    "ctrl_grp = pd.read_csv(\"/Volumes/biomedicalinformatics_analytics/dev_lab_johnson/adresso/ADReSS-IS2020/train/cc_meta_data.txt\", sep=r\"\\s*;\\s*\", engine=\"python\")\n",
    "expr_grp = pd.read_csv(\"/Volumes/biomedicalinformatics_analytics/dev_lab_johnson/adresso/ADReSS-IS2020/train/cd_meta_data.txt\", sep=r\"\\s*;\\s*\", engine=\"python\")\n",
    "\n",
    "ctrl_grp[\"Label\"] = 0\n",
    "expr_grp[\"Label\"] = 1\n",
    "\n",
    "adress_trn_pts = pd.concat((ctrl_grp, expr_grp))\n",
    "adress_trn_pts = adress_trn_pts.set_index(\"ID\")\n",
    "adress_trn_pts.shape"
   ]
  },
  {
   "cell_type": "code",
   "execution_count": 0,
   "metadata": {
    "application/vnd.databricks.v1+cell": {
     "cellMetadata": {
      "byteLimit": 2048000,
      "rowLimit": 10000
     },
     "inputWidgets": {},
     "nuid": "70d280d3-7fe7-44f2-b206-12d8ae14f49d",
     "showTitle": false,
     "tableResultSettingsMap": {},
     "title": ""
    }
   },
   "outputs": [],
   "source": [
    "adress_tst_pts = pd.read_csv(\"/Volumes/biomedicalinformatics_analytics/dev_lab_johnson/adresso/ADReSS-IS2020/test/meta_data.txt\", sep=r\"\\s*;\\s*\", engine=\"python\")\n",
    "adress_tst_pts = adress_tst_pts.set_index(\"ID\")\n",
    "adress_tst_pts.shape"
   ]
  },
  {
   "cell_type": "code",
   "execution_count": 0,
   "metadata": {
    "application/vnd.databricks.v1+cell": {
     "cellMetadata": {
      "byteLimit": 2048000,
      "rowLimit": 10000
     },
     "inputWidgets": {},
     "nuid": "a0a14b28-eef0-420e-816a-711155df6808",
     "showTitle": false,
     "tableResultSettingsMap": {},
     "title": ""
    }
   },
   "outputs": [],
   "source": [
    "bins = np.linspace(0, 30, 15)\n",
    "\n",
    "plt.hist([adress_trn_pts[\"mmse\"], adress_tst_pts[\"mmse\"]], bins=bins, label=[\"Train\", \"Test\"], edgecolor=\"k\")\n",
    "plt.title(\"MMSE Scores for ADReSS Dataset\")\n",
    "plt.xlabel(\"MMSE Score\")\n",
    "plt.ylabel(\"Frequency\")\n",
    "plt.legend(loc=\"upper left\")\n",
    "plt.xlim([-1, 31])\n",
    "plt.grid()\n",
    "plt.show()"
   ]
  },
  {
   "cell_type": "markdown",
   "metadata": {
    "application/vnd.databricks.v1+cell": {
     "cellMetadata": {},
     "inputWidgets": {},
     "nuid": "ead65f9a-55b9-45f7-adc9-640b28455866",
     "showTitle": false,
     "tableResultSettingsMap": {},
     "title": ""
    }
   },
   "source": [
    "### ADReSSo"
   ]
  },
  {
   "cell_type": "code",
   "execution_count": 0,
   "metadata": {
    "application/vnd.databricks.v1+cell": {
     "cellMetadata": {
      "byteLimit": 2048000,
      "rowLimit": 10000
     },
     "inputWidgets": {},
     "nuid": "c072f981-174d-47ad-adb5-3544fefdfdd8",
     "showTitle": false,
     "tableResultSettingsMap": {},
     "title": ""
    }
   },
   "outputs": [],
   "source": [
    "adresso_trn_pts = pd.read_csv(\"/Volumes/biomedicalinformatics_analytics/dev_lab_johnson/adresso/ADReSSo-IS2021/diagnosis/train/adresso-train-mmse-scores-diagnoses.csv\")\n",
    "adresso_trn_pts = adresso_trn_pts.rename(columns={\"Unnamed: 0\": \"ID Number\", \"adressfname\": \"ID\"})\n",
    "adresso_trn_pts[\"Label\"] = adresso_trn_pts[\"dx\"].map({\"cn\": 0, \"ad\": 1})\n",
    "adresso_trn_pts.shape"
   ]
  },
  {
   "cell_type": "code",
   "execution_count": 0,
   "metadata": {
    "application/vnd.databricks.v1+cell": {
     "cellMetadata": {
      "byteLimit": 2048000,
      "rowLimit": 10000
     },
     "inputWidgets": {},
     "nuid": "298c30d7-f971-41de-a59c-c1c51bff9766",
     "showTitle": false,
     "tableResultSettingsMap": {},
     "title": ""
    }
   },
   "outputs": [],
   "source": [
    "mmse_scores = pd.read_csv(\"/Volumes/biomedicalinformatics_analytics/dev_lab_johnson/adresso/ADReSSo-IS2021/diagnosis/test/adresso-test-mmse-scores.csv\")\n",
    "diagnoses = pd.read_csv(\"/Volumes/biomedicalinformatics_analytics/dev_lab_johnson/adresso/ADReSSo-IS2021/diagnosis/test/adresso-test-diagnoses.csv\")\n",
    "\n",
    "adresso_tst_pts = pd.merge(mmse_scores, diagnoses, on=\"ID\", how=\"inner\")\n",
    "adresso_tst_pts = adresso_tst_pts.rename(columns={\"MMSE\": \"mmse\", \"Dx\": \"dx\"})\n",
    "adresso_tst_pts[\"Label\"] = adresso_tst_pts[\"dx\"].map({\"Control\": 0, \"ProbableAD\": 1})\n",
    "adresso_tst_pts.shape"
   ]
  },
  {
   "cell_type": "code",
   "execution_count": 0,
   "metadata": {
    "application/vnd.databricks.v1+cell": {
     "cellMetadata": {
      "byteLimit": 2048000,
      "rowLimit": 10000
     },
     "inputWidgets": {},
     "nuid": "6aa28deb-7920-4d25-a9f3-f8d0c3f2f893",
     "showTitle": false,
     "tableResultSettingsMap": {},
     "title": ""
    }
   },
   "outputs": [],
   "source": [
    "bins = np.linspace(0, 30, 15)\n",
    "\n",
    "plt.hist([adresso_trn_pts[\"mmse\"], adresso_tst_pts[\"mmse\"]], bins=bins, label=[\"Train\", \"Test\"], edgecolor=\"k\")\n",
    "plt.title(\"MMSE Scores for ADReSSo Dataset\")\n",
    "plt.xlabel(\"MMSE Score\")\n",
    "plt.ylabel(\"Frequency\")\n",
    "plt.legend(loc=\"upper left\")\n",
    "plt.xlim([-1, 31])\n",
    "plt.grid()\n",
    "plt.show()"
   ]
  },
  {
   "cell_type": "markdown",
   "metadata": {
    "application/vnd.databricks.v1+cell": {
     "cellMetadata": {},
     "inputWidgets": {},
     "nuid": "b3f38653-b60d-42e7-bd23-f660f77f7baa",
     "showTitle": false,
     "tableResultSettingsMap": {},
     "title": ""
    }
   },
   "source": [
    "### Summary"
   ]
  },
  {
   "cell_type": "code",
   "execution_count": 0,
   "metadata": {
    "application/vnd.databricks.v1+cell": {
     "cellMetadata": {
      "byteLimit": 2048000,
      "rowLimit": 10000
     },
     "inputWidgets": {},
     "nuid": "3e139e51-89b1-468b-80d5-5c2b34b350b9",
     "showTitle": false,
     "tableResultSettingsMap": {},
     "title": ""
    }
   },
   "outputs": [],
   "source": [
    "bins = np.linspace(0, 30, 15)\n",
    "\n",
    "plt.figure(figsize=(12, 6))  \n",
    "plt.hist(\n",
    "    [penn_neuro_pts[\"mmse\"], adress_trn_pts[\"mmse\"], adress_tst_pts[\"mmse\"], adresso_trn_pts[\"mmse\"], adresso_tst_pts[\"mmse\"]], \n",
    "    bins=bins, \n",
    "    label=[\"Penn Observer\", \"ADReSS-train\", \"ADReSS-test\", \"ADReSSo-train\", \"ADReSSo-test\"], \n",
    "    edgecolor=\"k\"\n",
    ")\n",
    "plt.title(\"MMSE Scores per Dataset\")\n",
    "plt.xlabel(\"MMSE Score\")\n",
    "plt.ylabel(\"Frequency\")\n",
    "plt.legend(loc=\"upper left\")\n",
    "plt.xlim([-1, 31])\n",
    "plt.grid()\n",
    "plt.show()"
   ]
  },
  {
   "cell_type": "code",
   "execution_count": 0,
   "metadata": {
    "application/vnd.databricks.v1+cell": {
     "cellMetadata": {
      "byteLimit": 2048000,
      "rowLimit": 10000
     },
     "inputWidgets": {},
     "nuid": "4fd0292b-cb28-4637-9443-ae2945387d5f",
     "showTitle": false,
     "tableResultSettingsMap": {},
     "title": ""
    }
   },
   "outputs": [],
   "source": [
    "def summarize(df):\n",
    "    return {\n",
    "                \"n\": df.shape[0],\n",
    "                \"pct AD\": df[\"Label\"].sum() / df.shape[0],\n",
    "                \"avg MMSE\": df[\"mmse\"].mean(),\n",
    "                \"std MMSE\": df[\"mmse\"].std(),\n",
    "                \"min MMSE\": int(df[\"mmse\"].min()),\n",
    "                \"max MMSE\": int(df[\"mmse\"].max())\n",
    "            }\n",
    "\n",
    "summ = list(map(summarize, [penn_neuro_pts, adress_trn_pts, adress_tst_pts, adresso_trn_pts, adresso_tst_pts]))\n",
    "\n",
    "summary = pd.DataFrame(summ, index=[\"Penn Observer\", \"ADReSS-train\", \"ADReSS-test\", \"ADReSSo-train\", \"ADReSSo-test\"])\n",
    "summary.round(2)"
   ]
  }
 ],
 "metadata": {
  "application/vnd.databricks.v1+notebook": {
   "computePreferences": null,
   "dashboards": [],
   "environmentMetadata": {
    "base_environment": "",
    "environment_version": "2"
   },
   "language": "python",
   "notebookMetadata": {
    "mostRecentlyExecutedCommandWithImplicitDF": {
     "commandId": 6468257008571984,
     "dataframes": [
      "_sqldf"
     ]
    },
    "pythonIndentUnit": 4
   },
   "notebookName": "01_Data_Analysis",
   "widgets": {}
  },
  "language_info": {
   "name": "python"
  }
 },
 "nbformat": 4,
 "nbformat_minor": 0
}
