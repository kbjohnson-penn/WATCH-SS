{
 "cells": [
  {
   "cell_type": "markdown",
   "metadata": {
    "application/vnd.databricks.v1+cell": {
     "cellMetadata": {},
     "inputWidgets": {},
     "nuid": "3b7dbf00-8cdb-4907-809b-85647c4f52e8",
     "showTitle": false,
     "tableResultSettingsMap": {},
     "title": ""
    }
   },
   "source": [
    "# Detecting Vague Speech\n",
    "\n",
    "**TODO**:\n",
    "- Generator + LLM Critic experiment"
   ]
  },
  {
   "cell_type": "code",
   "execution_count": 0,
   "metadata": {
    "application/vnd.databricks.v1+cell": {
     "cellMetadata": {
      "byteLimit": 2048000,
      "rowLimit": 10000
     },
     "inputWidgets": {},
     "nuid": "2917529a-0ba5-42a4-930d-5fd7e78fb584",
     "showTitle": false,
     "tableResultSettingsMap": {},
     "title": ""
    }
   },
   "outputs": [],
   "source": [
    "%load_ext autoreload\n",
    "%autoreload 1\n",
    "%aimport data.adress\n",
    "%aimport detectors.common_detectors.keyword_detector\n",
    "%aimport utils"
   ]
  },
  {
   "cell_type": "code",
   "execution_count": 0,
   "metadata": {
    "application/vnd.databricks.v1+cell": {
     "cellMetadata": {
      "byteLimit": 2048000,
      "rowLimit": 10000
     },
     "inputWidgets": {},
     "nuid": "5e67d695-263e-4656-9b37-449fc567d635",
     "showTitle": false,
     "tableResultSettingsMap": {},
     "title": ""
    }
   },
   "outputs": [],
   "source": [
    "import sys\n",
    "sys.path.append(\"..\")\n",
    "import numpy as np\n",
    "import pandas as pd\n",
    "import pickle\n",
    "from pprint import pprint\n",
    "# Evaluation\n",
    "from utils import evaluate\n",
    "import seaborn as sns\n",
    "from scipy.stats import ttest_ind, mannwhitneyu\n",
    "# Generative AI\n",
    "import json\n",
    "from openai import OpenAI\n",
    "from utils import llm_call\n",
    "import mlflow\n",
    "from mlflow.genai.scorers import Safety, scorer\n",
    "from mlflow.entities import Feedback"
   ]
  },
  {
   "cell_type": "markdown",
   "metadata": {
    "application/vnd.databricks.v1+cell": {
     "cellMetadata": {},
     "inputWidgets": {},
     "nuid": "69670ea8-82e9-42cb-a7b9-93388c3a9b1e",
     "showTitle": false,
     "tableResultSettingsMap": {},
     "title": ""
    }
   },
   "source": [
    "## Load the Data"
   ]
  },
  {
   "cell_type": "code",
   "execution_count": 0,
   "metadata": {
    "application/vnd.databricks.v1+cell": {
     "cellMetadata": {
      "byteLimit": 2048000,
      "rowLimit": 10000
     },
     "inputWidgets": {},
     "nuid": "d2add2d5-73b1-41d5-a3f4-4f774cbc1b84",
     "showTitle": false,
     "tableResultSettingsMap": {},
     "title": ""
    }
   },
   "outputs": [],
   "source": [
    "from data.adress import load_transcripts"
   ]
  },
  {
   "cell_type": "code",
   "execution_count": 0,
   "metadata": {
    "application/vnd.databricks.v1+cell": {
     "cellMetadata": {
      "byteLimit": 2048000,
      "rowLimit": 10000
     },
     "inputWidgets": {},
     "nuid": "53af97ae-a28c-4b02-9bb9-38bc9dd6b896",
     "showTitle": false,
     "tableResultSettingsMap": {},
     "title": ""
    }
   },
   "outputs": [],
   "source": [
    "adress_trans = load_transcripts()\n",
    "adress_trans = adress_trans[[\"Timestamp\", \"Speaker\", \"Transcript\", \"Transcript_clean\", \"Vague\"]]\n",
    "adress_trans.head()"
   ]
  },
  {
   "cell_type": "code",
   "execution_count": 0,
   "metadata": {
    "application/vnd.databricks.v1+cell": {
     "cellMetadata": {
      "byteLimit": 2048000,
      "rowLimit": 10000
     },
     "inputWidgets": {},
     "nuid": "2fb1c834-5fec-4739-92a9-79018d2bf209",
     "showTitle": false,
     "tableResultSettingsMap": {},
     "title": ""
    }
   },
   "outputs": [],
   "source": [
    "trn_pt_utt_idx = (adress_trans.index.get_level_values(\"split\") == \"train\") & (adress_trans[\"Speaker\"] == \"Patient\")\n",
    "dev_pt_utt_idx = (adress_trans.index.get_level_values(\"split\") == \"dev\")   & (adress_trans[\"Speaker\"] == \"Patient\")\n",
    "tst_pt_utt_idx = (adress_trans.index.get_level_values(\"split\") == \"test\")  & (adress_trans[\"Speaker\"] == \"Patient\")"
   ]
  },
  {
   "cell_type": "markdown",
   "metadata": {
    "application/vnd.databricks.v1+cell": {
     "cellMetadata": {},
     "inputWidgets": {},
     "nuid": "d0b1d233-b0fe-40c9-b20b-e544d2911025",
     "showTitle": false,
     "tableResultSettingsMap": {},
     "title": ""
    }
   },
   "source": [
    "## Baseline: Keyword Search"
   ]
  },
  {
   "cell_type": "code",
   "execution_count": 0,
   "metadata": {
    "application/vnd.databricks.v1+cell": {
     "cellMetadata": {
      "byteLimit": 2048000,
      "rowLimit": 10000
     },
     "inputWidgets": {},
     "nuid": "0e1fec84-dd98-4e1b-9e5f-7152999bd772",
     "showTitle": false,
     "tableResultSettingsMap": {},
     "title": ""
    }
   },
   "outputs": [],
   "source": [
    "from detectors.common_detectors.keyword_detector import KeywordDetector as VagueKeywordDetector\n",
    "from utils import create_custom_nlp"
   ]
  },
  {
   "cell_type": "markdown",
   "metadata": {
    "application/vnd.databricks.v1+cell": {
     "cellMetadata": {},
     "inputWidgets": {},
     "nuid": "f7875448-e5c7-4133-b432-b781beb2a453",
     "showTitle": false,
     "tableResultSettingsMap": {},
     "title": ""
    }
   },
   "source": [
    "First, we look at the annotated vague speech in the train dataset to help inform our list of keywords."
   ]
  },
  {
   "cell_type": "code",
   "execution_count": 0,
   "metadata": {
    "application/vnd.databricks.v1+cell": {
     "cellMetadata": {
      "byteLimit": 2048000,
      "rowLimit": 10000
     },
     "inputWidgets": {},
     "nuid": "cefc20e1-179a-4eac-b3c2-ce016bf36428",
     "showTitle": false,
     "tableResultSettingsMap": {},
     "title": ""
    }
   },
   "outputs": [],
   "source": [
    "with pd.option_context(\"display.max_colwidth\", 100):\n",
    "    print(adress_trans.loc[trn_pt_utt_idx & (adress_trans[\"Vague\"] == 1), \"Transcript_clean\"])"
   ]
  },
  {
   "cell_type": "markdown",
   "metadata": {
    "application/vnd.databricks.v1+cell": {
     "cellMetadata": {},
     "inputWidgets": {},
     "nuid": "70e9f4f2-a448-4d53-883d-b9abb38765ec",
     "showTitle": false,
     "tableResultSettingsMap": {},
     "title": ""
    }
   },
   "source": [
    "Then we define our keyword lists."
   ]
  },
  {
   "cell_type": "code",
   "execution_count": 0,
   "metadata": {
    "application/vnd.databricks.v1+cell": {
     "cellMetadata": {
      "byteLimit": 2048000,
      "rowLimit": 10000
     },
     "inputWidgets": {},
     "nuid": "b37e2393-62d1-4f36-92df-8d18be4c393d",
     "showTitle": false,
     "tableResultSettingsMap": {},
     "title": ""
    }
   },
   "outputs": [],
   "source": [
    "non_specific_refs = [\n",
    "    \"anybody\", \n",
    "    \"anyone\", \n",
    "    \"anything\", \n",
    "    \"area\", \n",
    "    \"everything\", \n",
    "    \"here\",\n",
    "    \"it\",\n",
    "    \"nothing\",\n",
    "    \"one\",\n",
    "    \"ones\"\n",
    "    \"part\",\n",
    "    \"place\",\n",
    "    \"people\", \n",
    "    \"person\",\n",
    "    \"that\",\n",
    "    \"there\",\n",
    "    \"thing\",\n",
    "    \"things\",\n",
    "    \"this\",\n",
    "    \"someone\",\n",
    "    \"somebody\", \n",
    "    \"something\",\n",
    "    \"stuff\",\n",
    "    \"whatever\",\n",
    "    \"whichever\",\n",
    "]  \n",
    "\n",
    "hedges = [\n",
    "    \"basically\",\n",
    "    \"maybe\", \n",
    "    \"probably\", \n",
    "    \"possibly\",\n",
    "    \"potentially\",\n",
    "    \"perhaps\",\n",
    "    \"somewhat\",\n",
    "    \"i guess\", \n",
    "    \"i think\",\n",
    "    \"kind of\",\n",
    "    \"pretty much\",\n",
    "    \"sort of\",\n",
    "    \"i don't know\",\n",
    "    \"more or less\",\n",
    "]"
   ]
  },
  {
   "cell_type": "markdown",
   "metadata": {
    "application/vnd.databricks.v1+cell": {
     "cellMetadata": {},
     "inputWidgets": {},
     "nuid": "6de89fd4-16cf-4376-a7ae-d113ce47ddbc",
     "showTitle": false,
     "tableResultSettingsMap": {},
     "title": ""
    }
   },
   "source": [
    "#### Explore different keyword sets"
   ]
  },
  {
   "cell_type": "code",
   "execution_count": 0,
   "metadata": {
    "application/vnd.databricks.v1+cell": {
     "cellMetadata": {
      "byteLimit": 2048000,
      "rowLimit": 10000
     },
     "inputWidgets": {},
     "nuid": "0280db3d-1842-400f-9c50-ab33dadf1a4e",
     "showTitle": false,
     "tableResultSettingsMap": {},
     "title": ""
    }
   },
   "outputs": [],
   "source": [
    "from joblib import Parallel, delayed\n",
    "from tqdm import tqdm"
   ]
  },
  {
   "cell_type": "code",
   "execution_count": 0,
   "metadata": {
    "application/vnd.databricks.v1+cell": {
     "cellMetadata": {
      "byteLimit": 2048000,
      "rowLimit": 10000
     },
     "inputWidgets": {},
     "nuid": "8a02637a-4d76-4310-916b-184d28c8e37e",
     "showTitle": false,
     "tableResultSettingsMap": {},
     "title": ""
    }
   },
   "outputs": [],
   "source": [
    "configs = {\n",
    "    \"non_specific_refs\": (non_specific_refs,),\n",
    "    \"hedges\": (hedges,),\n",
    "    \"non_specific_refs+hedges\": (non_specific_refs+hedges,)\n",
    "}"
   ]
  },
  {
   "cell_type": "code",
   "execution_count": 0,
   "metadata": {
    "application/vnd.databricks.v1+cell": {
     "cellMetadata": {
      "byteLimit": 2048000,
      "rowLimit": 10000
     },
     "inputWidgets": {},
     "nuid": "9fc2fa5b-bd8d-4539-8072-9be2b07956d5",
     "showTitle": false,
     "tableResultSettingsMap": {},
     "title": ""
    }
   },
   "outputs": [],
   "source": [
    "def run(cfg_name, cfg, dataset):\n",
    "    # Create spaCy vocab\n",
    "    nlp = create_custom_nlp()\n",
    "    # Initialize keyword detector with config\n",
    "    d = VagueKeywordDetector(nlp, *cfg)\n",
    "    # Run detector on dataset\n",
    "    outputs = dataset[\"Transcript_clean\"].apply(d.detect)\n",
    "    # Evaluate performance\n",
    "    true = dataset[\"Vague\"]\n",
    "    pred = outputs.apply(lambda x: len(x[\"detections\"]) > 0).astype(int)\n",
    "    scores = evaluate(true, pred)\n",
    "    return cfg_name, scores"
   ]
  },
  {
   "cell_type": "code",
   "execution_count": 0,
   "metadata": {
    "application/vnd.databricks.v1+cell": {
     "cellMetadata": {
      "byteLimit": 2048000,
      "rowLimit": 10000
     },
     "inputWidgets": {},
     "nuid": "f0e7c802-521e-492a-bd66-86bc80b91130",
     "showTitle": false,
     "tableResultSettingsMap": {},
     "title": ""
    }
   },
   "outputs": [],
   "source": [
    "results = Parallel(n_jobs=10, return_as=\"generator_unordered\")(delayed(run)(cfg_name, configs[cfg_name], adress_trans.loc[trn_pt_utt_idx]) for cfg_name in configs)\n",
    "results = [res for res in tqdm(results, total=len(configs))]\n",
    "\n",
    "configs, cfg_scores = zip(*results)\n",
    "table = pd.DataFrame(cfg_scores, index=configs)\n",
    "table.to_csv(\"vague_trn_results.csv\")"
   ]
  },
  {
   "cell_type": "code",
   "execution_count": 0,
   "metadata": {
    "application/vnd.databricks.v1+cell": {
     "cellMetadata": {
      "byteLimit": 2048000,
      "rowLimit": 10000
     },
     "inputWidgets": {},
     "nuid": "7060a24b-e115-4290-ba6e-f0a20e654023",
     "showTitle": false,
     "tableResultSettingsMap": {},
     "title": ""
    }
   },
   "outputs": [],
   "source": [
    "table"
   ]
  },
  {
   "cell_type": "code",
   "execution_count": 0,
   "metadata": {
    "application/vnd.databricks.v1+cell": {
     "cellMetadata": {
      "byteLimit": 2048000,
      "rowLimit": 10000
     },
     "inputWidgets": {},
     "nuid": "0b53131a-0d17-4e2f-abaf-1e73faafbf49",
     "showTitle": false,
     "tableResultSettingsMap": {},
     "title": ""
    }
   },
   "outputs": [],
   "source": [
    "# table.sort_values(\"f1\", ascending=False).round(3)\n",
    "print(table.round(3).to_latex())"
   ]
  },
  {
   "cell_type": "markdown",
   "metadata": {
    "application/vnd.databricks.v1+cell": {
     "cellMetadata": {},
     "inputWidgets": {},
     "nuid": "f76ba7fb-6a60-421b-bff0-211ffa1008be",
     "showTitle": false,
     "tableResultSettingsMap": {},
     "title": ""
    }
   },
   "source": [
    "#### Evaluate best vague keyword detector configuration"
   ]
  },
  {
   "cell_type": "code",
   "execution_count": 0,
   "metadata": {
    "application/vnd.databricks.v1+cell": {
     "cellMetadata": {
      "byteLimit": 2048000,
      "rowLimit": 10000
     },
     "inputWidgets": {},
     "nuid": "facc283f-e95b-4e8a-8d0d-f95d6995d3b8",
     "showTitle": false,
     "tableResultSettingsMap": {},
     "title": ""
    }
   },
   "outputs": [],
   "source": [
    "# create custom spaCy\n",
    "nlp = create_custom_nlp()\n",
    "# init detector\n",
    "keyword_detector_final = VagueKeywordDetector(nlp, non_specific_refs)\n",
    "# run on all patitent utterances\n",
    "adress_trans[\"keyword_dets\"] = adress_trans.apply(lambda x: keyword_detector_final.detect(x[\"Transcript_clean\"]) if x[\"Speaker\"] == \"Patient\" else pd.NA, axis=1)"
   ]
  },
  {
   "cell_type": "markdown",
   "metadata": {
    "application/vnd.databricks.v1+cell": {
     "cellMetadata": {},
     "inputWidgets": {},
     "nuid": "c668f231-f8e6-4521-bf9f-19cfd82eb711",
     "showTitle": false,
     "tableResultSettingsMap": {},
     "title": ""
    }
   },
   "source": [
    "###### Performance on the test data."
   ]
  },
  {
   "cell_type": "code",
   "execution_count": 0,
   "metadata": {
    "application/vnd.databricks.v1+cell": {
     "cellMetadata": {
      "byteLimit": 2048000,
      "rowLimit": 10000
     },
     "inputWidgets": {},
     "nuid": "82702ebf-557c-4640-9cc9-cc0d476065f7",
     "showTitle": false,
     "tableResultSettingsMap": {},
     "title": ""
    }
   },
   "outputs": [],
   "source": [
    "true = adress_trans.loc[tst_pt_utt_idx, \"Vague\"]\n",
    "pred = adress_trans.loc[tst_pt_utt_idx, \"keyword_dets\"].apply(lambda x: len(x[\"detections\"]) > 0).astype(int)\n",
    "print(evaluate(true, pred, return_latex=True))"
   ]
  },
  {
   "cell_type": "markdown",
   "metadata": {
    "application/vnd.databricks.v1+cell": {
     "cellMetadata": {},
     "inputWidgets": {},
     "nuid": "37f40ed6-0e85-4ef9-9297-d2e8699b6c53",
     "showTitle": false,
     "tableResultSettingsMap": {},
     "title": ""
    }
   },
   "source": [
    "## LLM-Based Detector"
   ]
  },
  {
   "cell_type": "code",
   "execution_count": 0,
   "metadata": {
    "application/vnd.databricks.v1+cell": {
     "cellMetadata": {
      "byteLimit": 2048000,
      "rowLimit": 10000
     },
     "inputWidgets": {},
     "nuid": "bee3dccd-1f1e-401a-89ae-7c722d27e1f2",
     "showTitle": false,
     "tableResultSettingsMap": {},
     "title": ""
    }
   },
   "outputs": [],
   "source": [
    "mlflow_creds = mlflow.utils.databricks_utils.get_databricks_host_creds()\n",
    "\n",
    "client = OpenAI(\n",
    "    api_key=mlflow_creds.token,\n",
    "    base_url=f\"{mlflow_creds.host}/serving-endpoints\"\n",
    ")"
   ]
  },
  {
   "cell_type": "code",
   "execution_count": 0,
   "metadata": {
    "application/vnd.databricks.v1+cell": {
     "cellMetadata": {
      "byteLimit": 2048000,
      "rowLimit": 10000
     },
     "inputWidgets": {},
     "nuid": "f5dd8c69-58fe-4665-8209-d9b53e17eb19",
     "showTitle": false,
     "tableResultSettingsMap": {},
     "title": ""
    }
   },
   "outputs": [],
   "source": [
    "datasets = {\n",
    "    \"train\": [],\n",
    "    \"dev\": [],\n",
    "    \"test\": []\n",
    "}\n",
    "\n",
    "for (split, pt_id), grp in adress_trans.groupby(level=[\"split\", \"ID\"]):\n",
    "    transcript = \"\\n\".join((grp.index.get_level_values(\"utt_num\").astype(str) + \": [\" + grp[\"Speaker\"] + \"] \" + grp[\"Transcript_clean\"]).values)\n",
    "    datasets[split].append({\n",
    "        \"split\": \"train\",\n",
    "        \"pt_id\": pt_id,\n",
    "        \"inputs\": {\"text\": transcript},\n",
    "        \"expectations\": {\"is_vague\": {utt_num: row[\"Vague\"] for (_, _, utt_num), row in grp.iterrows() if row[\"Speaker\"] == \"Patient\"}}\n",
    "    })\n",
    "\n",
    "# pprint(datasets[\"train\"])"
   ]
  },
  {
   "cell_type": "code",
   "execution_count": 0,
   "metadata": {
    "application/vnd.databricks.v1+cell": {
     "cellMetadata": {
      "byteLimit": 2048000,
      "rowLimit": 10000
     },
     "inputWidgets": {},
     "nuid": "12a5cfb6-95df-49bc-b3a9-6bf07cbac85b",
     "showTitle": false,
     "tableResultSettingsMap": {},
     "title": ""
    }
   },
   "outputs": [],
   "source": [
    "@scorer\n",
    "def correct(expectations, outputs):\n",
    "    det_utts = [det[\"utt_num\"] for det in outputs[\"detections\"]]\n",
    "\n",
    "    det_err = expectations[\"is_vague\"]\n",
    "    val = 100 * sum([1 for utt_id in det_err if ((utt_id in det_utts) and det_err[utt_id]) or ((utt_id not in det_utts) and not det_err[utt_id])]) / len(det_err)\n",
    "\n",
    "    return Feedback(value=val)"
   ]
  },
  {
   "cell_type": "code",
   "execution_count": 0,
   "metadata": {
    "application/vnd.databricks.v1+cell": {
     "cellMetadata": {
      "byteLimit": 2048000,
      "rowLimit": 10000
     },
     "inputWidgets": {},
     "nuid": "f1a12d52-399f-4b74-a2b4-23fbf7827bc6",
     "showTitle": false,
     "tableResultSettingsMap": {},
     "title": ""
    }
   },
   "outputs": [],
   "source": [
    "def process_mlflow_outputs(result):\n",
    "    outputs = result.tables[\"eval_results\"][[\"response\", \"assessments\"]]\n",
    "    outputs[\"labels\"] = outputs[\"assessments\"].apply(lambda x: [a[\"value\"] for a in x if a[\"name\"] == \"is_vague\"][0])\n",
    "    outputs[\"labels\"] = outputs[\"labels\"].apply(json.loads)\n",
    "    return outputs\n",
    "\n",
    "def extract_true_pred_from_ouputs(outputs):\n",
    "    outputs[\"utts_with_dets\"] = outputs[\"response\"].apply(lambda x: np.unique([det[\"utt_num\"] for det in x[\"detections\"]]))\n",
    "\n",
    "    true, pred = [], []\n",
    "    for i, row in outputs.iterrows():\n",
    "        true.extend(row[\"labels\"].values())\n",
    "        pred.extend([1 if int(utt_num) in row[\"utts_with_dets\"] else 0 for utt_num in row[\"labels\"]])\n",
    "    \n",
    "    return true, pred"
   ]
  },
  {
   "cell_type": "markdown",
   "metadata": {
    "application/vnd.databricks.v1+cell": {
     "cellMetadata": {},
     "inputWidgets": {},
     "nuid": "23c4066a-04e4-4bd1-8c38-eb46d788d1f5",
     "showTitle": false,
     "tableResultSettingsMap": {},
     "title": ""
    }
   },
   "source": [
    "##### Try zero-shot prompting"
   ]
  },
  {
   "cell_type": "code",
   "execution_count": 0,
   "metadata": {
    "application/vnd.databricks.v1+cell": {
     "cellMetadata": {
      "byteLimit": 2048000,
      "rowLimit": 10000
     },
     "inputWidgets": {},
     "nuid": "9931f132-0150-4659-896f-07747e6bb4e8",
     "showTitle": false,
     "tableResultSettingsMap": {},
     "title": ""
    }
   },
   "outputs": [],
   "source": [
    "\"0\"\n",
    "'''# INSTRUCTIONS\n",
    "You are a neurologist analyzing a patient's speech sample for signs of cognitive impairment.\n",
    "\n",
    "Your task is to identify all instances of vague terms or phrases in the input provided below. \n",
    "\n",
    "### Definition\n",
    "Vague speech occurs when a person struggles to retrieve specific, concrete words and opts to use general placeholders or less specific terms instead.\n",
    "\n",
    "### Output Format\n",
    "Your output must be a single JSON object with a single key \"detections\" whose value is an array of JSON objects. Each object in the array represents one detected vague speech segment and must have the following key-value pairs:\n",
    "- \"type\": ``vague''.\n",
    "- \"text\": The verbatim text of the vague speech detection.\n",
    "- \"utt_num\": The utterance number where \"text\" was detected.\n",
    "- \"span\": The character span of \"text\" in the \"utt_num\" utterance.\n",
    "\n",
    "# INPUT\n",
    "{input_text}\n",
    "'''\n",
    "\n",
    "\"1_1\"\n",
    "'''# INSTRUCTIONS\n",
    "You are a neurologist analyzing a patient's speech sample for signs of cognitive impairment.\n",
    "\n",
    "Your task is to identify all instances of vague terms or phrases in a patient's speech provided in the input below. \n",
    "\n",
    "### Definition\n",
    "Vague speech occurs when a person struggles to retrieve specific, concrete words and opts to use general placeholders or less specific terms instead. However, do not flag a general term if its meaning is either made clear by the context (e.g., it has a specific antecedent) or if it represents a common and appropriate pattern of casual speech.\n",
    "\n",
    "### Output Format\n",
    "Your output must be a single JSON object with a single key \"detections\" whose value is an array of JSON objects. Each object in the array represents one detected vague speech segment and must have the following key-value pairs:\n",
    "- \"type\": ``vague''.\n",
    "- \"text\": The verbatim text of the vague speech detection.\n",
    "- \"utt_num\": The utterance number where \"text\" was detected.\n",
    "- \"span\": The character span of \"text\" in the \"utt_num\" utterance.\n",
    "\n",
    "# INPUT\n",
    "{input_text}\n",
    "'''\n",
    "\n",
    "version = \"2_1\"\n",
    "zs_prompt = '''# INSTRUCTIONS\n",
    "You are a neurologist analyzing a patient's speech sample for signs of cognitive impairment.\n",
    "\n",
    "Your task is to identify all instances of vague terms or phrases in a patient's speech provided in the input below. \n",
    "\n",
    "### Definition\n",
    "Vague speech occurs when a person struggles to retrieve specific, concrete words and opts to use general placeholders or less specific terms instead. However, do not flag a vague term or phrase if its meaning is either made clear by the context (e.g., it has a specific antecedent) or if it represents a common and appropriate pattern of casual speech that does not indicate word-finding difficulty or uncertainty. Do not flag filler or event and inaudible tokens as vague terms. Do not flag an entire utterance as vague if only a few words or phrases are the source of the vagueness.\n",
    "\n",
    "### Output Format\n",
    "Your output must be a single JSON object with a single key \"detections\" whose value is an array of JSON objects. Each object in the array represents one detected vague speech segment and must have the following key-value pairs:\n",
    "- \"type\": ``vague''.\n",
    "- \"text\": The verbatim text of the vague speech detection.\n",
    "- \"utt_num\": The utterance number where \"text\" was detected.\n",
    "- \"span\": The character span of \"text\" in the \"utt_num\" utterance.\n",
    "\n",
    "# INPUT\n",
    "{input_text}\n",
    "'''\n",
    "\n",
    "\"3\"\n",
    "'''# INSTRUCTIONS\n",
    "You are a neurologist analyzing a patient's speech sample for signs of cognitive impairment.\n",
    "\n",
    "Your task is to identify all instances of vague terms or phrases in a patient's speech provided in the input below. \n",
    "\n",
    "### Definition\n",
    "Vague speech occurs when a person struggles to retrieve specific, concrete words and opts to use general placeholders or less specific terms instead. \n",
    "\n",
    "**Exclusion Criteria**\n",
    "- Do not flag an entire utterance as vague if only a few words or phrases are the source of the vagueness.\n",
    "- Do not flag filler or event and inaudible tokens as vague terms. \n",
    "- Do not flag a vague term or phrase if its meaning is either made clear by the context (e.g., it has a specific antecedent).\n",
    "- Do not flag a vague term or phrase if it represents a common and appropriate pattern of casual speech rather than word-finding difficulty or uncertainty. \n",
    "\n",
    "### Output Format\n",
    "Your output must be a single JSON object with a single key \"detections\" whose value is an array of JSON objects. Each object in the array represents one detected vague speech segment and must have the following key-value pairs:\n",
    "- \"type\": ``vague''.\n",
    "- \"text\": The verbatim text of the vague speech detection.\n",
    "- \"utt_num\": The utterance number where \"text\" was detected.\n",
    "- \"span\": The character span of \"text\" in the \"utt_num\" utterance.\n",
    "\n",
    "# INPUT\n",
    "{input_text}\n",
    "'''"
   ]
  },
  {
   "cell_type": "code",
   "execution_count": 0,
   "metadata": {
    "application/vnd.databricks.v1+cell": {
     "cellMetadata": {
      "byteLimit": 2048000,
      "rowLimit": 10000
     },
     "inputWidgets": {},
     "nuid": "d40a2959-fba4-4206-9aa4-818aa08538b9",
     "showTitle": false,
     "tableResultSettingsMap": {},
     "title": ""
    }
   },
   "outputs": [],
   "source": [
    "llm_detector = lambda text: llm_call(client, \"openai_gpt_4o\", None, zs_prompt.format(input_text=text), {\"type\": \"json_object\"})\n",
    "\n",
    "with mlflow.start_run(run_name=f\"llm_trn_gpt4o_pV{version}\") as run:\n",
    "    gpt_dets_trn = mlflow.genai.evaluate(\n",
    "        predict_fn=llm_detector,\n",
    "        data=datasets[\"train\"],\n",
    "        scorers=[correct]\n",
    "    )"
   ]
  },
  {
   "cell_type": "code",
   "execution_count": 0,
   "metadata": {
    "application/vnd.databricks.v1+cell": {
     "cellMetadata": {},
     "inputWidgets": {},
     "nuid": "23fec8fb-45db-4c7a-995d-54e11890c9cf",
     "showTitle": false,
     "tableResultSettingsMap": {},
     "title": ""
    }
   },
   "outputs": [],
   "source": [
    "outputs = process_mlflow_outputs(gpt_dets_trn)\n",
    "print(outputs)"
   ]
  },
  {
   "cell_type": "markdown",
   "metadata": {
    "application/vnd.databricks.v1+cell": {
     "cellMetadata": {},
     "inputWidgets": {},
     "nuid": "02f8642a-114c-400b-93b0-98250c45e192",
     "showTitle": false,
     "tableResultSettingsMap": {},
     "title": ""
    }
   },
   "source": [
    "##### Try few-shot prompting"
   ]
  },
  {
   "cell_type": "markdown",
   "metadata": {
    "application/vnd.databricks.v1+cell": {
     "cellMetadata": {},
     "inputWidgets": {},
     "nuid": "dbdbb955-9fa9-40b4-8723-c9ebd0565c0a",
     "showTitle": false,
     "tableResultSettingsMap": {},
     "title": ""
    }
   },
   "source": [
    "First we do an error analysis of the best zero-shot prompt on the development data."
   ]
  },
  {
   "cell_type": "code",
   "execution_count": 0,
   "metadata": {
    "application/vnd.databricks.v1+cell": {
     "cellMetadata": {
      "byteLimit": 2048000,
      "rowLimit": 10000
     },
     "inputWidgets": {},
     "nuid": "a986e264-a294-4d44-ba0b-1c49d36c16f2",
     "showTitle": false,
     "tableResultSettingsMap": {},
     "title": ""
    }
   },
   "outputs": [],
   "source": [
    "llm_detector = lambda text: llm_call(client, \"openai_gpt_4o\", None, zs_prompt.format(input_text=text), {\"type\": \"json_object\"})\n",
    "\n",
    "with mlflow.start_run(run_name=f\"llm_dev_gpt4o_pV{version}\") as run:\n",
    "    gpt_dets_dev = mlflow.genai.evaluate(\n",
    "        predict_fn=llm_detector,\n",
    "        data=datasets[\"dev\"],\n",
    "        scorers=[correct]\n",
    "    )"
   ]
  },
  {
   "cell_type": "markdown",
   "metadata": {
    "application/vnd.databricks.v1+cell": {
     "cellMetadata": {},
     "inputWidgets": {},
     "nuid": "8085e6c7-8ae2-4909-a74d-e46cede92986",
     "showTitle": false,
     "tableResultSettingsMap": {},
     "title": ""
    }
   },
   "source": [
    "Then we try adding the examples to the prompt."
   ]
  },
  {
   "cell_type": "code",
   "execution_count": 0,
   "metadata": {
    "application/vnd.databricks.v1+cell": {
     "cellMetadata": {
      "byteLimit": 2048000,
      "rowLimit": 10000
     },
     "inputWidgets": {},
     "nuid": "edcd082a-87b5-4194-b0c7-79a3073b5640",
     "showTitle": false,
     "tableResultSettingsMap": {},
     "title": ""
    }
   },
   "outputs": [],
   "source": [
    "fs_version = \"2_1_fewshot\"\n",
    "fs_prompt = '''# INSTRUCTIONS\n",
    "You are a neurologist analyzing a patient's speech sample for signs of cognitive impairment.\n",
    "\n",
    "Your task is to identify all instances of vague terms or phrases in a patient's speech provided in the input below. \n",
    "\n",
    "### Definition\n",
    "Vague speech occurs when a person struggles to retrieve specific, concrete words and opts to use general placeholders or less specific terms instead. However, do not flag a vague term or phrase if its meaning is either made clear by the context (e.g., it has a specific antecedent) or if it represents a common and appropriate pattern of casual speech that does not indicate word-finding difficulty or uncertainty. Do not flag filler or event and inaudible tokens as vague terms. Do not flag an entire utterance as vague if only a few words or phrases are the source of the vagueness.\n",
    "\n",
    "### Output Format\n",
    "Your output must be a single JSON object with a single key \"detections\" whose value is an array of JSON objects. Each object in the array represents one detected vague speech segment and must have the following key-value pairs:\n",
    "- \"type\": ``vague''.\n",
    "- \"text\": The verbatim text of the vague speech detection.\n",
    "- \"utt_num\": The utterance number where \"text\" was detected.\n",
    "- \"span\": The character span of \"text\" in the \"utt_num\" utterance.\n",
    "\n",
    "### Examples\n",
    "**Input**:\n",
    "5: Provider: okay tell me what else you see . \n",
    "6: Patient: [silence] some little knots or somethin . \n",
    "7: [Patient] I don't know . \n",
    "8: [Patient] [silence] [inaudible] . \n",
    "9: [Patient] [silence] some kind of a [inaudible] pan or somethin . \n",
    "10: [Patient] [silence] and that girl is there .\n",
    "\n",
    "**Correct Output**:\n",
    "{{\n",
    "    \"detections\": [\n",
    "        {{\"type\": \"vague\", \"text\": \"or somethin\", \"utt_num\": 6, \"span\": [32, 42]}},\n",
    "        {{\"type\": \"vague\", \"text\": \"or somethin\", \"utt_num\": 9, \"span\": [41, 51]}},\n",
    "    ]\n",
    "}}\n",
    "\n",
    "**Incorrect Output**\n",
    "{{\n",
    "    \"detections\": [\n",
    "        {{\"type\": \"vague\", \"text\": \"[silence]\", \"utt_num\": 8, \"span\": [0, 9]}},\n",
    "        {{\"type\": \"vague\", \"text\": \"that girl\", \"utt_num\": 10, \"span\": [32, 42]}},\n",
    "    ]\n",
    "}}\n",
    "Error: Incorrectly flags (1) \"that girl\" which was used to identify a person by age and gender rather than express uncertainty about who this person is, and (2) annotation markers ([silence]). \n",
    "\n",
    "# INPUT\n",
    "{input_text}\n",
    "'''"
   ]
  },
  {
   "cell_type": "code",
   "execution_count": 0,
   "metadata": {
    "application/vnd.databricks.v1+cell": {
     "cellMetadata": {
      "byteLimit": 2048000,
      "rowLimit": 10000
     },
     "inputWidgets": {},
     "nuid": "e194e7e0-3b68-4a6c-9420-1d33dc6c5762",
     "showTitle": false,
     "tableResultSettingsMap": {},
     "title": ""
    }
   },
   "outputs": [],
   "source": [
    "llm_detector = lambda text: llm_call(client, \"openai_gpt_4o\", None, fs_prompt.format(input_text=text), {\"type\": \"json_object\"})\n",
    "\n",
    "with mlflow.start_run(run_name=f\"llm_trn_gpt4o_pV{fs_version}_run3\") as run:\n",
    "    gpt_fs_dets_trn = mlflow.genai.evaluate(\n",
    "        predict_fn=llm_detector,\n",
    "        data=datasets[\"train\"],\n",
    "        scorers=[correct]\n",
    "    )"
   ]
  },
  {
   "cell_type": "code",
   "execution_count": 0,
   "metadata": {
    "application/vnd.databricks.v1+cell": {
     "cellMetadata": {
      "byteLimit": 2048000,
      "rowLimit": 10000
     },
     "inputWidgets": {},
     "nuid": "7814bfcb-754f-4961-85e4-9c8a482af06f",
     "showTitle": false,
     "tableResultSettingsMap": {},
     "title": ""
    }
   },
   "outputs": [],
   "source": [
    "outputs = process_mlflow_outputs(gpt_fs_dets_trn)\n",
    "outputs.to_pickle(f\"llm_outputs/vague_trn_gpt_pV{fs_version}.pkl\")"
   ]
  },
  {
   "cell_type": "code",
   "execution_count": 0,
   "metadata": {
    "application/vnd.databricks.v1+cell": {
     "cellMetadata": {
      "byteLimit": 2048000,
      "rowLimit": 10000
     },
     "inputWidgets": {},
     "nuid": "0bab7674-1874-47d6-8349-72e3ad872137",
     "showTitle": false,
     "tableResultSettingsMap": {},
     "title": ""
    }
   },
   "outputs": [],
   "source": [
    "true, pred = extract_true_pred_from_ouputs(outputs)\n",
    "print(evaluate(true, pred, return_latex=True))"
   ]
  },
  {
   "cell_type": "code",
   "execution_count": 0,
   "metadata": {
    "application/vnd.databricks.v1+cell": {
     "cellMetadata": {
      "byteLimit": 2048000,
      "rowLimit": 10000
     },
     "inputWidgets": {},
     "nuid": "b4841355-d6f9-4af4-b827-4f0b8a81c635",
     "showTitle": false,
     "tableResultSettingsMap": {},
     "title": ""
    }
   },
   "outputs": [],
   "source": [
    "with open(\"llm_outputs/vague_trn_gpt_pV2_1_fewshot.pkl\", \"rb\") as f:\n",
    "    outputs = pickle.load(f)\n",
    "\n",
    "true, pred = extract_true_pred_from_ouputs(outputs)\n",
    "print(evaluate(true, pred, return_latex=True))"
   ]
  },
  {
   "cell_type": "markdown",
   "metadata": {
    "application/vnd.databricks.v1+cell": {
     "cellMetadata": {},
     "inputWidgets": {},
     "nuid": "c7b615f2-fac9-4d33-9def-51aab6970cd8",
     "showTitle": false,
     "tableResultSettingsMap": {},
     "title": ""
    }
   },
   "source": [
    "##### Finally, evaluate the best prompt"
   ]
  },
  {
   "cell_type": "code",
   "execution_count": 0,
   "metadata": {
    "application/vnd.databricks.v1+cell": {
     "cellMetadata": {
      "byteLimit": 2048000,
      "rowLimit": 10000
     },
     "inputWidgets": {},
     "nuid": "8d428ed9-38df-4394-bfb7-c08674fded4e",
     "showTitle": false,
     "tableResultSettingsMap": {},
     "title": ""
    }
   },
   "outputs": [],
   "source": [
    "llm_detector = lambda text: llm_call(client, \"openai_gpt_4o\", None, fs_prompt.format(input_text=text), {\"type\": \"json_object\"})\n",
    "\n",
    "with mlflow.start_run(run_name=f\"llm_tst_gpt4o_pV{fs_version}\") as run:\n",
    "    gpt_dets_tst = mlflow.genai.evaluate(\n",
    "        predict_fn=llm_detector,\n",
    "        data=datasets[\"test\"],\n",
    "        scorers=[correct]\n",
    "    )"
   ]
  },
  {
   "cell_type": "code",
   "execution_count": 0,
   "metadata": {
    "application/vnd.databricks.v1+cell": {
     "cellMetadata": {
      "byteLimit": 2048000,
      "rowLimit": 10000
     },
     "inputWidgets": {},
     "nuid": "f9fa03a6-45e9-4e4a-928c-68ca4cfae70f",
     "showTitle": false,
     "tableResultSettingsMap": {},
     "title": ""
    }
   },
   "outputs": [],
   "source": [
    "outputs = process_mlflow_outputs(gpt_dets_tst)\n",
    "outputs.to_pickle(f\"llm_outputs/vague_tst_gpt_pV{fs_version}.pkl\")"
   ]
  },
  {
   "cell_type": "code",
   "execution_count": 0,
   "metadata": {
    "application/vnd.databricks.v1+cell": {
     "cellMetadata": {
      "byteLimit": 2048000,
      "rowLimit": 10000
     },
     "inputWidgets": {},
     "nuid": "be0a2be4-0b70-4518-ac17-7a38c75d847b",
     "showTitle": false,
     "tableResultSettingsMap": {},
     "title": ""
    }
   },
   "outputs": [],
   "source": [
    "true, pred = extract_true_pred_from_ouputs(outputs)\n",
    "print(evaluate(true, pred, return_latex=True))"
   ]
  },
  {
   "cell_type": "markdown",
   "metadata": {
    "application/vnd.databricks.v1+cell": {
     "cellMetadata": {},
     "inputWidgets": {},
     "nuid": "31c63454-6705-49f1-acd4-4647d1324c3d",
     "showTitle": false,
     "tableResultSettingsMap": {},
     "title": ""
    }
   },
   "source": [
    "## (@Sriharsha) Try using a LLM critic to post-process keyword detections.\n",
    "We are already acheiving high performance with the keyword detector using filler sounds and uncommon letters. Can we improve performance by using an LLM to remove false positive detections?\n",
    "\n",
    "*Experiment*: For each patient session, aggregate the utterances into a transcript and the filler detection lists (remember to offset them). Query an LLM to remove detections that are not actually filler. Try 3 different LLMs once you've settled on a good prompt. Also, try using MLFlow to log LLM outputs. It makes comparing the effect of different prompt versions a little easier to visualize."
   ]
  },
  {
   "cell_type": "markdown",
   "metadata": {
    "application/vnd.databricks.v1+cell": {
     "cellMetadata": {},
     "inputWidgets": {},
     "nuid": "99064126-774b-422c-9753-88d4f886b27f",
     "showTitle": false,
     "tableResultSettingsMap": {},
     "title": ""
    }
   },
   "source": [
    "##### Investigate the failure cases or prior methods."
   ]
  },
  {
   "cell_type": "markdown",
   "metadata": {
    "application/vnd.databricks.v1+cell": {
     "cellMetadata": {},
     "inputWidgets": {},
     "nuid": "c2ad4711-6a0e-4da7-acba-1428802aa6d2",
     "showTitle": false,
     "tableResultSettingsMap": {},
     "title": ""
    }
   },
   "source": [
    "Keyword search detector"
   ]
  },
  {
   "cell_type": "code",
   "execution_count": 0,
   "metadata": {
    "application/vnd.databricks.v1+cell": {
     "cellMetadata": {
      "byteLimit": 2048000,
      "rowLimit": 10000
     },
     "inputWidgets": {},
     "nuid": "b837be51-08ff-427d-b841-9a6101235a41",
     "showTitle": false,
     "tableResultSettingsMap": {},
     "title": ""
    }
   },
   "outputs": [],
   "source": [
    "with pd.option_context(\"display.max_rows\", None, \"display.max_colwidth\", None):\n",
    "    print(\"False positives:\")\n",
    "    pprint(adress_trans.loc[dev_pt_utt_idx & (adress_trans[\"Filler\"] == 0) & (adress_trans[\"keyword_dets\"].apply(lambda x: len(x[\"detections\"]) > 0 if type(x) == dict else False)), [\"Transcript\", \"keyword_dets\"]].values)"
   ]
  },
  {
   "cell_type": "code",
   "execution_count": 0,
   "metadata": {
    "application/vnd.databricks.v1+cell": {
     "cellMetadata": {
      "byteLimit": 2048000,
      "rowLimit": 10000
     },
     "inputWidgets": {},
     "nuid": "7f229561-cb6b-4167-8654-5b2427b3c548",
     "showTitle": false,
     "tableResultSettingsMap": {},
     "title": ""
    }
   },
   "outputs": [],
   "source": [
    "with pd.option_context(\"display.max_rows\", None, \"display.max_colwidth\", None):\n",
    "    print(\"False negatives:\")\n",
    "    pprint(adress_trans.loc[dev_pt_utt_idx & (adress_trans[\"Filler\"] == 1) & (adress_trans[\"keyword_dets\"].apply(lambda x: len(x[\"detections\"]) == 0 if type(x) == dict else False)), [\"Transcript\", \"keyword_dets\"]].values)"
   ]
  },
  {
   "cell_type": "markdown",
   "metadata": {
    "application/vnd.databricks.v1+cell": {
     "cellMetadata": {},
     "inputWidgets": {},
     "nuid": "8492cc8c-71f1-4de2-8c2c-ae59d121d992",
     "showTitle": false,
     "tableResultSettingsMap": {},
     "title": ""
    }
   },
   "source": [
    "LLM-based detector"
   ]
  },
  {
   "cell_type": "code",
   "execution_count": 0,
   "metadata": {
    "application/vnd.databricks.v1+cell": {
     "cellMetadata": {},
     "inputWidgets": {},
     "nuid": "90dc96e2-4a99-43be-a26c-3f4549af9529",
     "showTitle": false,
     "tableResultSettingsMap": {},
     "title": ""
    }
   },
   "outputs": [],
   "source": [
    "with pd.option_context(\"display.max_rows\", None, \"display.max_colwidth\", None):\n",
    "    print(\"False positives:\")\n",
    "    pprint(adress_trans.loc[dev_pt_utt_idx & (adress_trans[\"Filler\"] == 0) & (adress_trans[\"llm_dets\"].apply(lambda x: len(x[\"detections\"]) > 0 if type(x) == dict else False)), [\"Transcript\", \"llm_dets\"]].values)"
   ]
  },
  {
   "cell_type": "code",
   "execution_count": 0,
   "metadata": {
    "application/vnd.databricks.v1+cell": {
     "cellMetadata": {},
     "inputWidgets": {},
     "nuid": "d6022318-816a-48e1-9c84-f2280986076f",
     "showTitle": false,
     "tableResultSettingsMap": {},
     "title": ""
    }
   },
   "outputs": [],
   "source": [
    "with pd.option_context(\"display.max_rows\", None, \"display.max_colwidth\", None):\n",
    "    print(\"False negatives:\")\n",
    "    pprint(adress_trans.loc[dev_pt_utt_idx & (adress_trans[\"Filler\"] == 1) & (adress_trans[\"llm_dets\"].apply(lambda x: len(x[\"detections\"]) == 0 if type(x) == dict else False)), [\"Transcript\", \"llm_dets\"]].values)"
   ]
  },
  {
   "cell_type": "markdown",
   "metadata": {
    "application/vnd.databricks.v1+cell": {
     "cellMetadata": {},
     "inputWidgets": {},
     "nuid": "b522a21f-f056-41df-b9e0-aa4597d65078",
     "showTitle": false,
     "tableResultSettingsMap": {},
     "title": ""
    }
   },
   "source": [
    "##### Explore different prompts."
   ]
  },
  {
   "cell_type": "code",
   "execution_count": 0,
   "metadata": {
    "application/vnd.databricks.v1+cell": {
     "cellMetadata": {
      "byteLimit": 2048000,
      "rowLimit": 10000
     },
     "inputWidgets": {},
     "nuid": "747cabd4-20a2-46df-8750-3589d98b8186",
     "showTitle": false,
     "tableResultSettingsMap": {},
     "title": ""
    }
   },
   "outputs": [],
   "source": [
    "# @Sriharsha Have the llm output a json object with the key \"fillers\" whose value is a list of json objects for each detection. Each detection object must have a \"text\" key whose value is the filler sound/word/phrase and a \"span\" key whose value is a list of the start and end character index of the filler in the utterance.\n",
    "\n",
    "critic_prompt = '''{}'''"
   ]
  },
  {
   "cell_type": "code",
   "execution_count": 0,
   "metadata": {
    "application/vnd.databricks.v1+cell": {
     "cellMetadata": {},
     "inputWidgets": {},
     "nuid": "5b1e65e8-a348-44b5-a38e-f2d183dbc2ea",
     "showTitle": false,
     "tableResultSettingsMap": {},
     "title": ""
    }
   },
   "outputs": [],
   "source": [
    "dataset_kw = []\n",
    "dataset_llm = []\n",
    "dataset = []"
   ]
  },
  {
   "cell_type": "code",
   "execution_count": 0,
   "metadata": {
    "application/vnd.databricks.v1+cell": {
     "cellMetadata": {
      "byteLimit": 2048000,
      "rowLimit": 10000
     },
     "inputWidgets": {},
     "nuid": "c535626f-40a9-4647-a897-a984c802bc5b",
     "showTitle": false,
     "tableResultSettingsMap": {},
     "title": ""
    }
   },
   "outputs": [],
   "source": [
    "fn = lambda transcript, detections: llm_call(client, \"openai_gpt_4o\", None, critic_prompt.format(transcript, detections), {\"type\": \"json_object\"})\n",
    "\n",
    "with mlflow.start_run(run_name=\"Keywords + Critic pv0\") as run:\n",
    "    result = mlflow.genai.evaluate(\n",
    "        predict_fn=fn,\n",
    "        data=dataset,\n",
    "        scorers=[correct]\n",
    "    )"
   ]
  },
  {
   "cell_type": "markdown",
   "metadata": {
    "application/vnd.databricks.v1+cell": {
     "cellMetadata": {},
     "inputWidgets": {},
     "nuid": "573a4dca-c591-4cde-9238-4d6092b13617",
     "showTitle": false,
     "tableResultSettingsMap": {},
     "title": ""
    }
   },
   "source": [
    "##### Evaluate the best prompt"
   ]
  },
  {
   "cell_type": "code",
   "execution_count": 0,
   "metadata": {
    "application/vnd.databricks.v1+cell": {
     "cellMetadata": {},
     "inputWidgets": {},
     "nuid": "8c1bc22d-3baa-434f-8395-9c8b2c0dcf05",
     "showTitle": false,
     "tableResultSettingsMap": {},
     "title": ""
    }
   },
   "outputs": [],
   "source": [
    "fn = lambda text: llm_call(client, \"openai_gpt_4o\", None, critic_prompt.format(text), {\"type\": \"json_object\"})\n",
    "\n",
    "with mlflow.start_run(run_name=\"LLM + Critic pv0\") as run:\n",
    "    result = mlflow.genai.evaluate(\n",
    "        predict_fn=fn,\n",
    "        data=dataset_kw,\n",
    "        scorers=[correct]\n",
    "    )"
   ]
  },
  {
   "cell_type": "code",
   "execution_count": 0,
   "metadata": {
    "application/vnd.databricks.v1+cell": {
     "cellMetadata": {},
     "inputWidgets": {},
     "nuid": "bbe211f9-5cbd-4326-be0d-9a5fc0dc3c0b",
     "showTitle": false,
     "tableResultSettingsMap": {},
     "title": ""
    }
   },
   "outputs": [],
   "source": [
    "fn = lambda text: llm_call(client, \"openai_gpt_4o\", None, critic_prompt.format(text), {\"type\": \"json_object\"})\n",
    "\n",
    "with mlflow.start_run(run_name=\"LLM + Critic pv0\") as run:\n",
    "    result = mlflow.genai.evaluate(\n",
    "        predict_fn=fn,\n",
    "        data=dataset_llm,\n",
    "        scorers=[correct]\n",
    "    )"
   ]
  },
  {
   "cell_type": "markdown",
   "metadata": {
    "application/vnd.databricks.v1+cell": {
     "cellMetadata": {},
     "inputWidgets": {},
     "nuid": "f813dc56-2a6a-4fbe-83f7-246694eb797a",
     "showTitle": false,
     "tableResultSettingsMap": {},
     "title": ""
    }
   },
   "source": [
    "## Summary metrics for vague speech detections"
   ]
  },
  {
   "cell_type": "code",
   "execution_count": 0,
   "metadata": {
    "application/vnd.databricks.v1+cell": {
     "cellMetadata": {
      "byteLimit": 2048000,
      "rowLimit": 10000
     },
     "inputWidgets": {},
     "nuid": "2e96e512-fc2a-41c7-bb6e-0a141ed0c273",
     "showTitle": false,
     "tableResultSettingsMap": {},
     "title": ""
    }
   },
   "outputs": [],
   "source": [
    "from data.adress import load_outcomes"
   ]
  },
  {
   "cell_type": "code",
   "execution_count": 0,
   "metadata": {
    "application/vnd.databricks.v1+cell": {
     "cellMetadata": {
      "byteLimit": 2048000,
      "rowLimit": 10000
     },
     "inputWidgets": {},
     "nuid": "113c3b36-6794-4903-aa1d-dba04a9d0bc6",
     "showTitle": false,
     "tableResultSettingsMap": {},
     "title": ""
    }
   },
   "outputs": [],
   "source": [
    "outcomes = load_outcomes()\n",
    "outcomes.head()"
   ]
  },
  {
   "cell_type": "code",
   "execution_count": 0,
   "metadata": {
    "application/vnd.databricks.v1+cell": {
     "cellMetadata": {
      "byteLimit": 2048000,
      "rowLimit": 10000
     },
     "inputWidgets": {},
     "nuid": "a117f684-5020-4d54-9960-8f29d56925f9",
     "showTitle": false,
     "tableResultSettingsMap": {},
     "title": ""
    }
   },
   "outputs": [],
   "source": [
    "trn_pts = outcomes.loc[(outcomes.index.get_level_values(\"split\") == \"train\")].index.values\n",
    "trn_ad_pts = outcomes.loc[(outcomes.index.get_level_values(\"split\") == \"train\") & (outcomes[\"AD_dx\"] == 1)].index.values\n",
    "trn_cn_pts = outcomes.loc[(outcomes.index.get_level_values(\"split\") == \"train\") & (outcomes[\"AD_dx\"] == 0)].index.values"
   ]
  },
  {
   "cell_type": "code",
   "execution_count": 0,
   "metadata": {
    "application/vnd.databricks.v1+cell": {
     "cellMetadata": {
      "byteLimit": 2048000,
      "rowLimit": 10000
     },
     "inputWidgets": {},
     "nuid": "b57e04a7-f97a-4370-9ad0-0412eb38084c",
     "showTitle": false,
     "tableResultSettingsMap": {},
     "title": ""
    }
   },
   "outputs": [],
   "source": [
    "tst_pts = outcomes.loc[(outcomes.index.get_level_values(\"split\") == \"test\")].index.values\n",
    "tst_ad_pts = outcomes.loc[(outcomes.index.get_level_values(\"split\") == \"test\") & (outcomes[\"AD_dx\"] == 1)].index.values\n",
    "tst_cn_pts = outcomes.loc[(outcomes.index.get_level_values(\"split\") == \"test\") & (outcomes[\"AD_dx\"] == 0)].index.values"
   ]
  },
  {
   "cell_type": "markdown",
   "metadata": {
    "application/vnd.databricks.v1+cell": {
     "cellMetadata": {},
     "inputWidgets": {},
     "nuid": "1f0439a8-c347-4254-84dd-216b824316f4",
     "showTitle": false,
     "tableResultSettingsMap": {},
     "title": ""
    }
   },
   "source": [
    "**Vague Term Rate** = Total number of detected vague terms / Total number of words spoken"
   ]
  },
  {
   "cell_type": "code",
   "execution_count": 0,
   "metadata": {
    "application/vnd.databricks.v1+cell": {
     "cellMetadata": {
      "byteLimit": 2048000,
      "rowLimit": 10000
     },
     "inputWidgets": {},
     "nuid": "df58f0f8-d8fb-46a4-994f-b03bdd3c8c44",
     "showTitle": false,
     "tableResultSettingsMap": {},
     "title": ""
    }
   },
   "outputs": [],
   "source": [
    "def compute_vague_term_rate(outputs):\n",
    "    num = outputs.apply(lambda x: len(x[\"detections\"]) if not pd.isna(x) else 0).groupby(level=(\"split\", \"ID\")).sum()\n",
    "    den = adress_trans.apply(lambda x: sum([1 for token in nlp(x[\"Transcript_clean\"]) if not (token.is_punct or token.is_space or token._.is_silence_tag or token._.is_inaudible_tag or token._.is_event_tag)]) if x[\"Speaker\"] == \"Patient\" else 0, axis=1).groupby(level=(\"split\", \"ID\")).sum()\n",
    "    return 100 * num / den"
   ]
  },
  {
   "cell_type": "code",
   "execution_count": 0,
   "metadata": {
    "application/vnd.databricks.v1+cell": {
     "cellMetadata": {
      "byteLimit": 2048000,
      "rowLimit": 10000
     },
     "inputWidgets": {},
     "nuid": "6aafe707-5b1f-4f44-8cf5-9bc85098c7c1",
     "showTitle": false,
     "tableResultSettingsMap": {},
     "title": ""
    }
   },
   "outputs": [],
   "source": [
    "outcomes[\"kw_vague_term_rate\"] = compute_vague_term_rate(adress_trans[\"keyword_dets\"])"
   ]
  },
  {
   "cell_type": "markdown",
   "metadata": {
    "application/vnd.databricks.v1+cell": {
     "cellMetadata": {},
     "inputWidgets": {},
     "nuid": "9a468cff-c237-497f-a2eb-2e9b1f285747",
     "showTitle": false,
     "tableResultSettingsMap": {},
     "title": ""
    }
   },
   "source": [
    "**Vague Utterance Ratio**: Number of utterances containing vague terms / Total number of patient utterances"
   ]
  },
  {
   "cell_type": "code",
   "execution_count": 0,
   "metadata": {
    "application/vnd.databricks.v1+cell": {
     "cellMetadata": {
      "byteLimit": 2048000,
      "rowLimit": 10000
     },
     "inputWidgets": {},
     "nuid": "2b6dbd8b-6aae-4150-bac9-ee48df1c9575",
     "showTitle": false,
     "tableResultSettingsMap": {},
     "title": ""
    }
   },
   "outputs": [],
   "source": [
    "def vague_utterance_ratio(output_name):\n",
    "    num = adress_trans[output_name].apply(lambda x: int(len(x[\"detections\"]) > 0) if not pd.isna(x) else 0).groupby(level=(\"split\", \"ID\")).sum()\n",
    "    den = (adress_trans[\"Speaker\"] == \"Patient\").groupby(level=(\"split\", \"ID\")).sum()\n",
    "    return 100 * num / den"
   ]
  },
  {
   "cell_type": "code",
   "execution_count": 0,
   "metadata": {
    "application/vnd.databricks.v1+cell": {
     "cellMetadata": {
      "byteLimit": 2048000,
      "rowLimit": 10000
     },
     "inputWidgets": {},
     "nuid": "6b964a8e-fa4a-40f1-8801-c6a15c400d59",
     "showTitle": false,
     "tableResultSettingsMap": {},
     "title": ""
    }
   },
   "outputs": [],
   "source": [
    "outcomes[\"kw_vague_utt_ratio\"] = vague_utterance_ratio(\"keyword_dets\")"
   ]
  },
  {
   "cell_type": "markdown",
   "metadata": {
    "application/vnd.databricks.v1+cell": {
     "cellMetadata": {},
     "inputWidgets": {},
     "nuid": "cf326db3-df09-4c85-851f-7ec47aa5d098",
     "showTitle": false,
     "tableResultSettingsMap": {},
     "title": ""
    }
   },
   "source": [
    "Test for statistically significant differences in feature values between the AD and non-AD groups."
   ]
  },
  {
   "cell_type": "code",
   "execution_count": 0,
   "metadata": {
    "application/vnd.databricks.v1+cell": {
     "cellMetadata": {
      "byteLimit": 2048000,
      "rowLimit": 10000
     },
     "inputWidgets": {},
     "nuid": "a6b1dd6d-c709-4b1c-9a7b-3ca4e310ba48",
     "showTitle": false,
     "tableResultSettingsMap": {},
     "title": ""
    }
   },
   "outputs": [],
   "source": [
    "# Generates the rows of Table 10 and 11\n",
    "def analysis(split_idx, split_ad, split_cn, metrics):\n",
    "    for m in metrics:\n",
    "        ## score averages\n",
    "        mean_ad = outcomes.loc[split_ad, m].mean()\n",
    "        std_ad = outcomes.loc[split_ad, m].std()\n",
    "        mean_cn = outcomes.loc[split_cn, m].mean()\n",
    "        std_cn = outcomes.loc[split_cn, m].std()\n",
    "\n",
    "        ## correlation metrics\n",
    "        res_ttest = ttest_ind(outcomes.loc[split_idx, \"AD_dx\"], outcomes.loc[split_idx, m])\n",
    "        res_mannw = mannwhitneyu(outcomes.loc[split_idx, \"AD_dx\"], outcomes.loc[split_idx, m])\n",
    "        res_auc   = roc_auc_score(outcomes.loc[split_idx, \"AD_dx\"], outcomes.loc[split_idx, m])\n",
    "\n",
    "        print(\"%s & %.2f (%.2f) & %.2f (%.2f) & %.2f (%s) & %.2f (%s) & %.2f \\\\\\\\\" % \n",
    "                (m,\n",
    "                mean_ad,\n",
    "                std_ad,\n",
    "                mean_cn,\n",
    "                std_cn,\n",
    "                res_ttest.statistic,\n",
    "                str(round(res_ttest.pvalue, 3)) if res_ttest.pvalue >= 0.001 else \"$<$0.001\", \n",
    "                res_mannw.statistic, \n",
    "                str(round(res_ttest.pvalue, 3)) if res_ttest.pvalue >= 0.001 else \"$<$0.001\",\n",
    "                res_auc)\n",
    "        )"
   ]
  },
  {
   "cell_type": "code",
   "execution_count": 0,
   "metadata": {
    "application/vnd.databricks.v1+cell": {
     "cellMetadata": {
      "byteLimit": 2048000,
      "rowLimit": 10000
     },
     "inputWidgets": {},
     "nuid": "42661a20-d7cc-4cff-88bf-0ff2c92252bc",
     "showTitle": false,
     "tableResultSettingsMap": {},
     "title": ""
    }
   },
   "outputs": [],
   "source": [
    "mets = [\n",
    "    \"kw_vague_term_rate\",\n",
    "    \"kw_vague_utt_ratio\", \n",
    "]"
   ]
  },
  {
   "cell_type": "code",
   "execution_count": 0,
   "metadata": {
    "application/vnd.databricks.v1+cell": {
     "cellMetadata": {
      "byteLimit": 2048000,
      "rowLimit": 10000
     },
     "inputWidgets": {},
     "nuid": "2ae79187-c648-44d6-95af-30508114ba78",
     "showTitle": false,
     "tableResultSettingsMap": {},
     "title": ""
    }
   },
   "outputs": [],
   "source": [
    "analysis(trn_pts, trn_ad_pts, trn_cn_pts, mets)"
   ]
  },
  {
   "cell_type": "code",
   "execution_count": 0,
   "metadata": {
    "application/vnd.databricks.v1+cell": {
     "cellMetadata": {
      "byteLimit": 2048000,
      "rowLimit": 10000
     },
     "inputWidgets": {},
     "nuid": "fb4d3f24-2b54-4c9f-bf19-2d3e41aae6b1",
     "showTitle": false,
     "tableResultSettingsMap": {},
     "title": ""
    }
   },
   "outputs": [],
   "source": [
    "analysis(tst_pts, tst_ad_pts, tst_cn_pts, mets)"
   ]
  },
  {
   "cell_type": "code",
   "execution_count": 0,
   "metadata": {
    "application/vnd.databricks.v1+cell": {
     "cellMetadata": {
      "byteLimit": 2048000,
      "rowLimit": 10000
     },
     "inputWidgets": {},
     "nuid": "89551a0e-f610-4e2d-b7b1-3c10afc7458d",
     "showTitle": false,
     "tableResultSettingsMap": {},
     "title": ""
    }
   },
   "outputs": [],
   "source": [
    "outcomes[[\"kw_vague_term_rate\", \"kw_vague_utt_ratio\"]].to_csv(\"vague_feats.csv\")"
   ]
  }
 ],
 "metadata": {
  "application/vnd.databricks.v1+notebook": {
   "computePreferences": null,
   "dashboards": [],
   "environmentMetadata": {
    "base_environment": "",
    "environment_version": "2"
   },
   "inputWidgetPreferences": null,
   "language": "python",
   "notebookMetadata": {
    "pythonIndentUnit": 4
   },
   "notebookName": "05_Vague_Speech",
   "widgets": {}
  },
  "language_info": {
   "name": "python"
  }
 },
 "nbformat": 4,
 "nbformat_minor": 0
}
