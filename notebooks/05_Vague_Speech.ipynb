{
 "cells": [
  {
   "cell_type": "code",
   "execution_count": 0,
   "metadata": {
    "application/vnd.databricks.v1+cell": {
     "cellMetadata": {
      "byteLimit": 2048000,
      "rowLimit": 10000
     },
     "inputWidgets": {},
     "nuid": "8f7f2e0c-7b90-478f-8c8f-eb33b33d0390",
     "showTitle": false,
     "tableResultSettingsMap": {},
     "title": ""
    }
   },
   "outputs": [],
   "source": [
    "%load_ext autoreload\n",
    "%autoreload 1\n",
    "%aimport data.adress"
   ]
  },
  {
   "cell_type": "code",
   "execution_count": 0,
   "metadata": {
    "application/vnd.databricks.v1+cell": {
     "cellMetadata": {
      "byteLimit": 2048000,
      "rowLimit": 10000
     },
     "inputWidgets": {},
     "nuid": "5451a694-a41d-435d-9039-9e60119f122d",
     "showTitle": false,
     "tableResultSettingsMap": {},
     "title": ""
    }
   },
   "outputs": [],
   "source": [
    "import sys\n",
    "sys.path.append(\"..\")\n",
    "import pickle\n",
    "from pprint import pprint"
   ]
  },
  {
   "cell_type": "markdown",
   "metadata": {
    "application/vnd.databricks.v1+cell": {
     "cellMetadata": {},
     "inputWidgets": {},
     "nuid": "a51ab253-c632-4632-8993-787c0408da83",
     "showTitle": false,
     "tableResultSettingsMap": {},
     "title": ""
    }
   },
   "source": [
    "### Validation Datasets"
   ]
  },
  {
   "cell_type": "code",
   "execution_count": 0,
   "metadata": {
    "application/vnd.databricks.v1+cell": {
     "cellMetadata": {
      "byteLimit": 2048000,
      "rowLimit": 10000
     },
     "inputWidgets": {},
     "nuid": "272853b4-971e-4230-8e74-47227b628630",
     "showTitle": false,
     "tableResultSettingsMap": {},
     "title": ""
    }
   },
   "outputs": [],
   "source": [
    "import data.adress as ADReSS\n",
    "\n",
    "data = ADReSS.load_CHAT_transcripts()\n",
    "data = data[[\"Speaker\", \"Transcript\", \"Transcript_clean\", \"Utterance\", \"Vague speech\"]]\n",
    "data.head(10)"
   ]
  },
  {
   "cell_type": "markdown",
   "metadata": {
    "application/vnd.databricks.v1+cell": {
     "cellMetadata": {},
     "inputWidgets": {},
     "nuid": "345192bc-3fbb-47ff-b6ba-1597eca4ca18",
     "showTitle": false,
     "tableResultSettingsMap": {},
     "title": ""
    }
   },
   "source": [
    "## LLM-Based Detector"
   ]
  },
  {
   "cell_type": "code",
   "execution_count": 0,
   "metadata": {
    "application/vnd.databricks.v1+cell": {
     "cellMetadata": {},
     "inputWidgets": {},
     "nuid": "aa6f402c-4b47-475b-b2d8-c1b0633d021c",
     "showTitle": false,
     "tableResultSettingsMap": {},
     "title": ""
    }
   },
   "outputs": [],
   "source": [
    "from openai import OpenAI\n",
    "\n",
    "DATABRICKS_TOKEN    = dbutils.notebook.entry_point.getDbutils().notebook().getContext().apiToken().get()\n",
    "DB_ENDPOINT_URL     = \"https://adb-2035410508966251.11.azuredatabricks.net/serving-endpoints\"\n",
    "\n",
    "client = OpenAI(api_key=DATABRICKS_TOKEN, base_url=DB_ENDPOINT_URL)"
   ]
  },
  {
   "cell_type": "code",
   "execution_count": 0,
   "metadata": {
    "application/vnd.databricks.v1+cell": {
     "cellMetadata": {},
     "inputWidgets": {},
     "nuid": "c036ec98-c4bb-44e1-a7d5-53282ba434ce",
     "showTitle": false,
     "tableResultSettingsMap": {},
     "title": ""
    }
   },
   "outputs": [],
   "source": [
    "def run(prompt, model, utt_per_query):\n",
    "    outputs = []\n",
    "    for (trn_tst, pt_id), transcript in data.groupby(level=[\"train_test\", \"patient_id\"]):\n",
    "        for end in range(transcript.shape[0]):\n",
    "            # Skip provider turns\n",
    "            if transcript.loc[(trn_tst, pt_id, end), \"Speaker\"] == \"Provider\":\n",
    "                continue\n",
    "\n",
    "            # Sliding window\n",
    "            start = max(0, end - utt_per_query + 1)\n",
    "            text = \"\\n\".join(transcript.loc[(slice(None), slice(None), slice(start, end)), \"Utterance\"].to_list())\n",
    "\n",
    "            # Execute query\n",
    "            response = client.chat.completions.create(\n",
    "                model=model, \n",
    "                messages=[\n",
    "                    {\n",
    "                        \"role\": \"user\", \n",
    "                        \"content\": prompt.format(text)\n",
    "                    }\n",
    "                ]\n",
    "            )\n",
    "            outputs.append(response.choices[0].message.content)\n",
    "\n",
    "    return outputs"
   ]
  },
  {
   "cell_type": "markdown",
   "metadata": {
    "application/vnd.databricks.v1+cell": {
     "cellMetadata": {},
     "inputWidgets": {},
     "nuid": "b7269fb3-b4dd-4590-92d3-02927ea7b684",
     "showTitle": false,
     "tableResultSettingsMap": {},
     "title": ""
    }
   },
   "source": [
    "### Prompts\n",
    "Best version: v1"
   ]
  },
  {
   "cell_type": "code",
   "execution_count": 0,
   "metadata": {
    "application/vnd.databricks.v1+cell": {
     "cellMetadata": {},
     "inputWidgets": {},
     "nuid": "968338f6-d1b2-4450-a136-75f6f4dad982",
     "showTitle": false,
     "tableResultSettingsMap": {},
     "title": ""
    }
   },
   "outputs": [],
   "source": [
    "prompt_v1 = \"Identify all instances of vague speech in the last line of the following transcript:\\n\\n{}\\n\\nList each instance of vague speech as a bullet point in the order that they are spoken. Do not include any explanations. If no repetitions are found, return \\\"None\\\".\"\n",
    "\n",
    "\"Identify all vague words or phrases that indicate possible cognitive impairment (e.g., \\\"you know\\\" or \\\"that thing\\\") from the following transcript:\""
   ]
  },
  {
   "cell_type": "code",
   "execution_count": 0,
   "metadata": {
    "application/vnd.databricks.v1+cell": {
     "cellMetadata": {},
     "inputWidgets": {},
     "nuid": "b406f7ee-8fa4-4051-b57b-6567c7d8741b",
     "showTitle": false,
     "tableResultSettingsMap": {},
     "title": ""
    }
   },
   "outputs": [],
   "source": [
    "outputs = run(prompt_v1, \"openai_gpt_4o\", 1)"
   ]
  },
  {
   "cell_type": "code",
   "execution_count": 0,
   "metadata": {
    "application/vnd.databricks.v1+cell": {
     "cellMetadata": {},
     "inputWidgets": {},
     "nuid": "f886a99e-7c4b-4bf9-9775-255c99869280",
     "showTitle": false,
     "tableResultSettingsMap": {},
     "title": ""
    }
   },
   "outputs": [],
   "source": [
    "with open(\"outputs_vague_speech.pkl\", \"wb\") as f:\n",
    "    pickle.dump(outputs, f)"
   ]
  },
  {
   "cell_type": "markdown",
   "metadata": {
    "application/vnd.databricks.v1+cell": {
     "cellMetadata": {},
     "inputWidgets": {},
     "nuid": "5d7d1cef-77de-44c6-9e47-4d0d2c5cf8ec",
     "showTitle": false,
     "tableResultSettingsMap": {},
     "title": ""
    }
   },
   "source": [
    "### DEMO"
   ]
  },
  {
   "cell_type": "code",
   "execution_count": 0,
   "metadata": {
    "application/vnd.databricks.v1+cell": {
     "cellMetadata": {},
     "inputWidgets": {},
     "nuid": "5dc1d685-2976-458f-b25f-dd46a0796163",
     "showTitle": false,
     "tableResultSettingsMap": {},
     "title": ""
    }
   },
   "outputs": [],
   "source": []
  },
  {
   "cell_type": "markdown",
   "metadata": {
    "application/vnd.databricks.v1+cell": {
     "cellMetadata": {},
     "inputWidgets": {},
     "nuid": "f3ef28a7-5a13-4796-be14-d2d89b7badd8",
     "showTitle": false,
     "tableResultSettingsMap": {},
     "title": ""
    }
   },
   "source": [
    "## BERT-based detector\n",
    "\n",
    "### Experiments to Run:\n",
    "1. Iteratively mask each word in utterance, and have BERT predict the word. If any of the top-predicted words do not match the actual words then flag entire utterance as vague speech."
   ]
  },
  {
   "cell_type": "code",
   "execution_count": 0,
   "metadata": {
    "application/vnd.databricks.v1+cell": {
     "cellMetadata": {
      "byteLimit": 2048000,
      "rowLimit": 10000
     },
     "inputWidgets": {},
     "nuid": "d09cc249-2a92-4a73-9405-4c34a9462938",
     "showTitle": false,
     "tableResultSettingsMap": {},
     "title": ""
    }
   },
   "outputs": [],
   "source": [
    "import torch\n",
    "from transformers import AutoModelForMaskedLM, AutoTokenizer, pipeline\n",
    "\n",
    "model_name = \"google-bert/bert-base-uncased\"\n",
    "\n",
    "tokenizer = AutoTokenizer.from_pretrained(model_name)\n",
    "bert_model = AutoModelForMaskedLM.from_pretrained(model_name)\n",
    "\n",
    "# add patient provider labels to vocabulary\n",
    "n_added_toks = tokenizer.add_tokens([\"[PATIENT]\", \"[PROVIDER]\"])\n",
    "bert_model.resize_token_embeddings(len(tokenizer))\n",
    "\n",
    "bert_model = pipeline(\n",
    "    task=\"fill-mask\",\n",
    "    model=bert_model,\n",
    "    tokenizer=tokenizer,\n",
    "    torch_dtype=torch.float16,\n",
    "    device=0\n",
    ")"
   ]
  },
  {
   "cell_type": "code",
   "execution_count": 0,
   "metadata": {
    "application/vnd.databricks.v1+cell": {
     "cellMetadata": {
      "byteLimit": 2048000,
      "rowLimit": 10000
     },
     "inputWidgets": {},
     "nuid": "6d5c59ec-f4b8-471a-b7ac-bbc0483ac6e6",
     "showTitle": false,
     "tableResultSettingsMap": {},
     "title": ""
    }
   },
   "outputs": [],
   "source": [
    "import re\n",
    "\n",
    "def mask_each_word(text):\n",
    "    words = text.split()\n",
    "\n",
    "    inputs, labels = [], []\n",
    "    for i in range(len(words)):\n",
    "        if re.match(r\"\\[PATIENT\\]|\\[PROVIDER\\]\", words[i]) or re.fullmatch(r\"\\W+\", words[i]):\n",
    "            continue\n",
    "\n",
    "        labels.append(words[i])\n",
    "        temp = words.copy()\n",
    "        temp[i] = \"[MASK]\"\n",
    "        inputs.append(\" \".join(temp))\n",
    "\n",
    "    return inputs, labels\n",
    "\n",
    "def heuristic1(labels, outputs, top_k=5):\n",
    "    ct = 0\n",
    "    for actual_word, pred_words in zip(labels, outputs):\n",
    "        if type(pred_words) == dict:\n",
    "            return 999\n",
    "        \n",
    "        if all([actual_word != pred_words[i][\"token_str\"] for i in range(top_k)]):\n",
    "            ct += 1\n",
    "            \n",
    "    return ct / len(labels)\n",
    "\n",
    "def do(text):\n",
    "    if text.split(maxsplit=1)[0] == \"[PROVIDER]\":\n",
    "        return pd.NA\n",
    "    \n",
    "    inputs, labels = mask_each_word(text)\n",
    "    outputs = bert_model(inputs)\n",
    "\n",
    "    # Heuristics\n",
    "    h1 = heuristic1(labels, outputs)\n",
    "    return h1"
   ]
  },
  {
   "cell_type": "code",
   "execution_count": 0,
   "metadata": {
    "application/vnd.databricks.v1+cell": {
     "cellMetadata": {
      "byteLimit": 2048000,
      "rowLimit": 10000
     },
     "inputWidgets": {},
     "nuid": "6bbe77d7-70d0-41e1-959f-1ef8a27c1d7f",
     "showTitle": false,
     "tableResultSettingsMap": {},
     "title": ""
    }
   },
   "outputs": [],
   "source": [
    "data = adress_data.loc[:,[\"Speaker\",\"Transcript_clean\"]]\n",
    "data[\"text\"] = data.apply(lambda x: \"[{}] {}\".format(x[\"Speaker\"].upper(), x[\"Transcript_clean\"]), axis=1)\n",
    "data[\"h1\"] = data[\"text\"].apply(do)\n",
    "data"
   ]
  },
  {
   "cell_type": "code",
   "execution_count": 0,
   "metadata": {
    "application/vnd.databricks.v1+cell": {
     "cellMetadata": {},
     "inputWidgets": {},
     "nuid": "cb16d15c-bf0c-4a7b-b89b-c0084af9a7fe",
     "showTitle": false,
     "tableResultSettingsMap": {},
     "title": ""
    }
   },
   "outputs": [],
   "source": []
  }
 ],
 "metadata": {
  "application/vnd.databricks.v1+notebook": {
   "computePreferences": null,
   "dashboards": [],
   "environmentMetadata": {
    "base_environment": "",
    "environment_version": "2"
   },
   "inputWidgetPreferences": null,
   "language": "python",
   "notebookMetadata": {
    "pythonIndentUnit": 4
   },
   "notebookName": "05_Vague_Speech",
   "widgets": {}
  },
  "language_info": {
   "name": "python"
  }
 },
 "nbformat": 4,
 "nbformat_minor": 0
}
