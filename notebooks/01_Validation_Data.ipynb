{
 "cells": [
  {
   "cell_type": "markdown",
   "metadata": {
    "application/vnd.databricks.v1+cell": {
     "cellMetadata": {
      "byteLimit": 2048000,
      "rowLimit": 10000
     },
     "inputWidgets": {},
     "nuid": "f6de36c3-ec25-488c-b618-508756fed11c",
     "showTitle": false,
     "tableResultSettingsMap": {},
     "title": ""
    }
   },
   "source": [
    "# Validation Data: DementiaBank"
   ]
  },
  {
   "cell_type": "code",
   "execution_count": 0,
   "metadata": {
    "application/vnd.databricks.v1+cell": {
     "cellMetadata": {
      "byteLimit": 2048000,
      "rowLimit": 10000
     },
     "inputWidgets": {},
     "nuid": "9c65ca66-512f-4e53-b726-37e846107343",
     "showTitle": false,
     "tableResultSettingsMap": {},
     "title": ""
    }
   },
   "outputs": [],
   "source": [
    "%load_ext autoreload\n",
    "%autoreload 1\n",
    "%aimport data.adress"
   ]
  },
  {
   "cell_type": "code",
   "execution_count": 0,
   "metadata": {
    "application/vnd.databricks.v1+cell": {
     "cellMetadata": {
      "byteLimit": 2048000,
      "rowLimit": 10000
     },
     "inputWidgets": {},
     "nuid": "db34bb09-56cd-44b3-8dca-9edea49bc2e6",
     "showTitle": false,
     "tableResultSettingsMap": {},
     "title": ""
    }
   },
   "outputs": [],
   "source": [
    "import sys\n",
    "sys.path.append(\"..\")\n",
    "import data.adress as ADReSS\n",
    "import data.adresso as ADReSSo\n",
    "import numpy as np\n",
    "import pandas as pd"
   ]
  },
  {
   "cell_type": "markdown",
   "metadata": {
    "application/vnd.databricks.v1+cell": {
     "cellMetadata": {
      "byteLimit": 2048000,
      "rowLimit": 10000
     },
     "inputWidgets": {},
     "nuid": "907addd4-10c9-4045-b027-fab5539bbe72",
     "showTitle": false,
     "tableResultSettingsMap": {},
     "title": ""
    }
   },
   "source": [
    "## ADReSS"
   ]
  },
  {
   "cell_type": "code",
   "execution_count": 0,
   "metadata": {
    "application/vnd.databricks.v1+cell": {
     "cellMetadata": {
      "byteLimit": 2048000,
      "rowLimit": 10000
     },
     "inputWidgets": {},
     "nuid": "5c09621e-fe0a-4cf0-8b9e-4a420af59385",
     "showTitle": false,
     "tableResultSettingsMap": {},
     "title": ""
    }
   },
   "outputs": [],
   "source": [
    "adress_trans = ADReSS.load_CHAT_transcripts()\n",
    "adress_trans.head()"
   ]
  },
  {
   "cell_type": "code",
   "execution_count": 0,
   "metadata": {
    "application/vnd.databricks.v1+cell": {
     "cellMetadata": {
      "byteLimit": 2048000,
      "rowLimit": 10000
     },
     "inputWidgets": {},
     "nuid": "32e10a40-4d98-436b-9062-1b53c97c0f61",
     "showTitle": false,
     "tableResultSettingsMap": {},
     "title": ""
    }
   },
   "outputs": [],
   "source": [
    "adress_lbls = ADReSS.load_labels()\n",
    "adress_lbls.head()"
   ]
  },
  {
   "cell_type": "markdown",
   "metadata": {
    "application/vnd.databricks.v1+cell": {
     "cellMetadata": {
      "byteLimit": 2048000,
      "rowLimit": 10000
     },
     "inputWidgets": {},
     "nuid": "8a5c33e8-ea64-4f1b-a85d-2c12dfff7c98",
     "showTitle": false,
     "tableResultSettingsMap": {},
     "title": ""
    }
   },
   "source": [
    "#### Analysis"
   ]
  },
  {
   "cell_type": "code",
   "execution_count": 0,
   "metadata": {
    "application/vnd.databricks.v1+cell": {
     "cellMetadata": {
      "byteLimit": 2048000,
      "rowLimit": 10000
     },
     "inputWidgets": {},
     "nuid": "251eb3e0-e3c2-40a6-bf35-5ef73f5ab0aa",
     "showTitle": false,
     "tableResultSettingsMap": {},
     "title": ""
    }
   },
   "outputs": [],
   "source": [
    "adress_trans[[\"Filler speech\", \"Repetitive speech\", \"Speech delays\", \"Vague speech\", \"Paraphasic speech\"]].sum()"
   ]
  },
  {
   "cell_type": "code",
   "execution_count": 0,
   "metadata": {
    "application/vnd.databricks.v1+cell": {
     "cellMetadata": {
      "byteLimit": 2048000,
      "rowLimit": 10000
     },
     "inputWidgets": {},
     "nuid": "f0af2990-0cc8-400c-95c4-7c65b5576073",
     "showTitle": false,
     "tableResultSettingsMap": {},
     "title": ""
    }
   },
   "outputs": [],
   "source": [
    "print(\"Num NA MMSE scores:\", adress_lbls[\"mmse\"].isna().sum())\n",
    "print(\"ALL Pct AD: %.3f\" % (adress_lbls[\"Label\"].sum() / adress_lbls.shape[0]))\n",
    "print(\"TRAIN Pct AD: %.3f\" % (adress_lbls.loc[\"train\", \"Label\"].sum() / adress_lbls.loc[\"train\"].shape[0]))\n",
    "print(\"TEST Pct AD: %.3f\" % (adress_lbls.loc[\"test\", \"Label\"].sum() / adress_lbls.loc[\"test\"].shape[0]))"
   ]
  },
  {
   "cell_type": "code",
   "execution_count": 0,
   "metadata": {
    "application/vnd.databricks.v1+cell": {
     "cellMetadata": {
      "byteLimit": 2048000,
      "rowLimit": 10000
     },
     "inputWidgets": {},
     "nuid": "ccad6dd6-2298-470a-bf1d-a72cbc699ec1",
     "showTitle": false,
     "tableResultSettingsMap": {},
     "title": ""
    }
   },
   "outputs": [],
   "source": [
    "bins = np.linspace(0, 30, 15)\n",
    "\n",
    "plt.hist([adress_lbls.loc[\"train\", \"mmse\"], adress_lbls.loc[\"test\", \"mmse\"]], bins=bins, label=[\"Train\", \"Test\"], edgecolor=\"k\", zorder=3)\n",
    "plt.xlabel(\"MMSE\")\n",
    "plt.ylabel(\"Frequency\")\n",
    "plt.legend(loc=\"upper left\")\n",
    "plt.xlim([-1, 31])\n",
    "plt.grid(zorder=0)\n",
    "plt.show()"
   ]
  },
  {
   "cell_type": "markdown",
   "metadata": {
    "application/vnd.databricks.v1+cell": {
     "cellMetadata": {
      "byteLimit": 2048000,
      "rowLimit": 10000
     },
     "inputWidgets": {},
     "nuid": "ea5d427a-f9a7-47bc-a015-8d68c17f30b5",
     "showTitle": false,
     "tableResultSettingsMap": {},
     "title": ""
    }
   },
   "source": [
    "## ADReSSo"
   ]
  },
  {
   "cell_type": "code",
   "execution_count": 0,
   "metadata": {
    "application/vnd.databricks.v1+cell": {
     "cellMetadata": {
      "byteLimit": 2048000,
      "rowLimit": 10000
     },
     "inputWidgets": {},
     "nuid": "7d325e24-27fb-4749-ba81-28a1ce7f94b3",
     "showTitle": false,
     "tableResultSettingsMap": {},
     "title": ""
    }
   },
   "outputs": [],
   "source": [
    "adresso_lbls = ADReSSo.load_labels()\n",
    "adresso_lbls.head()"
   ]
  },
  {
   "cell_type": "markdown",
   "metadata": {
    "application/vnd.databricks.v1+cell": {
     "cellMetadata": {
      "byteLimit": 2048000,
      "rowLimit": 10000
     },
     "inputWidgets": {},
     "nuid": "fb62434e-6d1a-4629-bba0-efa563467f62",
     "showTitle": false,
     "tableResultSettingsMap": {},
     "title": ""
    }
   },
   "source": [
    "#### Analysis"
   ]
  },
  {
   "cell_type": "code",
   "execution_count": 0,
   "metadata": {
    "application/vnd.databricks.v1+cell": {
     "cellMetadata": {
      "byteLimit": 2048000,
      "rowLimit": 10000
     },
     "inputWidgets": {},
     "nuid": "e16503d1-f263-4857-9208-aaab493bb7a9",
     "showTitle": false,
     "tableResultSettingsMap": {},
     "title": ""
    }
   },
   "outputs": [],
   "source": [
    "print(\"Num NA MMSE scores:\", adresso_lbls[\"mmse\"].isna().sum())\n",
    "print(\"ALL Pct AD: %.3f\" % (adresso_lbls[\"Label\"].sum() / adresso_lbls.shape[0]))\n",
    "print(\"TRAIN Pct AD: %.3f\" % (adresso_lbls.loc[\"train\", \"Label\"].sum() / adresso_lbls.loc[\"train\"].shape[0]))\n",
    "print(\"TEST Pct AD: %.3f\" % (adresso_lbls.loc[\"test\", \"Label\"].sum() / adresso_lbls.loc[\"test\"].shape[0]))"
   ]
  },
  {
   "cell_type": "code",
   "execution_count": 0,
   "metadata": {
    "application/vnd.databricks.v1+cell": {
     "cellMetadata": {
      "byteLimit": 2048000,
      "rowLimit": 10000
     },
     "inputWidgets": {},
     "nuid": "00505216-94fc-4d0f-9dcf-19f1c021f50b",
     "showTitle": false,
     "tableResultSettingsMap": {},
     "title": ""
    }
   },
   "outputs": [],
   "source": [
    "bins = np.linspace(0, 30, 15)\n",
    "\n",
    "plt.hist([adresso_lbls.loc[\"train\", \"mmse\"], adresso_lbls.loc[\"test\", \"mmse\"]], bins=bins, label=[\"Train\", \"Test\"], edgecolor=\"k\", zorder=3)\n",
    "plt.xlabel(\"MMSE\")\n",
    "plt.ylabel(\"Frequency\")\n",
    "plt.legend(loc=\"upper left\")\n",
    "plt.xlim([-1, 31])\n",
    "plt.grid(zorder=0)\n",
    "plt.show()"
   ]
  }
 ],
 "metadata": {
  "application/vnd.databricks.v1+notebook": {
   "computePreferences": null,
   "dashboards": [],
   "environmentMetadata": {
    "base_environment": "",
    "environment_version": "2"
   },
   "inputWidgetPreferences": null,
   "language": "python",
   "notebookMetadata": {
    "pythonIndentUnit": 4
   },
   "notebookName": "01_Validation_Data",
   "widgets": {}
  },
  "language_info": {
   "name": "python"
  }
 },
 "nbformat": 4,
 "nbformat_minor": 0
}
