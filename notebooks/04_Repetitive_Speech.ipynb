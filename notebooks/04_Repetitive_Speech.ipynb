{
 "cells": [
  {
   "cell_type": "markdown",
   "metadata": {
    "application/vnd.databricks.v1+cell": {
     "cellMetadata": {},
     "inputWidgets": {},
     "nuid": "e19c667c-050c-4f74-8de9-181a6394190d",
     "showTitle": false,
     "tableResultSettingsMap": {},
     "title": ""
    }
   },
   "source": [
    "# Detecting Repetitive Speech"
   ]
  },
  {
   "cell_type": "code",
   "execution_count": 0,
   "metadata": {
    "application/vnd.databricks.v1+cell": {
     "cellMetadata": {
      "byteLimit": 2048000,
      "rowLimit": 10000
     },
     "inputWidgets": {},
     "nuid": "2917529a-0ba5-42a4-930d-5fd7e78fb584",
     "showTitle": false,
     "tableResultSettingsMap": {},
     "title": ""
    }
   },
   "outputs": [],
   "source": [
    "%load_ext autoreload\n",
    "%autoreload 1\n",
    "%aimport data.adress"
   ]
  },
  {
   "cell_type": "code",
   "execution_count": 0,
   "metadata": {
    "application/vnd.databricks.v1+cell": {
     "cellMetadata": {
      "byteLimit": 2048000,
      "rowLimit": 10000
     },
     "inputWidgets": {},
     "nuid": "5e67d695-263e-4656-9b37-449fc567d635",
     "showTitle": false,
     "tableResultSettingsMap": {},
     "title": ""
    }
   },
   "outputs": [],
   "source": [
    "import sys\n",
    "sys.path.append(\"..\")\n",
    "import numpy as np\n",
    "import pickle\n",
    "from pprint import pprint"
   ]
  },
  {
   "cell_type": "markdown",
   "metadata": {
    "application/vnd.databricks.v1+cell": {
     "cellMetadata": {},
     "inputWidgets": {},
     "nuid": "69670ea8-82e9-42cb-a7b9-93388c3a9b1e",
     "showTitle": false,
     "tableResultSettingsMap": {},
     "title": ""
    }
   },
   "source": [
    "### Validation Data"
   ]
  },
  {
   "cell_type": "code",
   "execution_count": 0,
   "metadata": {
    "application/vnd.databricks.v1+cell": {
     "cellMetadata": {
      "byteLimit": 2048000,
      "rowLimit": 10000
     },
     "inputWidgets": {},
     "nuid": "53af97ae-a28c-4b02-9bb9-38bc9dd6b896",
     "showTitle": false,
     "tableResultSettingsMap": {},
     "title": ""
    }
   },
   "outputs": [],
   "source": [
    "from data.adress import load_CHAT_transcripts\n",
    "\n",
    "data = load_CHAT_transcripts()\n",
    "data = data[[\"Speaker\", \"Transcript\", \"Transcript_clean\", \"Repetitive speech\"]]\n",
    "data.head()"
   ]
  },
  {
   "cell_type": "markdown",
   "metadata": {
    "application/vnd.databricks.v1+cell": {
     "cellMetadata": {},
     "inputWidgets": {},
     "nuid": "04688e6a-c7cb-4760-9141-311b39d47fa7",
     "showTitle": false,
     "tableResultSettingsMap": {},
     "title": ""
    }
   },
   "source": [
    "## LLM-Based Detector"
   ]
  },
  {
   "cell_type": "code",
   "execution_count": 0,
   "metadata": {
    "application/vnd.databricks.v1+cell": {
     "cellMetadata": {
      "byteLimit": 2048000,
      "rowLimit": 10000
     },
     "inputWidgets": {},
     "nuid": "2077f32f-65ae-4606-aafe-9c8823f99c94",
     "showTitle": false,
     "tableResultSettingsMap": {},
     "title": ""
    }
   },
   "outputs": [],
   "source": [
    "from openai import OpenAI\n",
    "\n",
    "DATABRICKS_TOKEN    = dbutils.notebook.entry_point.getDbutils().notebook().getContext().apiToken().get()\n",
    "DB_ENDPOINT_URL     = \"https://adb-2035410508966251.11.azuredatabricks.net/serving-endpoints\"\n",
    "\n",
    "client = OpenAI(api_key=DATABRICKS_TOKEN, base_url=DB_ENDPOINT_URL)"
   ]
  },
  {
   "cell_type": "code",
   "execution_count": 0,
   "metadata": {
    "application/vnd.databricks.v1+cell": {
     "cellMetadata": {
      "byteLimit": 2048000,
      "rowLimit": 10000
     },
     "inputWidgets": {},
     "nuid": "c50afa8a-d8a5-4078-9085-1ae6c3c751df",
     "showTitle": false,
     "tableResultSettingsMap": {},
     "title": ""
    }
   },
   "outputs": [],
   "source": [
    "def run(prompt, model, utt_per_query):\n",
    "    outputs = []\n",
    "    for (trn_tst, pt_id), transcript in data.groupby(level=[\"train_test\", \"patient_id\"]):\n",
    "        for end in range(transcript.shape[0]):\n",
    "            # Skip provider turns\n",
    "            if transcript.loc[(trn_tst, pt_id, end), \"Speaker\"] == \"Provider\":\n",
    "                continue\n",
    "\n",
    "            # Sliding window\n",
    "            start = max(0, end - utt_per_query + 1)\n",
    "            text = \"\\n\".join(transcript.loc[(slice(None), slice(None), slice(start, end)), \"Utterance\"].to_list())\n",
    "\n",
    "            # Execute query\n",
    "            response = client.chat.completions.create(\n",
    "                model=model, \n",
    "                messages=[\n",
    "                    {\n",
    "                        \"role\": \"user\", \n",
    "                        \"content\": prompt.format(text)\n",
    "                    }\n",
    "                ]\n",
    "            )\n",
    "            outputs.append(response.choices[0].message.content)\n",
    "\n",
    "    return outputs"
   ]
  },
  {
   "cell_type": "markdown",
   "metadata": {
    "application/vnd.databricks.v1+cell": {
     "cellMetadata": {},
     "inputWidgets": {},
     "nuid": "23c4066a-04e4-4bd1-8c38-eb46d788d1f5",
     "showTitle": false,
     "tableResultSettingsMap": {},
     "title": ""
    }
   },
   "source": [
    "### Prompts\n",
    "Best version: v1"
   ]
  },
  {
   "cell_type": "code",
   "execution_count": 0,
   "metadata": {
    "application/vnd.databricks.v1+cell": {
     "cellMetadata": {
      "byteLimit": 2048000,
      "rowLimit": 10000
     },
     "inputWidgets": {},
     "nuid": "9931f132-0150-4659-896f-07747e6bb4e8",
     "showTitle": false,
     "tableResultSettingsMap": {},
     "title": ""
    }
   },
   "outputs": [],
   "source": [
    "prompt_v1 = \"Identify all instances where the patient repeats the same sounds, words, or phrases--either consecutively or non-consecutively--in a way that indicates cognitive impairment in the following utterance:\\n\\n{}\\n\\nReturn a bullet point list, where each bullet contains a complete quote of the full phrase in which the repetition occurs, exactly as spoken by the patient. Start the quote at the first repeated sound, word, or phrase and end the quote after the last repeated sound, word, or phrase. Do not include any explanations. Do not include repetition prompted by the provider. If no repetitions are found, return \\\"None\\\".\""
   ]
  },
  {
   "cell_type": "code",
   "execution_count": 0,
   "metadata": {
    "application/vnd.databricks.v1+cell": {
     "cellMetadata": {
      "byteLimit": 2048000,
      "rowLimit": 10000
     },
     "inputWidgets": {},
     "nuid": "d40a2959-fba4-4206-9aa4-818aa08538b9",
     "showTitle": false,
     "tableResultSettingsMap": {},
     "title": ""
    }
   },
   "outputs": [],
   "source": [
    "outputs = run(prompt_v1, \"openai_gpt_4o\", 1)"
   ]
  },
  {
   "cell_type": "code",
   "execution_count": 0,
   "metadata": {
    "application/vnd.databricks.v1+cell": {
     "cellMetadata": {},
     "inputWidgets": {},
     "nuid": "56561669-cc9d-444f-860e-5e0586ca7fc1",
     "showTitle": false,
     "tableResultSettingsMap": {},
     "title": ""
    }
   },
   "outputs": [],
   "source": [
    "with open(\"outputs_repetitive_speech.pkl\", \"wb\") as f:\n",
    "    pickle.dump(outputs, f)"
   ]
  },
  {
   "cell_type": "markdown",
   "metadata": {
    "application/vnd.databricks.v1+cell": {
     "cellMetadata": {},
     "inputWidgets": {},
     "nuid": "00fde8d2-c6b9-4fa4-acd5-2e4150f287b5",
     "showTitle": false,
     "tableResultSettingsMap": {},
     "title": ""
    }
   },
   "source": [
    "## Comparative Approach: n-gram overlap"
   ]
  },
  {
   "cell_type": "code",
   "execution_count": 0,
   "metadata": {
    "application/vnd.databricks.v1+cell": {
     "cellMetadata": {
      "byteLimit": 2048000,
      "rowLimit": 10000
     },
     "inputWidgets": {},
     "nuid": "611677b6-8f73-4ffe-ae11-370c4d99773a",
     "showTitle": false,
     "tableResultSettingsMap": {},
     "title": ""
    }
   },
   "outputs": [],
   "source": [
    "import spacy\n",
    "from collections import deque\n",
    "from itertools import islice\n",
    "# from thefuzz import fuzz\n",
    "from sentence_transformers import SentenceTransformer\n",
    "from sentence_transformers.util import cos_sim"
   ]
  },
  {
   "cell_type": "code",
   "execution_count": 0,
   "metadata": {
    "application/vnd.databricks.v1+cell": {
     "cellMetadata": {
      "byteLimit": 2048000,
      "rowLimit": 10000
     },
     "inputWidgets": {},
     "nuid": "973e5f3b-43f3-4de8-9968-7c48df467c7c",
     "showTitle": false,
     "tableResultSettingsMap": {},
     "title": ""
    }
   },
   "outputs": [],
   "source": [
    "!python -m spacy download en_core_web_sm"
   ]
  },
  {
   "cell_type": "code",
   "execution_count": 0,
   "metadata": {
    "application/vnd.databricks.v1+cell": {
     "cellMetadata": {
      "byteLimit": 2048000,
      "rowLimit": 10000
     },
     "inputWidgets": {},
     "nuid": "998d8ee6-cf1a-4c5c-953e-f563f252b9b2",
     "showTitle": false,
     "tableResultSettingsMap": {},
     "title": ""
    }
   },
   "outputs": [],
   "source": [
    "class RepetitionNgramAnalysis:\n",
    "    def __init__(self):\n",
    "        self.nlp = spacy.load(\"en_core_web_sm\")\n",
    "        self.sbert = SentenceTransformer(\"all-MiniLM-L6-v2\")\n",
    "\n",
    "        self.context_uni = deque(maxlen=5)\n",
    "        self.context_bi  = deque(maxlen=10)\n",
    "        self.context_tri = deque(maxlen=15)\n",
    "\n",
    "    def ngrams(self, doc, n):\n",
    "        return list(zip(*(islice(doc, i, None) for i in range(n))))\n",
    "\n",
    "    def search(self, ngrams, doc, context, comparator=\"exact_match\", sim_threshold=0.95):\n",
    "        for ng in ngrams:\n",
    "            for ctxt in context:             \n",
    "                print(ng, ctxt)\n",
    "                phrase1 = \" \".join([tok.lemma_.lower() for tok in ng])\n",
    "                phrase2 = \" \".join([tok.lemma_.lower() for tok in ctxt])\n",
    "                print(phrase1, phrase2)\n",
    "\n",
    "                if comparator == \"exact_match\":\n",
    "                    if phrase1 == phrase2:\n",
    "                        print(\"REPETITION\")                        \n",
    "                elif comparator == \"spacy_sim\":\n",
    "                    print(doc[ng[0].i, ng[-1].i])\n",
    "                    print(doc[ctxt[0].i, ctxt[-1].i])\n",
    "                    raise NotImplementedError(f\"Comparator {comparator} not implemented.\")\n",
    "                # elif comparator == \"fuzzy_ratio\":\n",
    "                #     if fuzz.ratio(phrase1, phrase2) >= sim_threshold:\n",
    "                #         print(\"REPETITION\")\n",
    "                # elif comparator == \"fuzzy_pratio\":\n",
    "                #     if fuzz.partial_ratio(phrase1, phrase2) >= sim_threshold:\n",
    "                #         print(\"REPETITION\")\n",
    "                elif comparator == \"sbert_sim\":\n",
    "                    raise NotImplementedError(f\"Comparator {comparator} not implemented.\")\n",
    "                else:\n",
    "                    raise NotImplementedError(f\"Comparator {comparator} not implemented.\")\n",
    "\n",
    "            context.append(ng)\n",
    "\n",
    "    def detect(self, text):\n",
    "        doc = self.nlp(text)    # tokenize text\n",
    "\n",
    "        output = np.zeros(len(doc))\n",
    "\n",
    "        unigrams = self.ngrams(doc, 1)\n",
    "        self.search(unigrams, doc, self.context_uni, \"exact_match\")\n",
    "\n",
    "        # bigrams = self.ngrams(doc, 6)\n",
    "        # self.search(bigrams, 6, 0, 0.7)"
   ]
  },
  {
   "cell_type": "code",
   "execution_count": 0,
   "metadata": {
    "application/vnd.databricks.v1+cell": {
     "cellMetadata": {
      "byteLimit": 2048000,
      "rowLimit": 10000
     },
     "inputWidgets": {},
     "nuid": "d8fefc7a-027f-4747-ad03-7f6682661edb",
     "showTitle": false,
     "tableResultSettingsMap": {},
     "title": ""
    }
   },
   "outputs": [],
   "source": [
    "d = RepetitionNgramAnalysis()\n",
    "\n",
    "outputs = []\n",
    "for i, utt in data.iterrows():\n",
    "    if utt[\"Speaker\"] == \"Patient\":\n",
    "        outputs.append( d.detect(utt[\"Transcript_clean\"]) )"
   ]
  },
  {
   "cell_type": "code",
   "execution_count": 0,
   "metadata": {
    "application/vnd.databricks.v1+cell": {
     "cellMetadata": {
      "byteLimit": 2048000,
      "rowLimit": 10000
     },
     "inputWidgets": {},
     "nuid": "f79f0b1b-b49d-436d-889c-f78d1af8661b",
     "showTitle": false,
     "tableResultSettingsMap": {},
     "title": ""
    }
   },
   "outputs": [],
   "source": [
    "d = RepetitionNgramAnalysis()\n",
    "d.detect(\"and I said the uh little sister's  uh reach Johnny's  Johnny he is  uh he is up on the ladder uh get gettin some cookies and the little sister reachin up  reach reaching up after some .\")"
   ]
  },
  {
   "cell_type": "code",
   "execution_count": 0,
   "metadata": {
    "application/vnd.databricks.v1+cell": {
     "cellMetadata": {
      "byteLimit": 2048000,
      "rowLimit": 10000
     },
     "inputWidgets": {},
     "nuid": "518801ab-c508-451a-bdc3-5c1ffbed5566",
     "showTitle": false,
     "tableResultSettingsMap": {},
     "title": ""
    }
   },
   "outputs": [],
   "source": [
    "data.loc[data[\"Repetitive speech\"] == 1, (\"Transcript\", \"Transcript_clean\")].values"
   ]
  }
 ],
 "metadata": {
  "application/vnd.databricks.v1+notebook": {
   "computePreferences": null,
   "dashboards": [],
   "environmentMetadata": {
    "base_environment": "",
    "environment_version": "2"
   },
   "inputWidgetPreferences": null,
   "language": "python",
   "notebookMetadata": {
    "pythonIndentUnit": 4
   },
   "notebookName": "04_Repetitive_Speech",
   "widgets": {}
  },
  "language_info": {
   "name": "python"
  }
 },
 "nbformat": 4,
 "nbformat_minor": 0
}
