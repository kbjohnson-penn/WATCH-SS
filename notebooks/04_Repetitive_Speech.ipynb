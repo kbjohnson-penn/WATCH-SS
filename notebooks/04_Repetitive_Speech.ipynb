{
 "cells": [
  {
   "cell_type": "code",
   "execution_count": 0,
   "metadata": {
    "application/vnd.databricks.v1+cell": {
     "cellMetadata": {
      "byteLimit": 2048000,
      "rowLimit": 10000
     },
     "inputWidgets": {},
     "nuid": "2917529a-0ba5-42a4-930d-5fd7e78fb584",
     "showTitle": false,
     "tableResultSettingsMap": {},
     "title": ""
    }
   },
   "outputs": [],
   "source": [
    "%load_ext autoreload\n",
    "%autoreload 1\n",
    "%aimport data.adress"
   ]
  },
  {
   "cell_type": "code",
   "execution_count": 0,
   "metadata": {
    "application/vnd.databricks.v1+cell": {
     "cellMetadata": {
      "byteLimit": 2048000,
      "rowLimit": 10000
     },
     "inputWidgets": {},
     "nuid": "5e67d695-263e-4656-9b37-449fc567d635",
     "showTitle": false,
     "tableResultSettingsMap": {},
     "title": ""
    }
   },
   "outputs": [],
   "source": [
    "import sys\n",
    "sys.path.append(\"..\")\n",
    "import pickle\n",
    "from pprint import pprint"
   ]
  },
  {
   "cell_type": "markdown",
   "metadata": {
    "application/vnd.databricks.v1+cell": {
     "cellMetadata": {},
     "inputWidgets": {},
     "nuid": "69670ea8-82e9-42cb-a7b9-93388c3a9b1e",
     "showTitle": false,
     "tableResultSettingsMap": {},
     "title": ""
    }
   },
   "source": [
    "### Validation Data"
   ]
  },
  {
   "cell_type": "code",
   "execution_count": 0,
   "metadata": {
    "application/vnd.databricks.v1+cell": {
     "cellMetadata": {
      "byteLimit": 2048000,
      "rowLimit": 10000
     },
     "inputWidgets": {},
     "nuid": "53af97ae-a28c-4b02-9bb9-38bc9dd6b896",
     "showTitle": false,
     "tableResultSettingsMap": {},
     "title": ""
    }
   },
   "outputs": [],
   "source": [
    "from data.adress import load_CHAT_transcripts\n",
    "\n",
    "data = load_CHAT_transcripts()\n",
    "data = data[[\"Speaker\", \"Transcript\", \"Transcript_clean\", \"Utterance\", \"Repetitive speech\"]]\n",
    "data.head()"
   ]
  },
  {
   "cell_type": "code",
   "execution_count": 0,
   "metadata": {
    "application/vnd.databricks.v1+cell": {
     "cellMetadata": {
      "byteLimit": 2048000,
      "rowLimit": 10000
     },
     "inputWidgets": {},
     "nuid": "5b53a9b0-76cc-48ba-80fb-bafe8cabca79",
     "showTitle": false,
     "tableResultSettingsMap": {},
     "title": ""
    }
   },
   "outputs": [],
   "source": [
    "data.loc[data[\"Repetitive speech\"] == 1, \"Transcript\"].values"
   ]
  },
  {
   "cell_type": "code",
   "execution_count": 0,
   "metadata": {
    "application/vnd.databricks.v1+cell": {
     "cellMetadata": {
      "byteLimit": 2048000,
      "rowLimit": 10000
     },
     "inputWidgets": {},
     "nuid": "eb243d78-6be5-42a7-a8f1-c485a10273d8",
     "showTitle": false,
     "tableResultSettingsMap": {},
     "title": ""
    }
   },
   "outputs": [],
   "source": [
    "data.loc[data[\"Repetitive speech\"] == 1, \"Utterance\"].values"
   ]
  },
  {
   "cell_type": "markdown",
   "metadata": {
    "application/vnd.databricks.v1+cell": {
     "cellMetadata": {},
     "inputWidgets": {},
     "nuid": "04688e6a-c7cb-4760-9141-311b39d47fa7",
     "showTitle": false,
     "tableResultSettingsMap": {},
     "title": ""
    }
   },
   "source": [
    "## LLM-Based Detector"
   ]
  },
  {
   "cell_type": "code",
   "execution_count": 0,
   "metadata": {
    "application/vnd.databricks.v1+cell": {
     "cellMetadata": {
      "byteLimit": 2048000,
      "rowLimit": 10000
     },
     "inputWidgets": {},
     "nuid": "2077f32f-65ae-4606-aafe-9c8823f99c94",
     "showTitle": false,
     "tableResultSettingsMap": {},
     "title": ""
    }
   },
   "outputs": [],
   "source": [
    "from openai import OpenAI\n",
    "\n",
    "DATABRICKS_TOKEN    = dbutils.notebook.entry_point.getDbutils().notebook().getContext().apiToken().get()\n",
    "DB_ENDPOINT_URL     = \"https://adb-2035410508966251.11.azuredatabricks.net/serving-endpoints\"\n",
    "\n",
    "client = OpenAI(api_key=DATABRICKS_TOKEN, base_url=DB_ENDPOINT_URL)"
   ]
  },
  {
   "cell_type": "code",
   "execution_count": 0,
   "metadata": {
    "application/vnd.databricks.v1+cell": {
     "cellMetadata": {
      "byteLimit": 2048000,
      "rowLimit": 10000
     },
     "inputWidgets": {},
     "nuid": "c50afa8a-d8a5-4078-9085-1ae6c3c751df",
     "showTitle": false,
     "tableResultSettingsMap": {},
     "title": ""
    }
   },
   "outputs": [],
   "source": [
    "def run(prompt, model, utt_per_query):\n",
    "    outputs = []\n",
    "    for (trn_tst, pt_id), transcript in data.groupby(level=[\"train_test\", \"patient_id\"]):\n",
    "        for end in range(transcript.shape[0]):\n",
    "            # Skip provider turns\n",
    "            if transcript.loc[(trn_tst, pt_id, end), \"Speaker\"] == \"Provider\":\n",
    "                continue\n",
    "\n",
    "            # Sliding window\n",
    "            start = max(0, end - utt_per_query + 1)\n",
    "            text = \"\\n\".join(transcript.loc[(slice(None), slice(None), slice(start, end)), \"Utterance\"].to_list())\n",
    "\n",
    "            # Execute query\n",
    "            response = client.chat.completions.create(\n",
    "                model=model, \n",
    "                messages=[\n",
    "                    {\n",
    "                        \"role\": \"user\", \n",
    "                        \"content\": prompt.format(text)\n",
    "                    }\n",
    "                ]\n",
    "            )\n",
    "            outputs.append(response.choices[0].message.content)\n",
    "\n",
    "    return outputs"
   ]
  },
  {
   "cell_type": "markdown",
   "metadata": {
    "application/vnd.databricks.v1+cell": {
     "cellMetadata": {},
     "inputWidgets": {},
     "nuid": "23c4066a-04e4-4bd1-8c38-eb46d788d1f5",
     "showTitle": false,
     "tableResultSettingsMap": {},
     "title": ""
    }
   },
   "source": [
    "### Prompts\n",
    "Best version: v1"
   ]
  },
  {
   "cell_type": "code",
   "execution_count": 0,
   "metadata": {
    "application/vnd.databricks.v1+cell": {
     "cellMetadata": {
      "byteLimit": 2048000,
      "rowLimit": 10000
     },
     "inputWidgets": {},
     "nuid": "9931f132-0150-4659-896f-07747e6bb4e8",
     "showTitle": false,
     "tableResultSettingsMap": {},
     "title": ""
    }
   },
   "outputs": [],
   "source": [
    "prompt_v1 = \"Identify all instances where the patient repeats the same sounds, words, or phrases--either consecutively or non-consecutively--in a way that indicates cognitive impairment in the following utterance:\\n\\n{}\\n\\nReturn a bullet point list, where each bullet contains a complete quote of the full phrase in which the repetition occurs, exactly as spoken by the patient. Start the quote at the first repeated sound, word, or phrase and end the quote after the last repeated sound, word, or phrase. Do not include any explanations. Do not include repetition prompted by the provider. If no repetitions are found, return \\\"None\\\".\""
   ]
  },
  {
   "cell_type": "code",
   "execution_count": 0,
   "metadata": {
    "application/vnd.databricks.v1+cell": {
     "cellMetadata": {
      "byteLimit": 2048000,
      "rowLimit": 10000
     },
     "inputWidgets": {},
     "nuid": "d40a2959-fba4-4206-9aa4-818aa08538b9",
     "showTitle": false,
     "tableResultSettingsMap": {},
     "title": ""
    }
   },
   "outputs": [],
   "source": [
    "outputs = run(prompt_v1, \"openai_gpt_4o\", 1)"
   ]
  },
  {
   "cell_type": "code",
   "execution_count": 0,
   "metadata": {
    "application/vnd.databricks.v1+cell": {
     "cellMetadata": {},
     "inputWidgets": {},
     "nuid": "56561669-cc9d-444f-860e-5e0586ca7fc1",
     "showTitle": false,
     "tableResultSettingsMap": {},
     "title": ""
    }
   },
   "outputs": [],
   "source": [
    "with open(\"outputs_repetitive_speech.pkl\", \"wb\") as f:\n",
    "    pickle.dump(outputs, f)"
   ]
  },
  {
   "cell_type": "markdown",
   "metadata": {
    "application/vnd.databricks.v1+cell": {
     "cellMetadata": {},
     "inputWidgets": {},
     "nuid": "2d37c923-aecf-4769-8798-dfebaa239897",
     "showTitle": false,
     "tableResultSettingsMap": {},
     "title": ""
    }
   },
   "source": [
    "### DEMO"
   ]
  },
  {
   "cell_type": "code",
   "execution_count": 0,
   "metadata": {
    "application/vnd.databricks.v1+cell": {
     "cellMetadata": {
      "byteLimit": 2048000,
      "rowLimit": 10000
     },
     "inputWidgets": {},
     "nuid": "37c642b6-c1f7-4ddc-9ab1-ae04de0047f0",
     "showTitle": false,
     "tableResultSettingsMap": {},
     "title": ""
    }
   },
   "outputs": [],
   "source": [
    "demo_data = \"\"\"PATIENT: um I don’t know why they brought me in to see you, to be honest with you.\n",
    "\n",
    "PATIENT: um I would say that um and for my members, pretty good. But there’s a. So, you know, some things I forget.\n",
    "\n",
    "PATIENT: You know, to be honest with you. Yeah. You know, I don’t forget too much uh on this with you.\n",
    "\n",
    "PATIENT: Well um I live alone, so I make my meals. I um I go out to the store myself with my walker with the weather’s nice and it’s not too far. And I um you know. I talk to my friends on the phone, things like that.\n",
    "\n",
    "PATIENT: I sleep well.\n",
    "\n",
    "PATIENT: No, well, you know, in the afternoon, late afternoon, I start watching television at 5 o’clock.\n",
    "\n",
    "PATIENT: No, I do not.\n",
    "\n",
    "PATIENT: My mood? Or why, you know uh you know, not a whole lot of things I can do. You know, I’m happy to.\n",
    "\n",
    "PATIENT: And so uh doesn’t seem that old to me. OK, because you know, I wish. Yeah. Yeah. And she lived alone for most of the time. Just towards the end. She needed help.\n",
    "\n",
    "PATIENT: Yeah.\n",
    "\n",
    "PATIENT: That’s.\n",
    "\n",
    "PATIENT: Yeah.\n",
    "\n",
    "PATIENT: Oh. Oh, well, I did home care.\n",
    "\n",
    "PATIENT: I didn’t. When they gave me.\n",
    "\n",
    "PATIENT: Yeah\n",
    "\n",
    "PATIENT: I love my job. But I finally had to, you know, driving. I couldn’t drive. It wasn’t safe for me to be driving around\n",
    "\n",
    "PATIENT: Well, I was pretty old. I worked till I was something they didn’t know it.\n",
    "\n",
    "PATIENT: I did not know how old I was.\n",
    "\n",
    "PATIENT: uh So I was able to get away with working. I think I was soft too. And I, OK, when I finally said, look, you know uh I’m done.\n",
    "\n",
    "PATIENT: Would I go by?\n",
    "\n",
    "PATIENT: I’m in. I mean, questioned\n",
    "\n",
    "PATIENT: um The date today is um Oh um I’m not sure. And maybe maybe the seven close clothes. What is it? Those things um I think it’s um Tuesday. You know\n",
    "\n",
    "PATIENT: Oh, Friday. I was I was thinking. Friday. But anyway, it’s all right uh I made a mistake.\n",
    "\n",
    "PATIENT: 2024.\n",
    "\n",
    "PATIENT: L R O W.\n",
    "\n",
    "PATIENT: Yeah.\n",
    "\n",
    "PATIENT: um Oh.\n",
    "\n",
    "PATIENT: Oh, Carmella uh Carmella. Carmella.\n",
    "\n",
    "PATIENT: Carmella. Carmella. I can’t think of the right name. But she’s going to be our next president. Maybe\n",
    "\n",
    "PATIENT: um something I’ve seen recently. Well, I see Carmela and her partner. She recently got a vice president. So I watch that.\n",
    "\n",
    "PATIENT: Oh, I can’t remember his name. The uh short name is a short name. He does. Yeah, I don’t know what it is at the. Moment.\n",
    "\n",
    "PATIENT: This what you mean your thumb or the thumb?\n",
    "\n",
    "PATIENT: Knuckles.\n",
    "\n",
    "PATIENT: cactus?\n",
    "\n",
    "PATIENT: What’s what?\"\"\"\n",
    "\n",
    "demo_data = demo_data.split(\"\\n\\n\")"
   ]
  },
  {
   "cell_type": "code",
   "execution_count": 0,
   "metadata": {
    "application/vnd.databricks.v1+cell": {
     "cellMetadata": {
      "byteLimit": 2048000,
      "rowLimit": 10000
     },
     "inputWidgets": {},
     "nuid": "14b7f6c4-9919-49aa-9a01-8c3c8502ef94",
     "showTitle": false,
     "tableResultSettingsMap": {},
     "title": ""
    }
   },
   "outputs": [],
   "source": [
    "vague_prompt = \"Determine if the following utterance includes speech that is syntactically correct but conveys little or no overall meaning, often as a result of substituting general words (e.g., \\\"thing\\\", \\\"stuff\\\") for more specific words:\\n\\n{}\\n\\nIf the speech is vague output \\\"yes\\\", otherwise \\\"no\\\".\""
   ]
  },
  {
   "cell_type": "code",
   "execution_count": 0,
   "metadata": {
    "application/vnd.databricks.v1+cell": {
     "cellMetadata": {
      "byteLimit": 2048000,
      "rowLimit": 10000
     },
     "inputWidgets": {},
     "nuid": "ec980178-1cd1-4989-ba4d-35b2ef44cf52",
     "showTitle": false,
     "tableResultSettingsMap": {},
     "title": ""
    }
   },
   "outputs": [],
   "source": [
    "outputs = []\n",
    "for text in demo_data:\n",
    "    # Execute query\n",
    "    response = client.chat.completions.create(\n",
    "        model=\"openai_gpt_4o\", \n",
    "        messages=[\n",
    "            {\n",
    "                \"role\": \"user\", \n",
    "                \"content\": vague_prompt.format(text)\n",
    "            }\n",
    "        ]\n",
    "    )\n",
    "    outputs.append(response.choices[0].message.content)"
   ]
  },
  {
   "cell_type": "code",
   "execution_count": 0,
   "metadata": {
    "application/vnd.databricks.v1+cell": {
     "cellMetadata": {
      "byteLimit": 2048000,
      "rowLimit": 10000
     },
     "inputWidgets": {},
     "nuid": "c47519e6-7908-490f-85db-24da11f03d49",
     "showTitle": false,
     "tableResultSettingsMap": {},
     "title": ""
    }
   },
   "outputs": [],
   "source": [
    "pprint(list(zip(demo_data,outputs)))"
   ]
  },
  {
   "cell_type": "code",
   "execution_count": 0,
   "metadata": {
    "application/vnd.databricks.v1+cell": {
     "cellMetadata": {},
     "inputWidgets": {},
     "nuid": "611677b6-8f73-4ffe-ae11-370c4d99773a",
     "showTitle": false,
     "tableResultSettingsMap": {},
     "title": ""
    }
   },
   "outputs": [],
   "source": []
  }
 ],
 "metadata": {
  "application/vnd.databricks.v1+notebook": {
   "computePreferences": null,
   "dashboards": [],
   "environmentMetadata": {
    "base_environment": "",
    "environment_version": "2"
   },
   "inputWidgetPreferences": null,
   "language": "python",
   "notebookMetadata": {
    "pythonIndentUnit": 4
   },
   "notebookName": "04_Repetitive_Speech",
   "widgets": {}
  },
  "language_info": {
   "name": "python"
  }
 },
 "nbformat": 4,
 "nbformat_minor": 0
}
